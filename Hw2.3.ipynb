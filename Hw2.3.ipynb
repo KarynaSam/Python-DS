{
  "nbformat": 4,
  "nbformat_minor": 0,
  "metadata": {
    "colab": {
      "provenance": []
    },
    "kernelspec": {
      "name": "python3",
      "display_name": "Python 3"
    },
    "language_info": {
      "name": "python"
    }
  },
  "cells": [
    {
      "cell_type": "markdown",
      "source": [
        "Для цієї вправи ми використовуємо дані за Топ-50 рейтингом книг, що найбільше продаються на Amazon за 11 років (з 2009 по 2019). Датасет знаходиться у відкритому доступі на Kaggle.com. Завантажте файл csv за посиланням і перемістіть його в ту саму директорію, де знаходиться ваш робочий ноутбук (для зручності). Після цього переходьте до завдання\n",
        "\n",
        "Для виконання цієї частини домашнього завдання потрібно буде не тільки написати код, а й відповісти на супутні запитання. Там, де ви побачите виділений жирним шрифтом напис відповідь: потрібно буде вставити питання у файл і відповідь на нього.\n",
        "\n",
        "Наприклад:\n",
        "\n",
        "Яка бібліотека використовується для роботи з датафреймами у python? Відповідь: pandas\n",
        "\n",
        "Необхідно виконати:\n",
        "\n",
        "Прочитайте csv файл (використовуйте функцію read_csv)"
      ],
      "metadata": {
        "id": "a-7YFt5frLRd"
      }
    },
    {
      "cell_type": "code",
      "source": [
        "!pip install seaborn"
      ],
      "metadata": {
        "id": "aduHnGrrcdfg",
        "outputId": "f01aaf48-eba1-4574-a363-52db26ae49c8",
        "colab": {
          "base_uri": "https://localhost:8080/"
        }
      },
      "execution_count": 1,
      "outputs": [
        {
          "output_type": "stream",
          "name": "stdout",
          "text": [
            "Requirement already satisfied: seaborn in /usr/local/lib/python3.10/dist-packages (0.12.2)\n",
            "Requirement already satisfied: numpy!=1.24.0,>=1.17 in /usr/local/lib/python3.10/dist-packages (from seaborn) (1.23.5)\n",
            "Requirement already satisfied: pandas>=0.25 in /usr/local/lib/python3.10/dist-packages (from seaborn) (1.5.3)\n",
            "Requirement already satisfied: matplotlib!=3.6.1,>=3.1 in /usr/local/lib/python3.10/dist-packages (from seaborn) (3.7.1)\n",
            "Requirement already satisfied: contourpy>=1.0.1 in /usr/local/lib/python3.10/dist-packages (from matplotlib!=3.6.1,>=3.1->seaborn) (1.1.0)\n",
            "Requirement already satisfied: cycler>=0.10 in /usr/local/lib/python3.10/dist-packages (from matplotlib!=3.6.1,>=3.1->seaborn) (0.11.0)\n",
            "Requirement already satisfied: fonttools>=4.22.0 in /usr/local/lib/python3.10/dist-packages (from matplotlib!=3.6.1,>=3.1->seaborn) (4.42.0)\n",
            "Requirement already satisfied: kiwisolver>=1.0.1 in /usr/local/lib/python3.10/dist-packages (from matplotlib!=3.6.1,>=3.1->seaborn) (1.4.4)\n",
            "Requirement already satisfied: packaging>=20.0 in /usr/local/lib/python3.10/dist-packages (from matplotlib!=3.6.1,>=3.1->seaborn) (23.1)\n",
            "Requirement already satisfied: pillow>=6.2.0 in /usr/local/lib/python3.10/dist-packages (from matplotlib!=3.6.1,>=3.1->seaborn) (9.4.0)\n",
            "Requirement already satisfied: pyparsing>=2.3.1 in /usr/local/lib/python3.10/dist-packages (from matplotlib!=3.6.1,>=3.1->seaborn) (3.1.1)\n",
            "Requirement already satisfied: python-dateutil>=2.7 in /usr/local/lib/python3.10/dist-packages (from matplotlib!=3.6.1,>=3.1->seaborn) (2.8.2)\n",
            "Requirement already satisfied: pytz>=2020.1 in /usr/local/lib/python3.10/dist-packages (from pandas>=0.25->seaborn) (2023.3)\n",
            "Requirement already satisfied: six>=1.5 in /usr/local/lib/python3.10/dist-packages (from python-dateutil>=2.7->matplotlib!=3.6.1,>=3.1->seaborn) (1.16.0)\n"
          ]
        }
      ]
    },
    {
      "cell_type": "code",
      "source": [
        "import pandas as pd\n",
        "import seaborn as sns\n",
        "\n",
        "books = pd.read_csv(\"bestsellers with categories.csv\")\n",
        "books"
      ],
      "metadata": {
        "colab": {
          "base_uri": "https://localhost:8080/",
          "height": 423
        },
        "id": "UiJ9DVx3rYfD",
        "outputId": "a6ddf881-36b3-4ce8-d75f-1d0a0fb52d8a"
      },
      "execution_count": 5,
      "outputs": [
        {
          "output_type": "execute_result",
          "data": {
            "text/plain": [
              "                                                  Name  \\\n",
              "0                        10-Day Green Smoothie Cleanse   \n",
              "1                                    11/22/63: A Novel   \n",
              "2              12 Rules for Life: An Antidote to Chaos   \n",
              "3                               1984 (Signet Classics)   \n",
              "4    5,000 Awesome Facts (About Everything!) (Natio...   \n",
              "..                                                 ...   \n",
              "545       Wrecking Ball (Diary of a Wimpy Kid Book 14)   \n",
              "546  You Are a Badass: How to Stop Doubting Your Gr...   \n",
              "547  You Are a Badass: How to Stop Doubting Your Gr...   \n",
              "548  You Are a Badass: How to Stop Doubting Your Gr...   \n",
              "549  You Are a Badass: How to Stop Doubting Your Gr...   \n",
              "\n",
              "                       Author  User Rating  Reviews  Price  Year        Genre  \n",
              "0                    JJ Smith          4.7    17350      8  2016  Non Fiction  \n",
              "1                Stephen King          4.6     2052     22  2011      Fiction  \n",
              "2          Jordan B. Peterson          4.7    18979     15  2018  Non Fiction  \n",
              "3               George Orwell          4.7    21424      6  2017      Fiction  \n",
              "4    National Geographic Kids          4.8     7665     12  2019  Non Fiction  \n",
              "..                        ...          ...      ...    ...   ...          ...  \n",
              "545               Jeff Kinney          4.9     9413      8  2019      Fiction  \n",
              "546               Jen Sincero          4.7    14331      8  2016  Non Fiction  \n",
              "547               Jen Sincero          4.7    14331      8  2017  Non Fiction  \n",
              "548               Jen Sincero          4.7    14331      8  2018  Non Fiction  \n",
              "549               Jen Sincero          4.7    14331      8  2019  Non Fiction  \n",
              "\n",
              "[550 rows x 7 columns]"
            ],
            "text/html": [
              "\n",
              "  <div id=\"df-b03cd961-9c91-4e78-8184-b2326ae728da\" class=\"colab-df-container\">\n",
              "    <div>\n",
              "<style scoped>\n",
              "    .dataframe tbody tr th:only-of-type {\n",
              "        vertical-align: middle;\n",
              "    }\n",
              "\n",
              "    .dataframe tbody tr th {\n",
              "        vertical-align: top;\n",
              "    }\n",
              "\n",
              "    .dataframe thead th {\n",
              "        text-align: right;\n",
              "    }\n",
              "</style>\n",
              "<table border=\"1\" class=\"dataframe\">\n",
              "  <thead>\n",
              "    <tr style=\"text-align: right;\">\n",
              "      <th></th>\n",
              "      <th>Name</th>\n",
              "      <th>Author</th>\n",
              "      <th>User Rating</th>\n",
              "      <th>Reviews</th>\n",
              "      <th>Price</th>\n",
              "      <th>Year</th>\n",
              "      <th>Genre</th>\n",
              "    </tr>\n",
              "  </thead>\n",
              "  <tbody>\n",
              "    <tr>\n",
              "      <th>0</th>\n",
              "      <td>10-Day Green Smoothie Cleanse</td>\n",
              "      <td>JJ Smith</td>\n",
              "      <td>4.7</td>\n",
              "      <td>17350</td>\n",
              "      <td>8</td>\n",
              "      <td>2016</td>\n",
              "      <td>Non Fiction</td>\n",
              "    </tr>\n",
              "    <tr>\n",
              "      <th>1</th>\n",
              "      <td>11/22/63: A Novel</td>\n",
              "      <td>Stephen King</td>\n",
              "      <td>4.6</td>\n",
              "      <td>2052</td>\n",
              "      <td>22</td>\n",
              "      <td>2011</td>\n",
              "      <td>Fiction</td>\n",
              "    </tr>\n",
              "    <tr>\n",
              "      <th>2</th>\n",
              "      <td>12 Rules for Life: An Antidote to Chaos</td>\n",
              "      <td>Jordan B. Peterson</td>\n",
              "      <td>4.7</td>\n",
              "      <td>18979</td>\n",
              "      <td>15</td>\n",
              "      <td>2018</td>\n",
              "      <td>Non Fiction</td>\n",
              "    </tr>\n",
              "    <tr>\n",
              "      <th>3</th>\n",
              "      <td>1984 (Signet Classics)</td>\n",
              "      <td>George Orwell</td>\n",
              "      <td>4.7</td>\n",
              "      <td>21424</td>\n",
              "      <td>6</td>\n",
              "      <td>2017</td>\n",
              "      <td>Fiction</td>\n",
              "    </tr>\n",
              "    <tr>\n",
              "      <th>4</th>\n",
              "      <td>5,000 Awesome Facts (About Everything!) (Natio...</td>\n",
              "      <td>National Geographic Kids</td>\n",
              "      <td>4.8</td>\n",
              "      <td>7665</td>\n",
              "      <td>12</td>\n",
              "      <td>2019</td>\n",
              "      <td>Non Fiction</td>\n",
              "    </tr>\n",
              "    <tr>\n",
              "      <th>...</th>\n",
              "      <td>...</td>\n",
              "      <td>...</td>\n",
              "      <td>...</td>\n",
              "      <td>...</td>\n",
              "      <td>...</td>\n",
              "      <td>...</td>\n",
              "      <td>...</td>\n",
              "    </tr>\n",
              "    <tr>\n",
              "      <th>545</th>\n",
              "      <td>Wrecking Ball (Diary of a Wimpy Kid Book 14)</td>\n",
              "      <td>Jeff Kinney</td>\n",
              "      <td>4.9</td>\n",
              "      <td>9413</td>\n",
              "      <td>8</td>\n",
              "      <td>2019</td>\n",
              "      <td>Fiction</td>\n",
              "    </tr>\n",
              "    <tr>\n",
              "      <th>546</th>\n",
              "      <td>You Are a Badass: How to Stop Doubting Your Gr...</td>\n",
              "      <td>Jen Sincero</td>\n",
              "      <td>4.7</td>\n",
              "      <td>14331</td>\n",
              "      <td>8</td>\n",
              "      <td>2016</td>\n",
              "      <td>Non Fiction</td>\n",
              "    </tr>\n",
              "    <tr>\n",
              "      <th>547</th>\n",
              "      <td>You Are a Badass: How to Stop Doubting Your Gr...</td>\n",
              "      <td>Jen Sincero</td>\n",
              "      <td>4.7</td>\n",
              "      <td>14331</td>\n",
              "      <td>8</td>\n",
              "      <td>2017</td>\n",
              "      <td>Non Fiction</td>\n",
              "    </tr>\n",
              "    <tr>\n",
              "      <th>548</th>\n",
              "      <td>You Are a Badass: How to Stop Doubting Your Gr...</td>\n",
              "      <td>Jen Sincero</td>\n",
              "      <td>4.7</td>\n",
              "      <td>14331</td>\n",
              "      <td>8</td>\n",
              "      <td>2018</td>\n",
              "      <td>Non Fiction</td>\n",
              "    </tr>\n",
              "    <tr>\n",
              "      <th>549</th>\n",
              "      <td>You Are a Badass: How to Stop Doubting Your Gr...</td>\n",
              "      <td>Jen Sincero</td>\n",
              "      <td>4.7</td>\n",
              "      <td>14331</td>\n",
              "      <td>8</td>\n",
              "      <td>2019</td>\n",
              "      <td>Non Fiction</td>\n",
              "    </tr>\n",
              "  </tbody>\n",
              "</table>\n",
              "<p>550 rows × 7 columns</p>\n",
              "</div>\n",
              "    <div class=\"colab-df-buttons\">\n",
              "\n",
              "  <div class=\"colab-df-container\">\n",
              "    <button class=\"colab-df-convert\" onclick=\"convertToInteractive('df-b03cd961-9c91-4e78-8184-b2326ae728da')\"\n",
              "            title=\"Convert this dataframe to an interactive table.\"\n",
              "            style=\"display:none;\">\n",
              "\n",
              "  <svg xmlns=\"http://www.w3.org/2000/svg\" height=\"24px\" viewBox=\"0 -960 960 960\">\n",
              "    <path d=\"M120-120v-720h720v720H120Zm60-500h600v-160H180v160Zm220 220h160v-160H400v160Zm0 220h160v-160H400v160ZM180-400h160v-160H180v160Zm440 0h160v-160H620v160ZM180-180h160v-160H180v160Zm440 0h160v-160H620v160Z\"/>\n",
              "  </svg>\n",
              "    </button>\n",
              "\n",
              "  <style>\n",
              "    .colab-df-container {\n",
              "      display:flex;\n",
              "      gap: 12px;\n",
              "    }\n",
              "\n",
              "    .colab-df-convert {\n",
              "      background-color: #E8F0FE;\n",
              "      border: none;\n",
              "      border-radius: 50%;\n",
              "      cursor: pointer;\n",
              "      display: none;\n",
              "      fill: #1967D2;\n",
              "      height: 32px;\n",
              "      padding: 0 0 0 0;\n",
              "      width: 32px;\n",
              "    }\n",
              "\n",
              "    .colab-df-convert:hover {\n",
              "      background-color: #E2EBFA;\n",
              "      box-shadow: 0px 1px 2px rgba(60, 64, 67, 0.3), 0px 1px 3px 1px rgba(60, 64, 67, 0.15);\n",
              "      fill: #174EA6;\n",
              "    }\n",
              "\n",
              "    .colab-df-buttons div {\n",
              "      margin-bottom: 4px;\n",
              "    }\n",
              "\n",
              "    [theme=dark] .colab-df-convert {\n",
              "      background-color: #3B4455;\n",
              "      fill: #D2E3FC;\n",
              "    }\n",
              "\n",
              "    [theme=dark] .colab-df-convert:hover {\n",
              "      background-color: #434B5C;\n",
              "      box-shadow: 0px 1px 3px 1px rgba(0, 0, 0, 0.15);\n",
              "      filter: drop-shadow(0px 1px 2px rgba(0, 0, 0, 0.3));\n",
              "      fill: #FFFFFF;\n",
              "    }\n",
              "  </style>\n",
              "\n",
              "    <script>\n",
              "      const buttonEl =\n",
              "        document.querySelector('#df-b03cd961-9c91-4e78-8184-b2326ae728da button.colab-df-convert');\n",
              "      buttonEl.style.display =\n",
              "        google.colab.kernel.accessAllowed ? 'block' : 'none';\n",
              "\n",
              "      async function convertToInteractive(key) {\n",
              "        const element = document.querySelector('#df-b03cd961-9c91-4e78-8184-b2326ae728da');\n",
              "        const dataTable =\n",
              "          await google.colab.kernel.invokeFunction('convertToInteractive',\n",
              "                                                    [key], {});\n",
              "        if (!dataTable) return;\n",
              "\n",
              "        const docLinkHtml = 'Like what you see? Visit the ' +\n",
              "          '<a target=\"_blank\" href=https://colab.research.google.com/notebooks/data_table.ipynb>data table notebook</a>'\n",
              "          + ' to learn more about interactive tables.';\n",
              "        element.innerHTML = '';\n",
              "        dataTable['output_type'] = 'display_data';\n",
              "        await google.colab.output.renderOutput(dataTable, element);\n",
              "        const docLink = document.createElement('div');\n",
              "        docLink.innerHTML = docLinkHtml;\n",
              "        element.appendChild(docLink);\n",
              "      }\n",
              "    </script>\n",
              "  </div>\n",
              "\n",
              "\n",
              "<div id=\"df-2190e1c4-a7ae-483b-a8b4-a1a5f02d4f6b\">\n",
              "  <button class=\"colab-df-quickchart\" onclick=\"quickchart('df-2190e1c4-a7ae-483b-a8b4-a1a5f02d4f6b')\"\n",
              "            title=\"Suggest charts.\"\n",
              "            style=\"display:none;\">\n",
              "\n",
              "<svg xmlns=\"http://www.w3.org/2000/svg\" height=\"24px\"viewBox=\"0 0 24 24\"\n",
              "     width=\"24px\">\n",
              "    <g>\n",
              "        <path d=\"M19 3H5c-1.1 0-2 .9-2 2v14c0 1.1.9 2 2 2h14c1.1 0 2-.9 2-2V5c0-1.1-.9-2-2-2zM9 17H7v-7h2v7zm4 0h-2V7h2v10zm4 0h-2v-4h2v4z\"/>\n",
              "    </g>\n",
              "</svg>\n",
              "  </button>\n",
              "\n",
              "<style>\n",
              "  .colab-df-quickchart {\n",
              "    background-color: #E8F0FE;\n",
              "    border: none;\n",
              "    border-radius: 50%;\n",
              "    cursor: pointer;\n",
              "    display: none;\n",
              "    fill: #1967D2;\n",
              "    height: 32px;\n",
              "    padding: 0 0 0 0;\n",
              "    width: 32px;\n",
              "  }\n",
              "\n",
              "  .colab-df-quickchart:hover {\n",
              "    background-color: #E2EBFA;\n",
              "    box-shadow: 0px 1px 2px rgba(60, 64, 67, 0.3), 0px 1px 3px 1px rgba(60, 64, 67, 0.15);\n",
              "    fill: #174EA6;\n",
              "  }\n",
              "\n",
              "  [theme=dark] .colab-df-quickchart {\n",
              "    background-color: #3B4455;\n",
              "    fill: #D2E3FC;\n",
              "  }\n",
              "\n",
              "  [theme=dark] .colab-df-quickchart:hover {\n",
              "    background-color: #434B5C;\n",
              "    box-shadow: 0px 1px 3px 1px rgba(0, 0, 0, 0.15);\n",
              "    filter: drop-shadow(0px 1px 2px rgba(0, 0, 0, 0.3));\n",
              "    fill: #FFFFFF;\n",
              "  }\n",
              "</style>\n",
              "\n",
              "  <script>\n",
              "    async function quickchart(key) {\n",
              "      const charts = await google.colab.kernel.invokeFunction(\n",
              "          'suggestCharts', [key], {});\n",
              "    }\n",
              "    (() => {\n",
              "      let quickchartButtonEl =\n",
              "        document.querySelector('#df-2190e1c4-a7ae-483b-a8b4-a1a5f02d4f6b button');\n",
              "      quickchartButtonEl.style.display =\n",
              "        google.colab.kernel.accessAllowed ? 'block' : 'none';\n",
              "    })();\n",
              "  </script>\n",
              "</div>\n",
              "    </div>\n",
              "  </div>\n"
            ]
          },
          "metadata": {},
          "execution_count": 5
        }
      ]
    },
    {
      "cell_type": "markdown",
      "source": [
        "\n",
        "Виведіть перші п'ять рядків (використовується функція head)"
      ],
      "metadata": {
        "id": "G9hZgX6zsfyZ"
      }
    },
    {
      "cell_type": "code",
      "source": [
        "books.head()"
      ],
      "metadata": {
        "colab": {
          "base_uri": "https://localhost:8080/",
          "height": 206
        },
        "id": "wiJ7-ng7shck",
        "outputId": "b9d422e8-9248-4fa2-d8f1-de8454916de0"
      },
      "execution_count": 6,
      "outputs": [
        {
          "output_type": "execute_result",
          "data": {
            "text/plain": [
              "                                                Name  \\\n",
              "0                      10-Day Green Smoothie Cleanse   \n",
              "1                                  11/22/63: A Novel   \n",
              "2            12 Rules for Life: An Antidote to Chaos   \n",
              "3                             1984 (Signet Classics)   \n",
              "4  5,000 Awesome Facts (About Everything!) (Natio...   \n",
              "\n",
              "                     Author  User Rating  Reviews  Price  Year        Genre  \n",
              "0                  JJ Smith          4.7    17350      8  2016  Non Fiction  \n",
              "1              Stephen King          4.6     2052     22  2011      Fiction  \n",
              "2        Jordan B. Peterson          4.7    18979     15  2018  Non Fiction  \n",
              "3             George Orwell          4.7    21424      6  2017      Fiction  \n",
              "4  National Geographic Kids          4.8     7665     12  2019  Non Fiction  "
            ],
            "text/html": [
              "\n",
              "  <div id=\"df-7cf84e5f-3d98-4cfb-9138-6109bd9a56ac\" class=\"colab-df-container\">\n",
              "    <div>\n",
              "<style scoped>\n",
              "    .dataframe tbody tr th:only-of-type {\n",
              "        vertical-align: middle;\n",
              "    }\n",
              "\n",
              "    .dataframe tbody tr th {\n",
              "        vertical-align: top;\n",
              "    }\n",
              "\n",
              "    .dataframe thead th {\n",
              "        text-align: right;\n",
              "    }\n",
              "</style>\n",
              "<table border=\"1\" class=\"dataframe\">\n",
              "  <thead>\n",
              "    <tr style=\"text-align: right;\">\n",
              "      <th></th>\n",
              "      <th>Name</th>\n",
              "      <th>Author</th>\n",
              "      <th>User Rating</th>\n",
              "      <th>Reviews</th>\n",
              "      <th>Price</th>\n",
              "      <th>Year</th>\n",
              "      <th>Genre</th>\n",
              "    </tr>\n",
              "  </thead>\n",
              "  <tbody>\n",
              "    <tr>\n",
              "      <th>0</th>\n",
              "      <td>10-Day Green Smoothie Cleanse</td>\n",
              "      <td>JJ Smith</td>\n",
              "      <td>4.7</td>\n",
              "      <td>17350</td>\n",
              "      <td>8</td>\n",
              "      <td>2016</td>\n",
              "      <td>Non Fiction</td>\n",
              "    </tr>\n",
              "    <tr>\n",
              "      <th>1</th>\n",
              "      <td>11/22/63: A Novel</td>\n",
              "      <td>Stephen King</td>\n",
              "      <td>4.6</td>\n",
              "      <td>2052</td>\n",
              "      <td>22</td>\n",
              "      <td>2011</td>\n",
              "      <td>Fiction</td>\n",
              "    </tr>\n",
              "    <tr>\n",
              "      <th>2</th>\n",
              "      <td>12 Rules for Life: An Antidote to Chaos</td>\n",
              "      <td>Jordan B. Peterson</td>\n",
              "      <td>4.7</td>\n",
              "      <td>18979</td>\n",
              "      <td>15</td>\n",
              "      <td>2018</td>\n",
              "      <td>Non Fiction</td>\n",
              "    </tr>\n",
              "    <tr>\n",
              "      <th>3</th>\n",
              "      <td>1984 (Signet Classics)</td>\n",
              "      <td>George Orwell</td>\n",
              "      <td>4.7</td>\n",
              "      <td>21424</td>\n",
              "      <td>6</td>\n",
              "      <td>2017</td>\n",
              "      <td>Fiction</td>\n",
              "    </tr>\n",
              "    <tr>\n",
              "      <th>4</th>\n",
              "      <td>5,000 Awesome Facts (About Everything!) (Natio...</td>\n",
              "      <td>National Geographic Kids</td>\n",
              "      <td>4.8</td>\n",
              "      <td>7665</td>\n",
              "      <td>12</td>\n",
              "      <td>2019</td>\n",
              "      <td>Non Fiction</td>\n",
              "    </tr>\n",
              "  </tbody>\n",
              "</table>\n",
              "</div>\n",
              "    <div class=\"colab-df-buttons\">\n",
              "\n",
              "  <div class=\"colab-df-container\">\n",
              "    <button class=\"colab-df-convert\" onclick=\"convertToInteractive('df-7cf84e5f-3d98-4cfb-9138-6109bd9a56ac')\"\n",
              "            title=\"Convert this dataframe to an interactive table.\"\n",
              "            style=\"display:none;\">\n",
              "\n",
              "  <svg xmlns=\"http://www.w3.org/2000/svg\" height=\"24px\" viewBox=\"0 -960 960 960\">\n",
              "    <path d=\"M120-120v-720h720v720H120Zm60-500h600v-160H180v160Zm220 220h160v-160H400v160Zm0 220h160v-160H400v160ZM180-400h160v-160H180v160Zm440 0h160v-160H620v160ZM180-180h160v-160H180v160Zm440 0h160v-160H620v160Z\"/>\n",
              "  </svg>\n",
              "    </button>\n",
              "\n",
              "  <style>\n",
              "    .colab-df-container {\n",
              "      display:flex;\n",
              "      gap: 12px;\n",
              "    }\n",
              "\n",
              "    .colab-df-convert {\n",
              "      background-color: #E8F0FE;\n",
              "      border: none;\n",
              "      border-radius: 50%;\n",
              "      cursor: pointer;\n",
              "      display: none;\n",
              "      fill: #1967D2;\n",
              "      height: 32px;\n",
              "      padding: 0 0 0 0;\n",
              "      width: 32px;\n",
              "    }\n",
              "\n",
              "    .colab-df-convert:hover {\n",
              "      background-color: #E2EBFA;\n",
              "      box-shadow: 0px 1px 2px rgba(60, 64, 67, 0.3), 0px 1px 3px 1px rgba(60, 64, 67, 0.15);\n",
              "      fill: #174EA6;\n",
              "    }\n",
              "\n",
              "    .colab-df-buttons div {\n",
              "      margin-bottom: 4px;\n",
              "    }\n",
              "\n",
              "    [theme=dark] .colab-df-convert {\n",
              "      background-color: #3B4455;\n",
              "      fill: #D2E3FC;\n",
              "    }\n",
              "\n",
              "    [theme=dark] .colab-df-convert:hover {\n",
              "      background-color: #434B5C;\n",
              "      box-shadow: 0px 1px 3px 1px rgba(0, 0, 0, 0.15);\n",
              "      filter: drop-shadow(0px 1px 2px rgba(0, 0, 0, 0.3));\n",
              "      fill: #FFFFFF;\n",
              "    }\n",
              "  </style>\n",
              "\n",
              "    <script>\n",
              "      const buttonEl =\n",
              "        document.querySelector('#df-7cf84e5f-3d98-4cfb-9138-6109bd9a56ac button.colab-df-convert');\n",
              "      buttonEl.style.display =\n",
              "        google.colab.kernel.accessAllowed ? 'block' : 'none';\n",
              "\n",
              "      async function convertToInteractive(key) {\n",
              "        const element = document.querySelector('#df-7cf84e5f-3d98-4cfb-9138-6109bd9a56ac');\n",
              "        const dataTable =\n",
              "          await google.colab.kernel.invokeFunction('convertToInteractive',\n",
              "                                                    [key], {});\n",
              "        if (!dataTable) return;\n",
              "\n",
              "        const docLinkHtml = 'Like what you see? Visit the ' +\n",
              "          '<a target=\"_blank\" href=https://colab.research.google.com/notebooks/data_table.ipynb>data table notebook</a>'\n",
              "          + ' to learn more about interactive tables.';\n",
              "        element.innerHTML = '';\n",
              "        dataTable['output_type'] = 'display_data';\n",
              "        await google.colab.output.renderOutput(dataTable, element);\n",
              "        const docLink = document.createElement('div');\n",
              "        docLink.innerHTML = docLinkHtml;\n",
              "        element.appendChild(docLink);\n",
              "      }\n",
              "    </script>\n",
              "  </div>\n",
              "\n",
              "\n",
              "<div id=\"df-5d60c462-ace7-46bf-a131-6573bd7d1339\">\n",
              "  <button class=\"colab-df-quickchart\" onclick=\"quickchart('df-5d60c462-ace7-46bf-a131-6573bd7d1339')\"\n",
              "            title=\"Suggest charts.\"\n",
              "            style=\"display:none;\">\n",
              "\n",
              "<svg xmlns=\"http://www.w3.org/2000/svg\" height=\"24px\"viewBox=\"0 0 24 24\"\n",
              "     width=\"24px\">\n",
              "    <g>\n",
              "        <path d=\"M19 3H5c-1.1 0-2 .9-2 2v14c0 1.1.9 2 2 2h14c1.1 0 2-.9 2-2V5c0-1.1-.9-2-2-2zM9 17H7v-7h2v7zm4 0h-2V7h2v10zm4 0h-2v-4h2v4z\"/>\n",
              "    </g>\n",
              "</svg>\n",
              "  </button>\n",
              "\n",
              "<style>\n",
              "  .colab-df-quickchart {\n",
              "    background-color: #E8F0FE;\n",
              "    border: none;\n",
              "    border-radius: 50%;\n",
              "    cursor: pointer;\n",
              "    display: none;\n",
              "    fill: #1967D2;\n",
              "    height: 32px;\n",
              "    padding: 0 0 0 0;\n",
              "    width: 32px;\n",
              "  }\n",
              "\n",
              "  .colab-df-quickchart:hover {\n",
              "    background-color: #E2EBFA;\n",
              "    box-shadow: 0px 1px 2px rgba(60, 64, 67, 0.3), 0px 1px 3px 1px rgba(60, 64, 67, 0.15);\n",
              "    fill: #174EA6;\n",
              "  }\n",
              "\n",
              "  [theme=dark] .colab-df-quickchart {\n",
              "    background-color: #3B4455;\n",
              "    fill: #D2E3FC;\n",
              "  }\n",
              "\n",
              "  [theme=dark] .colab-df-quickchart:hover {\n",
              "    background-color: #434B5C;\n",
              "    box-shadow: 0px 1px 3px 1px rgba(0, 0, 0, 0.15);\n",
              "    filter: drop-shadow(0px 1px 2px rgba(0, 0, 0, 0.3));\n",
              "    fill: #FFFFFF;\n",
              "  }\n",
              "</style>\n",
              "\n",
              "  <script>\n",
              "    async function quickchart(key) {\n",
              "      const charts = await google.colab.kernel.invokeFunction(\n",
              "          'suggestCharts', [key], {});\n",
              "    }\n",
              "    (() => {\n",
              "      let quickchartButtonEl =\n",
              "        document.querySelector('#df-5d60c462-ace7-46bf-a131-6573bd7d1339 button');\n",
              "      quickchartButtonEl.style.display =\n",
              "        google.colab.kernel.accessAllowed ? 'block' : 'none';\n",
              "    })();\n",
              "  </script>\n",
              "</div>\n",
              "    </div>\n",
              "  </div>\n"
            ]
          },
          "metadata": {},
          "execution_count": 6
        }
      ]
    },
    {
      "cell_type": "markdown",
      "source": [
        "Виведіть розміри датасету (використовуйте атрибут shape)"
      ],
      "metadata": {
        "id": "BbMnkXDhslIQ"
      }
    },
    {
      "cell_type": "code",
      "source": [
        "books.shape"
      ],
      "metadata": {
        "colab": {
          "base_uri": "https://localhost:8080/"
        },
        "id": "sA3DDldvsmTP",
        "outputId": "ed3006ec-7f70-4da5-8cae-9f81835ab301"
      },
      "execution_count": 7,
      "outputs": [
        {
          "output_type": "execute_result",
          "data": {
            "text/plain": [
              "(550, 7)"
            ]
          },
          "metadata": {},
          "execution_count": 7
        }
      ]
    },
    {
      "cell_type": "markdown",
      "source": [
        "**Відповідь: Про скільки книг зберігає дані датасет? 550**"
      ],
      "metadata": {
        "id": "BH7ZkO0hso6t"
      }
    },
    {
      "cell_type": "markdown",
      "source": [
        "Давайте змінимо регістр на малий, а пробіл замінимо на нижнє підкреслення (snake_style). А заразом і вивчимо корисний атрибут датафрейму: columns (можна просто присвоїти список нових імен цьому атрибуту)"
      ],
      "metadata": {
        "id": "yzq-mZObsyZE"
      }
    },
    {
      "cell_type": "code",
      "source": [
        "books.columns = ['name', 'author', 'user_rating', 'reviews', 'price', 'year', 'genre']\n",
        "books"
      ],
      "metadata": {
        "colab": {
          "base_uri": "https://localhost:8080/",
          "height": 423
        },
        "id": "1orgda4Ps4UC",
        "outputId": "ae43f518-df6b-4914-ff66-cfe08c1886a9"
      },
      "execution_count": 9,
      "outputs": [
        {
          "output_type": "execute_result",
          "data": {
            "text/plain": [
              "                                                  name  \\\n",
              "0                        10-Day Green Smoothie Cleanse   \n",
              "1                                    11/22/63: A Novel   \n",
              "2              12 Rules for Life: An Antidote to Chaos   \n",
              "3                               1984 (Signet Classics)   \n",
              "4    5,000 Awesome Facts (About Everything!) (Natio...   \n",
              "..                                                 ...   \n",
              "545       Wrecking Ball (Diary of a Wimpy Kid Book 14)   \n",
              "546  You Are a Badass: How to Stop Doubting Your Gr...   \n",
              "547  You Are a Badass: How to Stop Doubting Your Gr...   \n",
              "548  You Are a Badass: How to Stop Doubting Your Gr...   \n",
              "549  You Are a Badass: How to Stop Doubting Your Gr...   \n",
              "\n",
              "                       author  user_rating  reviews  price  year        genre  \n",
              "0                    JJ Smith          4.7    17350      8  2016  Non Fiction  \n",
              "1                Stephen King          4.6     2052     22  2011      Fiction  \n",
              "2          Jordan B. Peterson          4.7    18979     15  2018  Non Fiction  \n",
              "3               George Orwell          4.7    21424      6  2017      Fiction  \n",
              "4    National Geographic Kids          4.8     7665     12  2019  Non Fiction  \n",
              "..                        ...          ...      ...    ...   ...          ...  \n",
              "545               Jeff Kinney          4.9     9413      8  2019      Fiction  \n",
              "546               Jen Sincero          4.7    14331      8  2016  Non Fiction  \n",
              "547               Jen Sincero          4.7    14331      8  2017  Non Fiction  \n",
              "548               Jen Sincero          4.7    14331      8  2018  Non Fiction  \n",
              "549               Jen Sincero          4.7    14331      8  2019  Non Fiction  \n",
              "\n",
              "[550 rows x 7 columns]"
            ],
            "text/html": [
              "\n",
              "  <div id=\"df-21d8b941-f557-4ad4-9917-56e663e69896\" class=\"colab-df-container\">\n",
              "    <div>\n",
              "<style scoped>\n",
              "    .dataframe tbody tr th:only-of-type {\n",
              "        vertical-align: middle;\n",
              "    }\n",
              "\n",
              "    .dataframe tbody tr th {\n",
              "        vertical-align: top;\n",
              "    }\n",
              "\n",
              "    .dataframe thead th {\n",
              "        text-align: right;\n",
              "    }\n",
              "</style>\n",
              "<table border=\"1\" class=\"dataframe\">\n",
              "  <thead>\n",
              "    <tr style=\"text-align: right;\">\n",
              "      <th></th>\n",
              "      <th>name</th>\n",
              "      <th>author</th>\n",
              "      <th>user_rating</th>\n",
              "      <th>reviews</th>\n",
              "      <th>price</th>\n",
              "      <th>year</th>\n",
              "      <th>genre</th>\n",
              "    </tr>\n",
              "  </thead>\n",
              "  <tbody>\n",
              "    <tr>\n",
              "      <th>0</th>\n",
              "      <td>10-Day Green Smoothie Cleanse</td>\n",
              "      <td>JJ Smith</td>\n",
              "      <td>4.7</td>\n",
              "      <td>17350</td>\n",
              "      <td>8</td>\n",
              "      <td>2016</td>\n",
              "      <td>Non Fiction</td>\n",
              "    </tr>\n",
              "    <tr>\n",
              "      <th>1</th>\n",
              "      <td>11/22/63: A Novel</td>\n",
              "      <td>Stephen King</td>\n",
              "      <td>4.6</td>\n",
              "      <td>2052</td>\n",
              "      <td>22</td>\n",
              "      <td>2011</td>\n",
              "      <td>Fiction</td>\n",
              "    </tr>\n",
              "    <tr>\n",
              "      <th>2</th>\n",
              "      <td>12 Rules for Life: An Antidote to Chaos</td>\n",
              "      <td>Jordan B. Peterson</td>\n",
              "      <td>4.7</td>\n",
              "      <td>18979</td>\n",
              "      <td>15</td>\n",
              "      <td>2018</td>\n",
              "      <td>Non Fiction</td>\n",
              "    </tr>\n",
              "    <tr>\n",
              "      <th>3</th>\n",
              "      <td>1984 (Signet Classics)</td>\n",
              "      <td>George Orwell</td>\n",
              "      <td>4.7</td>\n",
              "      <td>21424</td>\n",
              "      <td>6</td>\n",
              "      <td>2017</td>\n",
              "      <td>Fiction</td>\n",
              "    </tr>\n",
              "    <tr>\n",
              "      <th>4</th>\n",
              "      <td>5,000 Awesome Facts (About Everything!) (Natio...</td>\n",
              "      <td>National Geographic Kids</td>\n",
              "      <td>4.8</td>\n",
              "      <td>7665</td>\n",
              "      <td>12</td>\n",
              "      <td>2019</td>\n",
              "      <td>Non Fiction</td>\n",
              "    </tr>\n",
              "    <tr>\n",
              "      <th>...</th>\n",
              "      <td>...</td>\n",
              "      <td>...</td>\n",
              "      <td>...</td>\n",
              "      <td>...</td>\n",
              "      <td>...</td>\n",
              "      <td>...</td>\n",
              "      <td>...</td>\n",
              "    </tr>\n",
              "    <tr>\n",
              "      <th>545</th>\n",
              "      <td>Wrecking Ball (Diary of a Wimpy Kid Book 14)</td>\n",
              "      <td>Jeff Kinney</td>\n",
              "      <td>4.9</td>\n",
              "      <td>9413</td>\n",
              "      <td>8</td>\n",
              "      <td>2019</td>\n",
              "      <td>Fiction</td>\n",
              "    </tr>\n",
              "    <tr>\n",
              "      <th>546</th>\n",
              "      <td>You Are a Badass: How to Stop Doubting Your Gr...</td>\n",
              "      <td>Jen Sincero</td>\n",
              "      <td>4.7</td>\n",
              "      <td>14331</td>\n",
              "      <td>8</td>\n",
              "      <td>2016</td>\n",
              "      <td>Non Fiction</td>\n",
              "    </tr>\n",
              "    <tr>\n",
              "      <th>547</th>\n",
              "      <td>You Are a Badass: How to Stop Doubting Your Gr...</td>\n",
              "      <td>Jen Sincero</td>\n",
              "      <td>4.7</td>\n",
              "      <td>14331</td>\n",
              "      <td>8</td>\n",
              "      <td>2017</td>\n",
              "      <td>Non Fiction</td>\n",
              "    </tr>\n",
              "    <tr>\n",
              "      <th>548</th>\n",
              "      <td>You Are a Badass: How to Stop Doubting Your Gr...</td>\n",
              "      <td>Jen Sincero</td>\n",
              "      <td>4.7</td>\n",
              "      <td>14331</td>\n",
              "      <td>8</td>\n",
              "      <td>2018</td>\n",
              "      <td>Non Fiction</td>\n",
              "    </tr>\n",
              "    <tr>\n",
              "      <th>549</th>\n",
              "      <td>You Are a Badass: How to Stop Doubting Your Gr...</td>\n",
              "      <td>Jen Sincero</td>\n",
              "      <td>4.7</td>\n",
              "      <td>14331</td>\n",
              "      <td>8</td>\n",
              "      <td>2019</td>\n",
              "      <td>Non Fiction</td>\n",
              "    </tr>\n",
              "  </tbody>\n",
              "</table>\n",
              "<p>550 rows × 7 columns</p>\n",
              "</div>\n",
              "    <div class=\"colab-df-buttons\">\n",
              "\n",
              "  <div class=\"colab-df-container\">\n",
              "    <button class=\"colab-df-convert\" onclick=\"convertToInteractive('df-21d8b941-f557-4ad4-9917-56e663e69896')\"\n",
              "            title=\"Convert this dataframe to an interactive table.\"\n",
              "            style=\"display:none;\">\n",
              "\n",
              "  <svg xmlns=\"http://www.w3.org/2000/svg\" height=\"24px\" viewBox=\"0 -960 960 960\">\n",
              "    <path d=\"M120-120v-720h720v720H120Zm60-500h600v-160H180v160Zm220 220h160v-160H400v160Zm0 220h160v-160H400v160ZM180-400h160v-160H180v160Zm440 0h160v-160H620v160ZM180-180h160v-160H180v160Zm440 0h160v-160H620v160Z\"/>\n",
              "  </svg>\n",
              "    </button>\n",
              "\n",
              "  <style>\n",
              "    .colab-df-container {\n",
              "      display:flex;\n",
              "      gap: 12px;\n",
              "    }\n",
              "\n",
              "    .colab-df-convert {\n",
              "      background-color: #E8F0FE;\n",
              "      border: none;\n",
              "      border-radius: 50%;\n",
              "      cursor: pointer;\n",
              "      display: none;\n",
              "      fill: #1967D2;\n",
              "      height: 32px;\n",
              "      padding: 0 0 0 0;\n",
              "      width: 32px;\n",
              "    }\n",
              "\n",
              "    .colab-df-convert:hover {\n",
              "      background-color: #E2EBFA;\n",
              "      box-shadow: 0px 1px 2px rgba(60, 64, 67, 0.3), 0px 1px 3px 1px rgba(60, 64, 67, 0.15);\n",
              "      fill: #174EA6;\n",
              "    }\n",
              "\n",
              "    .colab-df-buttons div {\n",
              "      margin-bottom: 4px;\n",
              "    }\n",
              "\n",
              "    [theme=dark] .colab-df-convert {\n",
              "      background-color: #3B4455;\n",
              "      fill: #D2E3FC;\n",
              "    }\n",
              "\n",
              "    [theme=dark] .colab-df-convert:hover {\n",
              "      background-color: #434B5C;\n",
              "      box-shadow: 0px 1px 3px 1px rgba(0, 0, 0, 0.15);\n",
              "      filter: drop-shadow(0px 1px 2px rgba(0, 0, 0, 0.3));\n",
              "      fill: #FFFFFF;\n",
              "    }\n",
              "  </style>\n",
              "\n",
              "    <script>\n",
              "      const buttonEl =\n",
              "        document.querySelector('#df-21d8b941-f557-4ad4-9917-56e663e69896 button.colab-df-convert');\n",
              "      buttonEl.style.display =\n",
              "        google.colab.kernel.accessAllowed ? 'block' : 'none';\n",
              "\n",
              "      async function convertToInteractive(key) {\n",
              "        const element = document.querySelector('#df-21d8b941-f557-4ad4-9917-56e663e69896');\n",
              "        const dataTable =\n",
              "          await google.colab.kernel.invokeFunction('convertToInteractive',\n",
              "                                                    [key], {});\n",
              "        if (!dataTable) return;\n",
              "\n",
              "        const docLinkHtml = 'Like what you see? Visit the ' +\n",
              "          '<a target=\"_blank\" href=https://colab.research.google.com/notebooks/data_table.ipynb>data table notebook</a>'\n",
              "          + ' to learn more about interactive tables.';\n",
              "        element.innerHTML = '';\n",
              "        dataTable['output_type'] = 'display_data';\n",
              "        await google.colab.output.renderOutput(dataTable, element);\n",
              "        const docLink = document.createElement('div');\n",
              "        docLink.innerHTML = docLinkHtml;\n",
              "        element.appendChild(docLink);\n",
              "      }\n",
              "    </script>\n",
              "  </div>\n",
              "\n",
              "\n",
              "<div id=\"df-57d0be87-e0f0-49b2-a5ef-280ee0805e9c\">\n",
              "  <button class=\"colab-df-quickchart\" onclick=\"quickchart('df-57d0be87-e0f0-49b2-a5ef-280ee0805e9c')\"\n",
              "            title=\"Suggest charts.\"\n",
              "            style=\"display:none;\">\n",
              "\n",
              "<svg xmlns=\"http://www.w3.org/2000/svg\" height=\"24px\"viewBox=\"0 0 24 24\"\n",
              "     width=\"24px\">\n",
              "    <g>\n",
              "        <path d=\"M19 3H5c-1.1 0-2 .9-2 2v14c0 1.1.9 2 2 2h14c1.1 0 2-.9 2-2V5c0-1.1-.9-2-2-2zM9 17H7v-7h2v7zm4 0h-2V7h2v10zm4 0h-2v-4h2v4z\"/>\n",
              "    </g>\n",
              "</svg>\n",
              "  </button>\n",
              "\n",
              "<style>\n",
              "  .colab-df-quickchart {\n",
              "    background-color: #E8F0FE;\n",
              "    border: none;\n",
              "    border-radius: 50%;\n",
              "    cursor: pointer;\n",
              "    display: none;\n",
              "    fill: #1967D2;\n",
              "    height: 32px;\n",
              "    padding: 0 0 0 0;\n",
              "    width: 32px;\n",
              "  }\n",
              "\n",
              "  .colab-df-quickchart:hover {\n",
              "    background-color: #E2EBFA;\n",
              "    box-shadow: 0px 1px 2px rgba(60, 64, 67, 0.3), 0px 1px 3px 1px rgba(60, 64, 67, 0.15);\n",
              "    fill: #174EA6;\n",
              "  }\n",
              "\n",
              "  [theme=dark] .colab-df-quickchart {\n",
              "    background-color: #3B4455;\n",
              "    fill: #D2E3FC;\n",
              "  }\n",
              "\n",
              "  [theme=dark] .colab-df-quickchart:hover {\n",
              "    background-color: #434B5C;\n",
              "    box-shadow: 0px 1px 3px 1px rgba(0, 0, 0, 0.15);\n",
              "    filter: drop-shadow(0px 1px 2px rgba(0, 0, 0, 0.3));\n",
              "    fill: #FFFFFF;\n",
              "  }\n",
              "</style>\n",
              "\n",
              "  <script>\n",
              "    async function quickchart(key) {\n",
              "      const charts = await google.colab.kernel.invokeFunction(\n",
              "          'suggestCharts', [key], {});\n",
              "    }\n",
              "    (() => {\n",
              "      let quickchartButtonEl =\n",
              "        document.querySelector('#df-57d0be87-e0f0-49b2-a5ef-280ee0805e9c button');\n",
              "      quickchartButtonEl.style.display =\n",
              "        google.colab.kernel.accessAllowed ? 'block' : 'none';\n",
              "    })();\n",
              "  </script>\n",
              "</div>\n",
              "    </div>\n",
              "  </div>\n"
            ]
          },
          "metadata": {},
          "execution_count": 9
        }
      ]
    },
    {
      "cell_type": "markdown",
      "source": [
        "Первинне дослідження даних Перевірте, чи у всіх рядків вистачає даних: виведіть кількість пропусків (na) у кожному зі стовпців (використовуйте функції isna та sum)"
      ],
      "metadata": {
        "id": "_KLopCAGuemn"
      }
    },
    {
      "cell_type": "code",
      "source": [
        "books.isna().sum()"
      ],
      "metadata": {
        "colab": {
          "base_uri": "https://localhost:8080/"
        },
        "id": "Hbld-aKnufr3",
        "outputId": "f9f79311-271b-410e-f568-9f9f29737fa3"
      },
      "execution_count": 10,
      "outputs": [
        {
          "output_type": "execute_result",
          "data": {
            "text/plain": [
              "name           0\n",
              "author         0\n",
              "user_rating    0\n",
              "reviews        0\n",
              "price          0\n",
              "year           0\n",
              "genre          0\n",
              "dtype: int64"
            ]
          },
          "metadata": {},
          "execution_count": 10
        }
      ]
    },
    {
      "cell_type": "markdown",
      "source": [
        "Відповідь: Чи є в якихось змінних пропуски? **(ні)**"
      ],
      "metadata": {
        "id": "BeZzxmywukkg"
      }
    },
    {
      "cell_type": "markdown",
      "source": [
        "Перевірте, які є унікальні значення в колонці genre (використовуйте функцію unique) **'Non Fiction', 'Fiction'**"
      ],
      "metadata": {
        "id": "WDjPTg00un9i"
      }
    },
    {
      "cell_type": "code",
      "source": [
        "books[\"genre\"].unique()"
      ],
      "metadata": {
        "colab": {
          "base_uri": "https://localhost:8080/"
        },
        "id": "wSRooXZJujza",
        "outputId": "8cbd8cec-a1d2-4e2d-9e29-77645df1996a"
      },
      "execution_count": 11,
      "outputs": [
        {
          "output_type": "execute_result",
          "data": {
            "text/plain": [
              "array(['Non Fiction', 'Fiction'], dtype=object)"
            ]
          },
          "metadata": {},
          "execution_count": 11
        }
      ]
    },
    {
      "cell_type": "markdown",
      "source": [
        "Тепер подивіться на розподіл цін: побудуйте діаграму (використовуйте kind='hist')\n",
        "\n"
      ],
      "metadata": {
        "id": "M6lyyKlyunUb"
      }
    },
    {
      "cell_type": "code",
      "source": [
        "import matplotlib.pyplot as plt\n",
        "\n",
        "%matplotlib inline\n",
        "\n",
        "plt.hist(books['price'], bins='auto', edgecolor='black')\n",
        "plt.title('Price Distribution')\n",
        "plt.xlabel('Price')\n",
        "plt.ylabel('Frequency')\n",
        "plt.show()"
      ],
      "metadata": {
        "colab": {
          "base_uri": "https://localhost:8080/",
          "height": 472
        },
        "id": "H5xJX-HYu2WN",
        "outputId": "527c24a6-e550-47da-84ec-1eceb8c49589"
      },
      "execution_count": 12,
      "outputs": [
        {
          "output_type": "display_data",
          "data": {
            "text/plain": [
              "<Figure size 640x480 with 1 Axes>"
            ],
            "image/png": "[encoded data removed]"
          },
          "metadata": {}
        }
      ]
    },
    {
      "cell_type": "markdown",
      "source": [
        "Визначте, яка ціна у нас максимальна, мінімальна, середня, медіанна (використовуйте функції max, min, mean, median)\n",
        "\n",
        "Відповідь: Максимальна ціна? 105\n",
        "Відповідь: Мінімальна ціна? 0\n",
        "Відповідь: Середня ціна? 13.1\n",
        "Відповідь: Медіанна ціна? 11.0"
      ],
      "metadata": {
        "id": "DHsdMKIAu9Ds"
      }
    },
    {
      "cell_type": "code",
      "source": [
        "max_price = books['price'].max()\n",
        "min_price = books['price'].min()\n",
        "mean_price = books['price'].mean()\n",
        "median_price = books['price'].median()\n",
        "\n",
        "\n",
        "print(\"Максимальна ціна: \", max_price)\n",
        "print(\"Мінімальна ціна: \", min_price)\n",
        "print(\"Середня ціна: \", mean_price)\n",
        "print(\"Медіанна ціна: \", median_price)"
      ],
      "metadata": {
        "colab": {
          "base_uri": "https://localhost:8080/"
        },
        "id": "3E9v-N2hvIsr",
        "outputId": "d674da3a-a520-49d8-efda-1d328a33ce18"
      },
      "execution_count": 13,
      "outputs": [
        {
          "output_type": "stream",
          "name": "stdout",
          "text": [
            "Максимальна ціна:  105\n",
            "Мінімальна ціна:  0\n",
            "Середня ціна:  13.1\n",
            "Медіанна ціна:  11.0\n"
          ]
        }
      ]
    },
    {
      "cell_type": "markdown",
      "source": [
        "Який рейтинг у датасеті найвищий?\n"
      ],
      "metadata": {
        "id": "EgF1vX9uvW_w"
      }
    },
    {
      "cell_type": "code",
      "source": [
        "max_rating = books['user_rating'].max()\n",
        "print(\"Який рейтинг у датасеті найвищий? - \", max_rating)"
      ],
      "metadata": {
        "colab": {
          "base_uri": "https://localhost:8080/"
        },
        "id": "dBTiAZeqva5H",
        "outputId": "5f815f80-fca7-4937-e0b0-a932c27c3f1f"
      },
      "execution_count": 14,
      "outputs": [
        {
          "output_type": "stream",
          "name": "stdout",
          "text": [
            "Який рейтинг у датасеті найвищий? -  4.9\n"
          ]
        }
      ]
    },
    {
      "cell_type": "markdown",
      "source": [
        "Скільки книг мають такий рейтинг?"
      ],
      "metadata": {
        "id": "9Ai_LQfHvfuo"
      }
    },
    {
      "cell_type": "code",
      "source": [
        "book_with_max_rating = books[books['user_rating'] == max_rating]['name'].values\n",
        "print(\"Скільки книг мають такий рейтинг? - \", len(book_with_max_rating))"
      ],
      "metadata": {
        "colab": {
          "base_uri": "https://localhost:8080/"
        },
        "id": "7nVeS1iqvp_Q",
        "outputId": "4d997a92-c87d-47fe-dd5a-34d7e7228141"
      },
      "execution_count": 15,
      "outputs": [
        {
          "output_type": "stream",
          "name": "stdout",
          "text": [
            "Скільки книг мають такий рейтинг? -  52\n"
          ]
        }
      ]
    },
    {
      "cell_type": "markdown",
      "source": [
        "Яка книга має найбільше відгуків?"
      ],
      "metadata": {
        "id": "np85qDRCvxCy"
      }
    },
    {
      "cell_type": "code",
      "source": [
        "max_reviews = books['reviews'].max()\n",
        "book_with_max_reviews = books[books['reviews'] == max_reviews]['name'].values[0]\n",
        "print(\"Яка книга має найбільше відгуків? - \", book_with_max_reviews)"
      ],
      "metadata": {
        "colab": {
          "base_uri": "https://localhost:8080/"
        },
        "id": "ET6zMB0rvxzZ",
        "outputId": "656eb01c-03d0-43b5-d09f-d23e89ce76e5"
      },
      "execution_count": 16,
      "outputs": [
        {
          "output_type": "stream",
          "name": "stdout",
          "text": [
            "Яка книга має найбільше відгуків? -  Where the Crawdads Sing\n"
          ]
        }
      ]
    },
    {
      "cell_type": "markdown",
      "source": [
        "З тих книг, що потрапили до Топ-50 у 2015 році, яка книга найдорожча (можна використати проміжний датафрейм)?"
      ],
      "metadata": {
        "id": "VdsS3laqv3tn"
      }
    },
    {
      "cell_type": "code",
      "source": [
        "top_2015_books = books[books['year'] == 2015]\n",
        "sorted_top_2015_books = top_2015_books.sort_values(by='price', ascending=False)\n",
        "\n",
        "print(\"Найдорожча книга, що потрапила до Топ-50 у 2015 році -\", sorted_top_2015_books[\"name\"].iloc[0], \",\", sorted_top_2015_books[\"price\"].iloc[0],\"USD\")\n"
      ],
      "metadata": {
        "colab": {
          "base_uri": "https://localhost:8080/"
        },
        "id": "SBXsSzsdv40e",
        "outputId": "3b6d0857-43bf-4b14-a263-5dc53fb2b74d"
      },
      "execution_count": 19,
      "outputs": [
        {
          "output_type": "stream",
          "name": "stdout",
          "text": [
            "Найдорожча книга, що потрапила до Топ-50 у 2015 році - Publication Manual of the American Psychological Association, 6th Edition , 46 USD\n"
          ]
        }
      ]
    },
    {
      "cell_type": "markdown",
      "source": [
        "Відповідь: Скільки книг жанру Fiction потрапили до Топ-50 у 2010 році (використовуйте &)?"
      ],
      "metadata": {
        "id": "5rJ4tTjxxC4_"
      }
    },
    {
      "cell_type": "code",
      "source": [
        "fiction_books = books[(books['year'] == 2010) & (books['genre'] == \"Fiction\")]\n",
        "print(\"Скільки книг жанру Fiction потрапили до Топ-50 у 2010 році? - \", len(fiction_books))"
      ],
      "metadata": {
        "colab": {
          "base_uri": "https://localhost:8080/"
        },
        "id": "iE0IcqFNxD_J",
        "outputId": "f802a81d-191b-4b9c-e3d1-055feca34e24"
      },
      "execution_count": 20,
      "outputs": [
        {
          "output_type": "stream",
          "name": "stdout",
          "text": [
            "Скільки книг жанру Fiction потрапили до Топ-50 у 2010 році? -  20\n"
          ]
        }
      ]
    },
    {
      "cell_type": "markdown",
      "source": [
        "Відповідь: Скільки книг з рейтингом 4.9 потрапило до рейтингу у 2010 та 2011 роках (використовуйте | або функцію isin)?"
      ],
      "metadata": {
        "id": "MtRBGwBaxIwF"
      }
    },
    {
      "cell_type": "code",
      "source": [
        "top_2010_2011 = books[(books['user_rating'] == 4.9) & (books['year'].isin([2010, 2011]))]\n",
        "\n",
        "print(\"Кількість книг з рейтингом 4.9, що потрапили до Топ-50 у 2010 та 2011 роках:\", len(top_2010_2011))"
      ],
      "metadata": {
        "colab": {
          "base_uri": "https://localhost:8080/"
        },
        "id": "IrRX8FtNxUbE",
        "outputId": "a4b40bc6-d432-492e-bccc-21a3f9eb6425"
      },
      "execution_count": 21,
      "outputs": [
        {
          "output_type": "stream",
          "name": "stdout",
          "text": [
            "Кількість книг з рейтингом 4.9, що потрапили до Топ-50 у 2010 та 2011 роках: 1\n"
          ]
        }
      ]
    },
    {
      "cell_type": "markdown",
      "source": [
        "Давайте відсортуємо за зростанням ціни всі книги, які потрапили до рейтингу в 2015 році і коштують дешевше за 8 доларів (використовуйте функцію sort_values).\n",
        "\n",
        "Яка книга остання у відсортованому списку?"
      ],
      "metadata": {
        "id": "oIn29hvzxZIJ"
      }
    },
    {
      "cell_type": "code",
      "source": [
        "filtered_books = books[(books['year'] == 2015) & (books['price'] < 8)]\n",
        "\n",
        "sorted_books = filtered_books.sort_values(by='price')\n",
        "\n",
        "print(\"Книги, які потрапили до рейтингу в 2015 році та коштують дешевше за 8 доларів, відсортовані за зростанням ціни:\")\n",
        "print(sorted_books)\n",
        "print(\"Яка книга остання у відсортованому списку?\")\n",
        "print(sorted_books[\"name\"].iloc[-1])"
      ],
      "metadata": {
        "colab": {
          "base_uri": "https://localhost:8080/"
        },
        "id": "yfNwwP1bxcuE",
        "outputId": "c63e4c61-78aa-45e4-fec4-26605240fd35"
      },
      "execution_count": 22,
      "outputs": [
        {
          "output_type": "stream",
          "name": "stdout",
          "text": [
            "Книги, які потрапили до рейтингу в 2015 році та коштують дешевше за 8 доларів, відсортовані за зростанням ціни:\n",
            "                                                  name              author  \\\n",
            "507                              To Kill a Mockingbird          Harper Lee   \n",
            "210                      Laugh-Out-Loud Jokes for Kids         Rob Elliott   \n",
            "206                         Knock-Knock Jokes for Kids         Rob Elliott   \n",
            "111                                    First 100 Words        Roger Priddy   \n",
            "123                               Giraffes Can't Dance       Giles Andreae   \n",
            "54   Creative Haven Creative Cats Coloring Book (Ad...     Marjorie Sarnat   \n",
            "63                      Dear Zoo: A Lift-the-Flap Book        Rod Campbell   \n",
            "89   Dover Creative Haven Art Nouveau Animal Design...         Marty Noble   \n",
            "478                        The Very Hungry Caterpillar          Eric Carle   \n",
            "201  Killing Reagan: The Violent Assault That Chang...       Bill O'Reilly   \n",
            "28                        Baby Touch and Feel: Animals                  DK   \n",
            "224                                   Love You Forever       Robert Munsch   \n",
            "55   Creative Haven Owls Coloring Book (Adult Color...     Marjorie Sarnat   \n",
            "17      Adult Coloring Book: Stress Relieving Patterns  Blue Star Coloring   \n",
            "376  The Four Agreements: A Practical Guide to Pers...     Don Miguel Ruiz   \n",
            "16   Adult Coloring Book: Stress Relieving Animal D...  Blue Star Coloring   \n",
            "253              Old School (Diary of a Wimpy Kid #10)         Jeff Kinney   \n",
            "\n",
            "     user_rating  reviews  price  year        genre  \n",
            "507          4.8    26234      0  2015      Fiction  \n",
            "210          4.6     6990      4  2015  Non Fiction  \n",
            "206          4.5     3673      4  2015  Non Fiction  \n",
            "111          4.7    17323      4  2015  Non Fiction  \n",
            "123          4.8    14038      4  2015      Fiction  \n",
            "54           4.8     4022      4  2015  Non Fiction  \n",
            "63           4.8    10922      5  2015      Fiction  \n",
            "89           4.6     2134      5  2015  Non Fiction  \n",
            "478          4.9    19546      5  2015      Fiction  \n",
            "201          4.6     5235      5  2015  Non Fiction  \n",
            "28           4.6     5360      5  2015  Non Fiction  \n",
            "224          4.8    18613      5  2015      Fiction  \n",
            "55           4.8     3871      5  2015  Non Fiction  \n",
            "17           4.4     2951      6  2015  Non Fiction  \n",
            "376          4.7    23308      6  2015  Non Fiction  \n",
            "16           4.6     2925      6  2015  Non Fiction  \n",
            "253          4.8     6169      7  2015      Fiction  \n",
            "Яка книга остання у відсортованому списку?\n",
            "Old School (Diary of a Wimpy Kid #10)\n"
          ]
        }
      ]
    },
    {
      "cell_type": "markdown",
      "source": [
        "Давайте подивимося на максимальну та мінімальну ціни для кожного з жанрів (використовуйте функції groupby та agg, для підрахунку мінімальних та максимальних значень використовуйте max та min). Не беріть усі стовпці, виберіть тільки потрібні вам."
      ],
      "metadata": {
        "id": "XkT8rkiWxl-Y"
      }
    },
    {
      "cell_type": "code",
      "source": [
        "price_by_genre = books.groupby('genre')['price'].agg([('min_price', 'min'), ('max_price', 'max')]).reset_index()\n",
        "\n",
        "price_by_genre.columns = ['genre', 'min_price', 'max_price']\n",
        "print(\"Максимальні та мінімальні ціни по жанрах:\")\n",
        "price_by_genre\n"
      ],
      "metadata": {
        "colab": {
          "base_uri": "https://localhost:8080/",
          "height": 129
        },
        "id": "ey3HGSy1xr2N",
        "outputId": "75974220-0f5d-4a52-802c-5cb181fb8d73"
      },
      "execution_count": 23,
      "outputs": [
        {
          "output_type": "stream",
          "name": "stdout",
          "text": [
            "Максимальні та мінімальні ціни по жанрах:\n"
          ]
        },
        {
          "output_type": "execute_result",
          "data": {
            "text/plain": [
              "         genre  min_price  max_price\n",
              "0      Fiction          0         82\n",
              "1  Non Fiction          0        105"
            ],
            "text/html": [
              "\n",
              "  <div id=\"df-6505b37f-89b4-4f94-875c-2f3ee13618d5\" class=\"colab-df-container\">\n",
              "    <div>\n",
              "<style scoped>\n",
              "    .dataframe tbody tr th:only-of-type {\n",
              "        vertical-align: middle;\n",
              "    }\n",
              "\n",
              "    .dataframe tbody tr th {\n",
              "        vertical-align: top;\n",
              "    }\n",
              "\n",
              "    .dataframe thead th {\n",
              "        text-align: right;\n",
              "    }\n",
              "</style>\n",
              "<table border=\"1\" class=\"dataframe\">\n",
              "  <thead>\n",
              "    <tr style=\"text-align: right;\">\n",
              "      <th></th>\n",
              "      <th>genre</th>\n",
              "      <th>min_price</th>\n",
              "      <th>max_price</th>\n",
              "    </tr>\n",
              "  </thead>\n",
              "  <tbody>\n",
              "    <tr>\n",
              "      <th>0</th>\n",
              "      <td>Fiction</td>\n",
              "      <td>0</td>\n",
              "      <td>82</td>\n",
              "    </tr>\n",
              "    <tr>\n",
              "      <th>1</th>\n",
              "      <td>Non Fiction</td>\n",
              "      <td>0</td>\n",
              "      <td>105</td>\n",
              "    </tr>\n",
              "  </tbody>\n",
              "</table>\n",
              "</div>\n",
              "    <div class=\"colab-df-buttons\">\n",
              "\n",
              "  <div class=\"colab-df-container\">\n",
              "    <button class=\"colab-df-convert\" onclick=\"convertToInteractive('df-6505b37f-89b4-4f94-875c-2f3ee13618d5')\"\n",
              "            title=\"Convert this dataframe to an interactive table.\"\n",
              "            style=\"display:none;\">\n",
              "\n",
              "  <svg xmlns=\"http://www.w3.org/2000/svg\" height=\"24px\" viewBox=\"0 -960 960 960\">\n",
              "    <path d=\"M120-120v-720h720v720H120Zm60-500h600v-160H180v160Zm220 220h160v-160H400v160Zm0 220h160v-160H400v160ZM180-400h160v-160H180v160Zm440 0h160v-160H620v160ZM180-180h160v-160H180v160Zm440 0h160v-160H620v160Z\"/>\n",
              "  </svg>\n",
              "    </button>\n",
              "\n",
              "  <style>\n",
              "    .colab-df-container {\n",
              "      display:flex;\n",
              "      gap: 12px;\n",
              "    }\n",
              "\n",
              "    .colab-df-convert {\n",
              "      background-color: #E8F0FE;\n",
              "      border: none;\n",
              "      border-radius: 50%;\n",
              "      cursor: pointer;\n",
              "      display: none;\n",
              "      fill: #1967D2;\n",
              "      height: 32px;\n",
              "      padding: 0 0 0 0;\n",
              "      width: 32px;\n",
              "    }\n",
              "\n",
              "    .colab-df-convert:hover {\n",
              "      background-color: #E2EBFA;\n",
              "      box-shadow: 0px 1px 2px rgba(60, 64, 67, 0.3), 0px 1px 3px 1px rgba(60, 64, 67, 0.15);\n",
              "      fill: #174EA6;\n",
              "    }\n",
              "\n",
              "    .colab-df-buttons div {\n",
              "      margin-bottom: 4px;\n",
              "    }\n",
              "\n",
              "    [theme=dark] .colab-df-convert {\n",
              "      background-color: #3B4455;\n",
              "      fill: #D2E3FC;\n",
              "    }\n",
              "\n",
              "    [theme=dark] .colab-df-convert:hover {\n",
              "      background-color: #434B5C;\n",
              "      box-shadow: 0px 1px 3px 1px rgba(0, 0, 0, 0.15);\n",
              "      filter: drop-shadow(0px 1px 2px rgba(0, 0, 0, 0.3));\n",
              "      fill: #FFFFFF;\n",
              "    }\n",
              "  </style>\n",
              "\n",
              "    <script>\n",
              "      const buttonEl =\n",
              "        document.querySelector('#df-6505b37f-89b4-4f94-875c-2f3ee13618d5 button.colab-df-convert');\n",
              "      buttonEl.style.display =\n",
              "        google.colab.kernel.accessAllowed ? 'block' : 'none';\n",
              "\n",
              "      async function convertToInteractive(key) {\n",
              "        const element = document.querySelector('#df-6505b37f-89b4-4f94-875c-2f3ee13618d5');\n",
              "        const dataTable =\n",
              "          await google.colab.kernel.invokeFunction('convertToInteractive',\n",
              "                                                    [key], {});\n",
              "        if (!dataTable) return;\n",
              "\n",
              "        const docLinkHtml = 'Like what you see? Visit the ' +\n",
              "          '<a target=\"_blank\" href=https://colab.research.google.com/notebooks/data_table.ipynb>data table notebook</a>'\n",
              "          + ' to learn more about interactive tables.';\n",
              "        element.innerHTML = '';\n",
              "        dataTable['output_type'] = 'display_data';\n",
              "        await google.colab.output.renderOutput(dataTable, element);\n",
              "        const docLink = document.createElement('div');\n",
              "        docLink.innerHTML = docLinkHtml;\n",
              "        element.appendChild(docLink);\n",
              "      }\n",
              "    </script>\n",
              "  </div>\n",
              "\n",
              "\n",
              "<div id=\"df-8c9424ff-e973-44fe-94f9-a89b58f9f28b\">\n",
              "  <button class=\"colab-df-quickchart\" onclick=\"quickchart('df-8c9424ff-e973-44fe-94f9-a89b58f9f28b')\"\n",
              "            title=\"Suggest charts.\"\n",
              "            style=\"display:none;\">\n",
              "\n",
              "<svg xmlns=\"http://www.w3.org/2000/svg\" height=\"24px\"viewBox=\"0 0 24 24\"\n",
              "     width=\"24px\">\n",
              "    <g>\n",
              "        <path d=\"M19 3H5c-1.1 0-2 .9-2 2v14c0 1.1.9 2 2 2h14c1.1 0 2-.9 2-2V5c0-1.1-.9-2-2-2zM9 17H7v-7h2v7zm4 0h-2V7h2v10zm4 0h-2v-4h2v4z\"/>\n",
              "    </g>\n",
              "</svg>\n",
              "  </button>\n",
              "\n",
              "<style>\n",
              "  .colab-df-quickchart {\n",
              "    background-color: #E8F0FE;\n",
              "    border: none;\n",
              "    border-radius: 50%;\n",
              "    cursor: pointer;\n",
              "    display: none;\n",
              "    fill: #1967D2;\n",
              "    height: 32px;\n",
              "    padding: 0 0 0 0;\n",
              "    width: 32px;\n",
              "  }\n",
              "\n",
              "  .colab-df-quickchart:hover {\n",
              "    background-color: #E2EBFA;\n",
              "    box-shadow: 0px 1px 2px rgba(60, 64, 67, 0.3), 0px 1px 3px 1px rgba(60, 64, 67, 0.15);\n",
              "    fill: #174EA6;\n",
              "  }\n",
              "\n",
              "  [theme=dark] .colab-df-quickchart {\n",
              "    background-color: #3B4455;\n",
              "    fill: #D2E3FC;\n",
              "  }\n",
              "\n",
              "  [theme=dark] .colab-df-quickchart:hover {\n",
              "    background-color: #434B5C;\n",
              "    box-shadow: 0px 1px 3px 1px rgba(0, 0, 0, 0.15);\n",
              "    filter: drop-shadow(0px 1px 2px rgba(0, 0, 0, 0.3));\n",
              "    fill: #FFFFFF;\n",
              "  }\n",
              "</style>\n",
              "\n",
              "  <script>\n",
              "    async function quickchart(key) {\n",
              "      const charts = await google.colab.kernel.invokeFunction(\n",
              "          'suggestCharts', [key], {});\n",
              "    }\n",
              "    (() => {\n",
              "      let quickchartButtonEl =\n",
              "        document.querySelector('#df-8c9424ff-e973-44fe-94f9-a89b58f9f28b button');\n",
              "      quickchartButtonEl.style.display =\n",
              "        google.colab.kernel.accessAllowed ? 'block' : 'none';\n",
              "    })();\n",
              "  </script>\n",
              "</div>\n",
              "    </div>\n",
              "  </div>\n"
            ]
          },
          "metadata": {},
          "execution_count": 23
        }
      ]
    },
    {
      "cell_type": "markdown",
      "source": [
        "Відсортовані ціни:"
      ],
      "metadata": {
        "id": "DxIzF3IaxwvH"
      }
    },
    {
      "cell_type": "code",
      "source": [
        "print(\"Максимальна ціна для жанру Fiction:\", price_by_genre.loc[0, 'max_price'])\n",
        "print(\"Мінімальна ціна для  жанру Fiction:\", price_by_genre.loc[0, 'min_price'])\n",
        "print(\"Максимальна ціна для жанру Fiction:\", price_by_genre.loc[1, 'max_price'])\n",
        "print(\"Мінімальна ціна для  жанру Fiction:\", price_by_genre.loc[1, 'min_price'])\n"
      ],
      "metadata": {
        "colab": {
          "base_uri": "https://localhost:8080/"
        },
        "id": "hWG5l-BixxXV",
        "outputId": "f25e453d-91e3-4b13-ef39-66f8595312ea"
      },
      "execution_count": 24,
      "outputs": [
        {
          "output_type": "stream",
          "name": "stdout",
          "text": [
            "Максимальна ціна для жанру Fiction: 82\n",
            "Мінімальна ціна для  жанру Fiction: 0\n",
            "Максимальна ціна для жанру Fiction: 105\n",
            "Мінімальна ціна для  жанру Fiction: 0\n"
          ]
        }
      ]
    },
    {
      "cell_type": "markdown",
      "source": [
        "Тепер створіть новий датафрейм, який вміщатиме кількість книг для кожного з авторів (використовуйте функції groupby та agg, для підрахунку кількості використовуйте count). Не беріть усі стовпці, виберете тільки потрібні."
      ],
      "metadata": {
        "id": "rxMS1GNYx8zg"
      }
    },
    {
      "cell_type": "code",
      "source": [
        "author_books = books.groupby('author')['name'].count().reset_index()\n",
        "author_books.columns = ['author', 'book_count']\n",
        "\n",
        "print(\"Кількість книг для кожного автора:\")\n",
        "author_books"
      ],
      "metadata": {
        "colab": {
          "base_uri": "https://localhost:8080/",
          "height": 441
        },
        "id": "AuvKqHIbyF-j",
        "outputId": "4d7c30ab-5b4f-4cd7-9bb7-7251191558b8"
      },
      "execution_count": 25,
      "outputs": [
        {
          "output_type": "stream",
          "name": "stdout",
          "text": [
            "Кількість книг для кожного автора:\n"
          ]
        },
        {
          "output_type": "execute_result",
          "data": {
            "text/plain": [
              "                         author  book_count\n",
              "0              Abraham Verghese           2\n",
              "1                Adam Gasiewski           1\n",
              "2                 Adam Mansbach           1\n",
              "3                     Adir Levy           1\n",
              "4    Admiral William H. McRaven           1\n",
              "..                          ...         ...\n",
              "243             Walter Isaacson           3\n",
              "244               William Davis           2\n",
              "245            William P. Young           2\n",
              "246            Wizards RPG Team           3\n",
              "247                Zhi Gang Sha           2\n",
              "\n",
              "[248 rows x 2 columns]"
            ],
            "text/html": [
              "\n",
              "  <div id=\"df-73ffeb1e-8da3-4a2c-901b-6f4a18be4c47\" class=\"colab-df-container\">\n",
              "    <div>\n",
              "<style scoped>\n",
              "    .dataframe tbody tr th:only-of-type {\n",
              "        vertical-align: middle;\n",
              "    }\n",
              "\n",
              "    .dataframe tbody tr th {\n",
              "        vertical-align: top;\n",
              "    }\n",
              "\n",
              "    .dataframe thead th {\n",
              "        text-align: right;\n",
              "    }\n",
              "</style>\n",
              "<table border=\"1\" class=\"dataframe\">\n",
              "  <thead>\n",
              "    <tr style=\"text-align: right;\">\n",
              "      <th></th>\n",
              "      <th>author</th>\n",
              "      <th>book_count</th>\n",
              "    </tr>\n",
              "  </thead>\n",
              "  <tbody>\n",
              "    <tr>\n",
              "      <th>0</th>\n",
              "      <td>Abraham Verghese</td>\n",
              "      <td>2</td>\n",
              "    </tr>\n",
              "    <tr>\n",
              "      <th>1</th>\n",
              "      <td>Adam Gasiewski</td>\n",
              "      <td>1</td>\n",
              "    </tr>\n",
              "    <tr>\n",
              "      <th>2</th>\n",
              "      <td>Adam Mansbach</td>\n",
              "      <td>1</td>\n",
              "    </tr>\n",
              "    <tr>\n",
              "      <th>3</th>\n",
              "      <td>Adir Levy</td>\n",
              "      <td>1</td>\n",
              "    </tr>\n",
              "    <tr>\n",
              "      <th>4</th>\n",
              "      <td>Admiral William H. McRaven</td>\n",
              "      <td>1</td>\n",
              "    </tr>\n",
              "    <tr>\n",
              "      <th>...</th>\n",
              "      <td>...</td>\n",
              "      <td>...</td>\n",
              "    </tr>\n",
              "    <tr>\n",
              "      <th>243</th>\n",
              "      <td>Walter Isaacson</td>\n",
              "      <td>3</td>\n",
              "    </tr>\n",
              "    <tr>\n",
              "      <th>244</th>\n",
              "      <td>William Davis</td>\n",
              "      <td>2</td>\n",
              "    </tr>\n",
              "    <tr>\n",
              "      <th>245</th>\n",
              "      <td>William P. Young</td>\n",
              "      <td>2</td>\n",
              "    </tr>\n",
              "    <tr>\n",
              "      <th>246</th>\n",
              "      <td>Wizards RPG Team</td>\n",
              "      <td>3</td>\n",
              "    </tr>\n",
              "    <tr>\n",
              "      <th>247</th>\n",
              "      <td>Zhi Gang Sha</td>\n",
              "      <td>2</td>\n",
              "    </tr>\n",
              "  </tbody>\n",
              "</table>\n",
              "<p>248 rows × 2 columns</p>\n",
              "</div>\n",
              "    <div class=\"colab-df-buttons\">\n",
              "\n",
              "  <div class=\"colab-df-container\">\n",
              "    <button class=\"colab-df-convert\" onclick=\"convertToInteractive('df-73ffeb1e-8da3-4a2c-901b-6f4a18be4c47')\"\n",
              "            title=\"Convert this dataframe to an interactive table.\"\n",
              "            style=\"display:none;\">\n",
              "\n",
              "  <svg xmlns=\"http://www.w3.org/2000/svg\" height=\"24px\" viewBox=\"0 -960 960 960\">\n",
              "    <path d=\"M120-120v-720h720v720H120Zm60-500h600v-160H180v160Zm220 220h160v-160H400v160Zm0 220h160v-160H400v160ZM180-400h160v-160H180v160Zm440 0h160v-160H620v160ZM180-180h160v-160H180v160Zm440 0h160v-160H620v160Z\"/>\n",
              "  </svg>\n",
              "    </button>\n",
              "\n",
              "  <style>\n",
              "    .colab-df-container {\n",
              "      display:flex;\n",
              "      gap: 12px;\n",
              "    }\n",
              "\n",
              "    .colab-df-convert {\n",
              "      background-color: #E8F0FE;\n",
              "      border: none;\n",
              "      border-radius: 50%;\n",
              "      cursor: pointer;\n",
              "      display: none;\n",
              "      fill: #1967D2;\n",
              "      height: 32px;\n",
              "      padding: 0 0 0 0;\n",
              "      width: 32px;\n",
              "    }\n",
              "\n",
              "    .colab-df-convert:hover {\n",
              "      background-color: #E2EBFA;\n",
              "      box-shadow: 0px 1px 2px rgba(60, 64, 67, 0.3), 0px 1px 3px 1px rgba(60, 64, 67, 0.15);\n",
              "      fill: #174EA6;\n",
              "    }\n",
              "\n",
              "    .colab-df-buttons div {\n",
              "      margin-bottom: 4px;\n",
              "    }\n",
              "\n",
              "    [theme=dark] .colab-df-convert {\n",
              "      background-color: #3B4455;\n",
              "      fill: #D2E3FC;\n",
              "    }\n",
              "\n",
              "    [theme=dark] .colab-df-convert:hover {\n",
              "      background-color: #434B5C;\n",
              "      box-shadow: 0px 1px 3px 1px rgba(0, 0, 0, 0.15);\n",
              "      filter: drop-shadow(0px 1px 2px rgba(0, 0, 0, 0.3));\n",
              "      fill: #FFFFFF;\n",
              "    }\n",
              "  </style>\n",
              "\n",
              "    <script>\n",
              "      const buttonEl =\n",
              "        document.querySelector('#df-73ffeb1e-8da3-4a2c-901b-6f4a18be4c47 button.colab-df-convert');\n",
              "      buttonEl.style.display =\n",
              "        google.colab.kernel.accessAllowed ? 'block' : 'none';\n",
              "\n",
              "      async function convertToInteractive(key) {\n",
              "        const element = document.querySelector('#df-73ffeb1e-8da3-4a2c-901b-6f4a18be4c47');\n",
              "        const dataTable =\n",
              "          await google.colab.kernel.invokeFunction('convertToInteractive',\n",
              "                                                    [key], {});\n",
              "        if (!dataTable) return;\n",
              "\n",
              "        const docLinkHtml = 'Like what you see? Visit the ' +\n",
              "          '<a target=\"_blank\" href=https://colab.research.google.com/notebooks/data_table.ipynb>data table notebook</a>'\n",
              "          + ' to learn more about interactive tables.';\n",
              "        element.innerHTML = '';\n",
              "        dataTable['output_type'] = 'display_data';\n",
              "        await google.colab.output.renderOutput(dataTable, element);\n",
              "        const docLink = document.createElement('div');\n",
              "        docLink.innerHTML = docLinkHtml;\n",
              "        element.appendChild(docLink);\n",
              "      }\n",
              "    </script>\n",
              "  </div>\n",
              "\n",
              "\n",
              "<div id=\"df-ae818682-efc7-46c4-b3f3-636a63ce26a9\">\n",
              "  <button class=\"colab-df-quickchart\" onclick=\"quickchart('df-ae818682-efc7-46c4-b3f3-636a63ce26a9')\"\n",
              "            title=\"Suggest charts.\"\n",
              "            style=\"display:none;\">\n",
              "\n",
              "<svg xmlns=\"http://www.w3.org/2000/svg\" height=\"24px\"viewBox=\"0 0 24 24\"\n",
              "     width=\"24px\">\n",
              "    <g>\n",
              "        <path d=\"M19 3H5c-1.1 0-2 .9-2 2v14c0 1.1.9 2 2 2h14c1.1 0 2-.9 2-2V5c0-1.1-.9-2-2-2zM9 17H7v-7h2v7zm4 0h-2V7h2v10zm4 0h-2v-4h2v4z\"/>\n",
              "    </g>\n",
              "</svg>\n",
              "  </button>\n",
              "\n",
              "<style>\n",
              "  .colab-df-quickchart {\n",
              "    background-color: #E8F0FE;\n",
              "    border: none;\n",
              "    border-radius: 50%;\n",
              "    cursor: pointer;\n",
              "    display: none;\n",
              "    fill: #1967D2;\n",
              "    height: 32px;\n",
              "    padding: 0 0 0 0;\n",
              "    width: 32px;\n",
              "  }\n",
              "\n",
              "  .colab-df-quickchart:hover {\n",
              "    background-color: #E2EBFA;\n",
              "    box-shadow: 0px 1px 2px rgba(60, 64, 67, 0.3), 0px 1px 3px 1px rgba(60, 64, 67, 0.15);\n",
              "    fill: #174EA6;\n",
              "  }\n",
              "\n",
              "  [theme=dark] .colab-df-quickchart {\n",
              "    background-color: #3B4455;\n",
              "    fill: #D2E3FC;\n",
              "  }\n",
              "\n",
              "  [theme=dark] .colab-df-quickchart:hover {\n",
              "    background-color: #434B5C;\n",
              "    box-shadow: 0px 1px 3px 1px rgba(0, 0, 0, 0.15);\n",
              "    filter: drop-shadow(0px 1px 2px rgba(0, 0, 0, 0.3));\n",
              "    fill: #FFFFFF;\n",
              "  }\n",
              "</style>\n",
              "\n",
              "  <script>\n",
              "    async function quickchart(key) {\n",
              "      const charts = await google.colab.kernel.invokeFunction(\n",
              "          'suggestCharts', [key], {});\n",
              "    }\n",
              "    (() => {\n",
              "      let quickchartButtonEl =\n",
              "        document.querySelector('#df-ae818682-efc7-46c4-b3f3-636a63ce26a9 button');\n",
              "      quickchartButtonEl.style.display =\n",
              "        google.colab.kernel.accessAllowed ? 'block' : 'none';\n",
              "    })();\n",
              "  </script>\n",
              "</div>\n",
              "    </div>\n",
              "  </div>\n"
            ]
          },
          "metadata": {},
          "execution_count": 25
        }
      ]
    },
    {
      "cell_type": "markdown",
      "source": [
        "Якої розмірності вийшла таблиця?"
      ],
      "metadata": {
        "id": "nB_3dPuByLgm"
      }
    },
    {
      "cell_type": "code",
      "source": [
        "author_books.shape"
      ],
      "metadata": {
        "colab": {
          "base_uri": "https://localhost:8080/"
        },
        "id": "Sdi_0-LnyMZM",
        "outputId": "3c8c780e-ea13-40cd-d5cb-12c96ebcbad2"
      },
      "execution_count": 26,
      "outputs": [
        {
          "output_type": "execute_result",
          "data": {
            "text/plain": [
              "(248, 2)"
            ]
          },
          "metadata": {},
          "execution_count": 26
        }
      ]
    },
    {
      "cell_type": "markdown",
      "source": [
        "Який автор має найбільше книг?"
      ],
      "metadata": {
        "id": "EKCa7WzLyQZg"
      }
    },
    {
      "cell_type": "code",
      "source": [
        "author_most_books = author_books.loc[author_books['book_count'].idxmax(), 'author']\n",
        "print(\"Автор з найбільшою кількістю книг:\", author_most_books)"
      ],
      "metadata": {
        "colab": {
          "base_uri": "https://localhost:8080/"
        },
        "id": "1c8zeayvyVIM",
        "outputId": "2b9cef9a-db29-48cb-9d53-1c59adac9bae"
      },
      "execution_count": 27,
      "outputs": [
        {
          "output_type": "stream",
          "name": "stdout",
          "text": [
            "Автор з найбільшою кількістю книг: Jeff Kinney\n"
          ]
        }
      ]
    },
    {
      "cell_type": "markdown",
      "source": [
        "Скільки книг цього автора?"
      ],
      "metadata": {
        "id": "scU4m0oiyZ5d"
      }
    },
    {
      "cell_type": "code",
      "source": [
        "book_count_most_books = author_books.loc[author_books['author'] == author_most_books, 'book_count'].values[0]\n",
        "print(\"Кількість книг автора\", author_most_books, \":\", book_count_most_books)"
      ],
      "metadata": {
        "colab": {
          "base_uri": "https://localhost:8080/"
        },
        "id": "dbSed2TWycDS",
        "outputId": "ae8c28a9-17e9-47fa-9cfb-3bc3c286f601"
      },
      "execution_count": 28,
      "outputs": [
        {
          "output_type": "stream",
          "name": "stdout",
          "text": [
            "Кількість книг автора Jeff Kinney : 12\n"
          ]
        }
      ]
    },
    {
      "cell_type": "markdown",
      "source": [
        "Тепер створіть другий датафрейм, який буде вміщати середній рейтинг для кожного автора (використовуйте функції groupby та agg, для підрахунку середнього значення використовуйте mean). Не беріть усі стовпці, виберете тільки потрібні."
      ],
      "metadata": {
        "id": "ekV5GI_0yeHK"
      }
    },
    {
      "cell_type": "code",
      "source": [
        "author_rate = books.groupby('author')['user_rating'].mean().reset_index()\n",
        "author_rate.columns = ['author', 'avg_rating']\n",
        "\n",
        "print(\"Середній рейтинг для кожного автора:\")\n",
        "print(author_rate)"
      ],
      "metadata": {
        "colab": {
          "base_uri": "https://localhost:8080/"
        },
        "id": "IMCS6dsYygu1",
        "outputId": "63222ebc-ef23-4096-d250-c5df199da42a"
      },
      "execution_count": 29,
      "outputs": [
        {
          "output_type": "stream",
          "name": "stdout",
          "text": [
            "Середній рейтинг для кожного автора:\n",
            "                         author  avg_rating\n",
            "0              Abraham Verghese    4.600000\n",
            "1                Adam Gasiewski    4.400000\n",
            "2                 Adam Mansbach    4.800000\n",
            "3                     Adir Levy    4.800000\n",
            "4    Admiral William H. McRaven    4.700000\n",
            "..                          ...         ...\n",
            "243             Walter Isaacson    4.566667\n",
            "244               William Davis    4.400000\n",
            "245            William P. Young    4.600000\n",
            "246            Wizards RPG Team    4.800000\n",
            "247                Zhi Gang Sha    4.600000\n",
            "\n",
            "[248 rows x 2 columns]\n"
          ]
        }
      ]
    },
    {
      "cell_type": "markdown",
      "source": [
        "У якого автора середній рейтинг мінімальний?"
      ],
      "metadata": {
        "id": "B1Djsjibylj9"
      }
    },
    {
      "cell_type": "code",
      "source": [
        "author_min_avg_rating = author_rate.loc[author_rate['avg_rating'].idxmin(), 'author']\n",
        "print(\"Автор з мінімальним середнім рейтингом:\", author_min_avg_rating)"
      ],
      "metadata": {
        "colab": {
          "base_uri": "https://localhost:8080/"
        },
        "id": "m-jFP7xIymSR",
        "outputId": "4b170d67-c007-48f6-830b-afbd2b668ef9"
      },
      "execution_count": 30,
      "outputs": [
        {
          "output_type": "stream",
          "name": "stdout",
          "text": [
            "Автор з мінімальним середнім рейтингом: Donna Tartt\n"
          ]
        }
      ]
    },
    {
      "cell_type": "markdown",
      "source": [
        "Який у цього автора середній рейтинг?"
      ],
      "metadata": {
        "id": "7bxesFkUyr2S"
      }
    },
    {
      "cell_type": "code",
      "source": [
        "avg_rating_min_avg_rating = author_rate.loc[author_rate['author'] == author_min_avg_rating, 'avg_rating'].values[0]\n",
        "print(\"Середній рейтинг автора\", author_min_avg_rating, \":\", avg_rating_min_avg_rating)"
      ],
      "metadata": {
        "colab": {
          "base_uri": "https://localhost:8080/"
        },
        "id": "9B_IBGn4ysaJ",
        "outputId": "8bd00ff8-9085-4a32-d28d-5a675de634b7"
      },
      "execution_count": 31,
      "outputs": [
        {
          "output_type": "stream",
          "name": "stdout",
          "text": [
            "Середній рейтинг автора Donna Tartt : 3.9\n"
          ]
        }
      ]
    },
    {
      "cell_type": "markdown",
      "source": [
        "З'єднайте останні два датафрейми так, щоб для кожного автора було видно кількість книг та середній рейтинг (Використовуйте функцію concat з параметром axis=1). Збережіть результат у змінну"
      ],
      "metadata": {
        "id": "Z1iuj8mOyvNc"
      }
    },
    {
      "cell_type": "code",
      "source": [
        "authors_summary = pd.concat([author_books.set_index('author'), author_rate.set_index('author')], axis=1).reset_index()\n",
        "authors_summary.columns = ['author', 'book_count', 'avg_rating']\n",
        "authors_summary"
      ],
      "metadata": {
        "colab": {
          "base_uri": "https://localhost:8080/",
          "height": 423
        },
        "id": "ju_miGUcy5ar",
        "outputId": "543f13fc-c11a-4c2b-8696-33e32bf17de0"
      },
      "execution_count": 32,
      "outputs": [
        {
          "output_type": "execute_result",
          "data": {
            "text/plain": [
              "                         author  book_count  avg_rating\n",
              "0              Abraham Verghese           2    4.600000\n",
              "1                Adam Gasiewski           1    4.400000\n",
              "2                 Adam Mansbach           1    4.800000\n",
              "3                     Adir Levy           1    4.800000\n",
              "4    Admiral William H. McRaven           1    4.700000\n",
              "..                          ...         ...         ...\n",
              "243             Walter Isaacson           3    4.566667\n",
              "244               William Davis           2    4.400000\n",
              "245            William P. Young           2    4.600000\n",
              "246            Wizards RPG Team           3    4.800000\n",
              "247                Zhi Gang Sha           2    4.600000\n",
              "\n",
              "[248 rows x 3 columns]"
            ],
            "text/html": [
              "\n",
              "  <div id=\"df-c61ca180-56c6-4db0-a143-a48376578f68\" class=\"colab-df-container\">\n",
              "    <div>\n",
              "<style scoped>\n",
              "    .dataframe tbody tr th:only-of-type {\n",
              "        vertical-align: middle;\n",
              "    }\n",
              "\n",
              "    .dataframe tbody tr th {\n",
              "        vertical-align: top;\n",
              "    }\n",
              "\n",
              "    .dataframe thead th {\n",
              "        text-align: right;\n",
              "    }\n",
              "</style>\n",
              "<table border=\"1\" class=\"dataframe\">\n",
              "  <thead>\n",
              "    <tr style=\"text-align: right;\">\n",
              "      <th></th>\n",
              "      <th>author</th>\n",
              "      <th>book_count</th>\n",
              "      <th>avg_rating</th>\n",
              "    </tr>\n",
              "  </thead>\n",
              "  <tbody>\n",
              "    <tr>\n",
              "      <th>0</th>\n",
              "      <td>Abraham Verghese</td>\n",
              "      <td>2</td>\n",
              "      <td>4.600000</td>\n",
              "    </tr>\n",
              "    <tr>\n",
              "      <th>1</th>\n",
              "      <td>Adam Gasiewski</td>\n",
              "      <td>1</td>\n",
              "      <td>4.400000</td>\n",
              "    </tr>\n",
              "    <tr>\n",
              "      <th>2</th>\n",
              "      <td>Adam Mansbach</td>\n",
              "      <td>1</td>\n",
              "      <td>4.800000</td>\n",
              "    </tr>\n",
              "    <tr>\n",
              "      <th>3</th>\n",
              "      <td>Adir Levy</td>\n",
              "      <td>1</td>\n",
              "      <td>4.800000</td>\n",
              "    </tr>\n",
              "    <tr>\n",
              "      <th>4</th>\n",
              "      <td>Admiral William H. McRaven</td>\n",
              "      <td>1</td>\n",
              "      <td>4.700000</td>\n",
              "    </tr>\n",
              "    <tr>\n",
              "      <th>...</th>\n",
              "      <td>...</td>\n",
              "      <td>...</td>\n",
              "      <td>...</td>\n",
              "    </tr>\n",
              "    <tr>\n",
              "      <th>243</th>\n",
              "      <td>Walter Isaacson</td>\n",
              "      <td>3</td>\n",
              "      <td>4.566667</td>\n",
              "    </tr>\n",
              "    <tr>\n",
              "      <th>244</th>\n",
              "      <td>William Davis</td>\n",
              "      <td>2</td>\n",
              "      <td>4.400000</td>\n",
              "    </tr>\n",
              "    <tr>\n",
              "      <th>245</th>\n",
              "      <td>William P. Young</td>\n",
              "      <td>2</td>\n",
              "      <td>4.600000</td>\n",
              "    </tr>\n",
              "    <tr>\n",
              "      <th>246</th>\n",
              "      <td>Wizards RPG Team</td>\n",
              "      <td>3</td>\n",
              "      <td>4.800000</td>\n",
              "    </tr>\n",
              "    <tr>\n",
              "      <th>247</th>\n",
              "      <td>Zhi Gang Sha</td>\n",
              "      <td>2</td>\n",
              "      <td>4.600000</td>\n",
              "    </tr>\n",
              "  </tbody>\n",
              "</table>\n",
              "<p>248 rows × 3 columns</p>\n",
              "</div>\n",
              "    <div class=\"colab-df-buttons\">\n",
              "\n",
              "  <div class=\"colab-df-container\">\n",
              "    <button class=\"colab-df-convert\" onclick=\"convertToInteractive('df-c61ca180-56c6-4db0-a143-a48376578f68')\"\n",
              "            title=\"Convert this dataframe to an interactive table.\"\n",
              "            style=\"display:none;\">\n",
              "\n",
              "  <svg xmlns=\"http://www.w3.org/2000/svg\" height=\"24px\" viewBox=\"0 -960 960 960\">\n",
              "    <path d=\"M120-120v-720h720v720H120Zm60-500h600v-160H180v160Zm220 220h160v-160H400v160Zm0 220h160v-160H400v160ZM180-400h160v-160H180v160Zm440 0h160v-160H620v160ZM180-180h160v-160H180v160Zm440 0h160v-160H620v160Z\"/>\n",
              "  </svg>\n",
              "    </button>\n",
              "\n",
              "  <style>\n",
              "    .colab-df-container {\n",
              "      display:flex;\n",
              "      gap: 12px;\n",
              "    }\n",
              "\n",
              "    .colab-df-convert {\n",
              "      background-color: #E8F0FE;\n",
              "      border: none;\n",
              "      border-radius: 50%;\n",
              "      cursor: pointer;\n",
              "      display: none;\n",
              "      fill: #1967D2;\n",
              "      height: 32px;\n",
              "      padding: 0 0 0 0;\n",
              "      width: 32px;\n",
              "    }\n",
              "\n",
              "    .colab-df-convert:hover {\n",
              "      background-color: #E2EBFA;\n",
              "      box-shadow: 0px 1px 2px rgba(60, 64, 67, 0.3), 0px 1px 3px 1px rgba(60, 64, 67, 0.15);\n",
              "      fill: #174EA6;\n",
              "    }\n",
              "\n",
              "    .colab-df-buttons div {\n",
              "      margin-bottom: 4px;\n",
              "    }\n",
              "\n",
              "    [theme=dark] .colab-df-convert {\n",
              "      background-color: #3B4455;\n",
              "      fill: #D2E3FC;\n",
              "    }\n",
              "\n",
              "    [theme=dark] .colab-df-convert:hover {\n",
              "      background-color: #434B5C;\n",
              "      box-shadow: 0px 1px 3px 1px rgba(0, 0, 0, 0.15);\n",
              "      filter: drop-shadow(0px 1px 2px rgba(0, 0, 0, 0.3));\n",
              "      fill: #FFFFFF;\n",
              "    }\n",
              "  </style>\n",
              "\n",
              "    <script>\n",
              "      const buttonEl =\n",
              "        document.querySelector('#df-c61ca180-56c6-4db0-a143-a48376578f68 button.colab-df-convert');\n",
              "      buttonEl.style.display =\n",
              "        google.colab.kernel.accessAllowed ? 'block' : 'none';\n",
              "\n",
              "      async function convertToInteractive(key) {\n",
              "        const element = document.querySelector('#df-c61ca180-56c6-4db0-a143-a48376578f68');\n",
              "        const dataTable =\n",
              "          await google.colab.kernel.invokeFunction('convertToInteractive',\n",
              "                                                    [key], {});\n",
              "        if (!dataTable) return;\n",
              "\n",
              "        const docLinkHtml = 'Like what you see? Visit the ' +\n",
              "          '<a target=\"_blank\" href=https://colab.research.google.com/notebooks/data_table.ipynb>data table notebook</a>'\n",
              "          + ' to learn more about interactive tables.';\n",
              "        element.innerHTML = '';\n",
              "        dataTable['output_type'] = 'display_data';\n",
              "        await google.colab.output.renderOutput(dataTable, element);\n",
              "        const docLink = document.createElement('div');\n",
              "        docLink.innerHTML = docLinkHtml;\n",
              "        element.appendChild(docLink);\n",
              "      }\n",
              "    </script>\n",
              "  </div>\n",
              "\n",
              "\n",
              "<div id=\"df-b02e00fe-0562-4999-89d0-30d8877451f6\">\n",
              "  <button class=\"colab-df-quickchart\" onclick=\"quickchart('df-b02e00fe-0562-4999-89d0-30d8877451f6')\"\n",
              "            title=\"Suggest charts.\"\n",
              "            style=\"display:none;\">\n",
              "\n",
              "<svg xmlns=\"http://www.w3.org/2000/svg\" height=\"24px\"viewBox=\"0 0 24 24\"\n",
              "     width=\"24px\">\n",
              "    <g>\n",
              "        <path d=\"M19 3H5c-1.1 0-2 .9-2 2v14c0 1.1.9 2 2 2h14c1.1 0 2-.9 2-2V5c0-1.1-.9-2-2-2zM9 17H7v-7h2v7zm4 0h-2V7h2v10zm4 0h-2v-4h2v4z\"/>\n",
              "    </g>\n",
              "</svg>\n",
              "  </button>\n",
              "\n",
              "<style>\n",
              "  .colab-df-quickchart {\n",
              "    background-color: #E8F0FE;\n",
              "    border: none;\n",
              "    border-radius: 50%;\n",
              "    cursor: pointer;\n",
              "    display: none;\n",
              "    fill: #1967D2;\n",
              "    height: 32px;\n",
              "    padding: 0 0 0 0;\n",
              "    width: 32px;\n",
              "  }\n",
              "\n",
              "  .colab-df-quickchart:hover {\n",
              "    background-color: #E2EBFA;\n",
              "    box-shadow: 0px 1px 2px rgba(60, 64, 67, 0.3), 0px 1px 3px 1px rgba(60, 64, 67, 0.15);\n",
              "    fill: #174EA6;\n",
              "  }\n",
              "\n",
              "  [theme=dark] .colab-df-quickchart {\n",
              "    background-color: #3B4455;\n",
              "    fill: #D2E3FC;\n",
              "  }\n",
              "\n",
              "  [theme=dark] .colab-df-quickchart:hover {\n",
              "    background-color: #434B5C;\n",
              "    box-shadow: 0px 1px 3px 1px rgba(0, 0, 0, 0.15);\n",
              "    filter: drop-shadow(0px 1px 2px rgba(0, 0, 0, 0.3));\n",
              "    fill: #FFFFFF;\n",
              "  }\n",
              "</style>\n",
              "\n",
              "  <script>\n",
              "    async function quickchart(key) {\n",
              "      const charts = await google.colab.kernel.invokeFunction(\n",
              "          'suggestCharts', [key], {});\n",
              "    }\n",
              "    (() => {\n",
              "      let quickchartButtonEl =\n",
              "        document.querySelector('#df-b02e00fe-0562-4999-89d0-30d8877451f6 button');\n",
              "      quickchartButtonEl.style.display =\n",
              "        google.colab.kernel.accessAllowed ? 'block' : 'none';\n",
              "    })();\n",
              "  </script>\n",
              "</div>\n",
              "    </div>\n",
              "  </div>\n"
            ]
          },
          "metadata": {},
          "execution_count": 32
        }
      ]
    },
    {
      "cell_type": "markdown",
      "source": [
        "Відсортуйте датафрейм за зростаючою кількістю книг та зростаючим рейтингом (використовуйте функцію sort_values)"
      ],
      "metadata": {
        "id": "Zz57z3t7y7cF"
      }
    },
    {
      "cell_type": "code",
      "source": [
        "sorted_summary = authors_summary.sort_values(by=['book_count', 'avg_rating'], ascending=[True, True])\n",
        "sorted_summary"
      ],
      "metadata": {
        "colab": {
          "base_uri": "https://localhost:8080/",
          "height": 423
        },
        "id": "byhDAeJey-r8",
        "outputId": "0b3a515d-7439-4088-be27-a121ca9d0f25"
      },
      "execution_count": 33,
      "outputs": [
        {
          "output_type": "execute_result",
          "data": {
            "text/plain": [
              "                                 author  book_count  avg_rating\n",
              "171                      Muriel Barbery           1    4.000000\n",
              "43                         Chris Cleave           1    4.100000\n",
              "109                   Ian K. Smith M.D.           1    4.100000\n",
              "186                        Pierre Dukan           1    4.100000\n",
              "81                     Elizabeth Strout           1    4.200000\n",
              "..                                  ...         ...         ...\n",
              "11   American Psychological Association          10    4.500000\n",
              "226                     Suzanne Collins          11    4.663636\n",
              "92                         Gary Chapman          11    4.736364\n",
              "197                        Rick Riordan          11    4.772727\n",
              "120                         Jeff Kinney          12    4.800000\n",
              "\n",
              "[248 rows x 3 columns]"
            ],
            "text/html": [
              "\n",
              "  <div id=\"df-fe9224ac-86f9-43f7-b751-83d7b4d5f8e8\" class=\"colab-df-container\">\n",
              "    <div>\n",
              "<style scoped>\n",
              "    .dataframe tbody tr th:only-of-type {\n",
              "        vertical-align: middle;\n",
              "    }\n",
              "\n",
              "    .dataframe tbody tr th {\n",
              "        vertical-align: top;\n",
              "    }\n",
              "\n",
              "    .dataframe thead th {\n",
              "        text-align: right;\n",
              "    }\n",
              "</style>\n",
              "<table border=\"1\" class=\"dataframe\">\n",
              "  <thead>\n",
              "    <tr style=\"text-align: right;\">\n",
              "      <th></th>\n",
              "      <th>author</th>\n",
              "      <th>book_count</th>\n",
              "      <th>avg_rating</th>\n",
              "    </tr>\n",
              "  </thead>\n",
              "  <tbody>\n",
              "    <tr>\n",
              "      <th>171</th>\n",
              "      <td>Muriel Barbery</td>\n",
              "      <td>1</td>\n",
              "      <td>4.000000</td>\n",
              "    </tr>\n",
              "    <tr>\n",
              "      <th>43</th>\n",
              "      <td>Chris Cleave</td>\n",
              "      <td>1</td>\n",
              "      <td>4.100000</td>\n",
              "    </tr>\n",
              "    <tr>\n",
              "      <th>109</th>\n",
              "      <td>Ian K. Smith M.D.</td>\n",
              "      <td>1</td>\n",
              "      <td>4.100000</td>\n",
              "    </tr>\n",
              "    <tr>\n",
              "      <th>186</th>\n",
              "      <td>Pierre Dukan</td>\n",
              "      <td>1</td>\n",
              "      <td>4.100000</td>\n",
              "    </tr>\n",
              "    <tr>\n",
              "      <th>81</th>\n",
              "      <td>Elizabeth Strout</td>\n",
              "      <td>1</td>\n",
              "      <td>4.200000</td>\n",
              "    </tr>\n",
              "    <tr>\n",
              "      <th>...</th>\n",
              "      <td>...</td>\n",
              "      <td>...</td>\n",
              "      <td>...</td>\n",
              "    </tr>\n",
              "    <tr>\n",
              "      <th>11</th>\n",
              "      <td>American Psychological Association</td>\n",
              "      <td>10</td>\n",
              "      <td>4.500000</td>\n",
              "    </tr>\n",
              "    <tr>\n",
              "      <th>226</th>\n",
              "      <td>Suzanne Collins</td>\n",
              "      <td>11</td>\n",
              "      <td>4.663636</td>\n",
              "    </tr>\n",
              "    <tr>\n",
              "      <th>92</th>\n",
              "      <td>Gary Chapman</td>\n",
              "      <td>11</td>\n",
              "      <td>4.736364</td>\n",
              "    </tr>\n",
              "    <tr>\n",
              "      <th>197</th>\n",
              "      <td>Rick Riordan</td>\n",
              "      <td>11</td>\n",
              "      <td>4.772727</td>\n",
              "    </tr>\n",
              "    <tr>\n",
              "      <th>120</th>\n",
              "      <td>Jeff Kinney</td>\n",
              "      <td>12</td>\n",
              "      <td>4.800000</td>\n",
              "    </tr>\n",
              "  </tbody>\n",
              "</table>\n",
              "<p>248 rows × 3 columns</p>\n",
              "</div>\n",
              "    <div class=\"colab-df-buttons\">\n",
              "\n",
              "  <div class=\"colab-df-container\">\n",
              "    <button class=\"colab-df-convert\" onclick=\"convertToInteractive('df-fe9224ac-86f9-43f7-b751-83d7b4d5f8e8')\"\n",
              "            title=\"Convert this dataframe to an interactive table.\"\n",
              "            style=\"display:none;\">\n",
              "\n",
              "  <svg xmlns=\"http://www.w3.org/2000/svg\" height=\"24px\" viewBox=\"0 -960 960 960\">\n",
              "    <path d=\"M120-120v-720h720v720H120Zm60-500h600v-160H180v160Zm220 220h160v-160H400v160Zm0 220h160v-160H400v160ZM180-400h160v-160H180v160Zm440 0h160v-160H620v160ZM180-180h160v-160H180v160Zm440 0h160v-160H620v160Z\"/>\n",
              "  </svg>\n",
              "    </button>\n",
              "\n",
              "  <style>\n",
              "    .colab-df-container {\n",
              "      display:flex;\n",
              "      gap: 12px;\n",
              "    }\n",
              "\n",
              "    .colab-df-convert {\n",
              "      background-color: #E8F0FE;\n",
              "      border: none;\n",
              "      border-radius: 50%;\n",
              "      cursor: pointer;\n",
              "      display: none;\n",
              "      fill: #1967D2;\n",
              "      height: 32px;\n",
              "      padding: 0 0 0 0;\n",
              "      width: 32px;\n",
              "    }\n",
              "\n",
              "    .colab-df-convert:hover {\n",
              "      background-color: #E2EBFA;\n",
              "      box-shadow: 0px 1px 2px rgba(60, 64, 67, 0.3), 0px 1px 3px 1px rgba(60, 64, 67, 0.15);\n",
              "      fill: #174EA6;\n",
              "    }\n",
              "\n",
              "    .colab-df-buttons div {\n",
              "      margin-bottom: 4px;\n",
              "    }\n",
              "\n",
              "    [theme=dark] .colab-df-convert {\n",
              "      background-color: #3B4455;\n",
              "      fill: #D2E3FC;\n",
              "    }\n",
              "\n",
              "    [theme=dark] .colab-df-convert:hover {\n",
              "      background-color: #434B5C;\n",
              "      box-shadow: 0px 1px 3px 1px rgba(0, 0, 0, 0.15);\n",
              "      filter: drop-shadow(0px 1px 2px rgba(0, 0, 0, 0.3));\n",
              "      fill: #FFFFFF;\n",
              "    }\n",
              "  </style>\n",
              "\n",
              "    <script>\n",
              "      const buttonEl =\n",
              "        document.querySelector('#df-fe9224ac-86f9-43f7-b751-83d7b4d5f8e8 button.colab-df-convert');\n",
              "      buttonEl.style.display =\n",
              "        google.colab.kernel.accessAllowed ? 'block' : 'none';\n",
              "\n",
              "      async function convertToInteractive(key) {\n",
              "        const element = document.querySelector('#df-fe9224ac-86f9-43f7-b751-83d7b4d5f8e8');\n",
              "        const dataTable =\n",
              "          await google.colab.kernel.invokeFunction('convertToInteractive',\n",
              "                                                    [key], {});\n",
              "        if (!dataTable) return;\n",
              "\n",
              "        const docLinkHtml = 'Like what you see? Visit the ' +\n",
              "          '<a target=\"_blank\" href=https://colab.research.google.com/notebooks/data_table.ipynb>data table notebook</a>'\n",
              "          + ' to learn more about interactive tables.';\n",
              "        element.innerHTML = '';\n",
              "        dataTable['output_type'] = 'display_data';\n",
              "        await google.colab.output.renderOutput(dataTable, element);\n",
              "        const docLink = document.createElement('div');\n",
              "        docLink.innerHTML = docLinkHtml;\n",
              "        element.appendChild(docLink);\n",
              "      }\n",
              "    </script>\n",
              "  </div>\n",
              "\n",
              "\n",
              "<div id=\"df-cfbcb454-a8c6-45e8-8cf0-9b836cb6ac0f\">\n",
              "  <button class=\"colab-df-quickchart\" onclick=\"quickchart('df-cfbcb454-a8c6-45e8-8cf0-9b836cb6ac0f')\"\n",
              "            title=\"Suggest charts.\"\n",
              "            style=\"display:none;\">\n",
              "\n",
              "<svg xmlns=\"http://www.w3.org/2000/svg\" height=\"24px\"viewBox=\"0 0 24 24\"\n",
              "     width=\"24px\">\n",
              "    <g>\n",
              "        <path d=\"M19 3H5c-1.1 0-2 .9-2 2v14c0 1.1.9 2 2 2h14c1.1 0 2-.9 2-2V5c0-1.1-.9-2-2-2zM9 17H7v-7h2v7zm4 0h-2V7h2v10zm4 0h-2v-4h2v4z\"/>\n",
              "    </g>\n",
              "</svg>\n",
              "  </button>\n",
              "\n",
              "<style>\n",
              "  .colab-df-quickchart {\n",
              "    background-color: #E8F0FE;\n",
              "    border: none;\n",
              "    border-radius: 50%;\n",
              "    cursor: pointer;\n",
              "    display: none;\n",
              "    fill: #1967D2;\n",
              "    height: 32px;\n",
              "    padding: 0 0 0 0;\n",
              "    width: 32px;\n",
              "  }\n",
              "\n",
              "  .colab-df-quickchart:hover {\n",
              "    background-color: #E2EBFA;\n",
              "    box-shadow: 0px 1px 2px rgba(60, 64, 67, 0.3), 0px 1px 3px 1px rgba(60, 64, 67, 0.15);\n",
              "    fill: #174EA6;\n",
              "  }\n",
              "\n",
              "  [theme=dark] .colab-df-quickchart {\n",
              "    background-color: #3B4455;\n",
              "    fill: #D2E3FC;\n",
              "  }\n",
              "\n",
              "  [theme=dark] .colab-df-quickchart:hover {\n",
              "    background-color: #434B5C;\n",
              "    box-shadow: 0px 1px 3px 1px rgba(0, 0, 0, 0.15);\n",
              "    filter: drop-shadow(0px 1px 2px rgba(0, 0, 0, 0.3));\n",
              "    fill: #FFFFFF;\n",
              "  }\n",
              "</style>\n",
              "\n",
              "  <script>\n",
              "    async function quickchart(key) {\n",
              "      const charts = await google.colab.kernel.invokeFunction(\n",
              "          'suggestCharts', [key], {});\n",
              "    }\n",
              "    (() => {\n",
              "      let quickchartButtonEl =\n",
              "        document.querySelector('#df-cfbcb454-a8c6-45e8-8cf0-9b836cb6ac0f button');\n",
              "      quickchartButtonEl.style.display =\n",
              "        google.colab.kernel.accessAllowed ? 'block' : 'none';\n",
              "    })();\n",
              "  </script>\n",
              "</div>\n",
              "    </div>\n",
              "  </div>\n"
            ]
          },
          "metadata": {},
          "execution_count": 33
        }
      ]
    },
    {
      "cell_type": "markdown",
      "source": [
        "Який автор перший у списку?"
      ],
      "metadata": {
        "id": "GxbF0FLbzCqY"
      }
    },
    {
      "cell_type": "code",
      "source": [
        "print(\"Який автор перший у списку? - \", sorted_summary.iloc[0]['author'])"
      ],
      "metadata": {
        "colab": {
          "base_uri": "https://localhost:8080/"
        },
        "id": "LiZlM8r3zEeb",
        "outputId": "28bb56ea-8ee0-4ec3-ca0b-97346f33ce37"
      },
      "execution_count": 34,
      "outputs": [
        {
          "output_type": "stream",
          "name": "stdout",
          "text": [
            "Який автор перший у списку? -  Muriel Barbery\n"
          ]
        }
      ]
    },
    {
      "cell_type": "markdown",
      "source": [
        "**Візуалізація**"
      ],
      "metadata": {
        "id": "_aD7YWWfzVu_"
      }
    },
    {
      "cell_type": "code",
      "source": [
        "import plotly.express as px\n",
        "import seaborn as sns\n",
        "from numpy import median\n"
      ],
      "metadata": {
        "id": "X5lMndzszYfs"
      },
      "execution_count": 44,
      "outputs": []
    },
    {
      "cell_type": "code",
      "source": [
        "avg_data = books.groupby('user_rating').agg({'reviews': 'mean'})\n",
        "fig = px.line(avg_data, x=avg_data.index, y=\"reviews\", title = \"Середня кількість відгуків залежно відносно рейтингу\")\n",
        "fig.show()"
      ],
      "metadata": {
        "colab": {
          "base_uri": "https://localhost:8080/",
          "height": 542
        },
        "id": "dpL9rLVx7E4c",
        "outputId": "893ad989-eed9-498e-bc02-e59324bb5d5a"
      },
      "execution_count": 45,
      "outputs": [
        {
          "output_type": "display_data",
          "data": {
            "text/html": [
              "<html>\n",
              "<head><meta charset=\"utf-8\" /></head>\n",
              "<body>\n",
              "    <div>            <script src=\"https://cdnjs.cloudflare.com/ajax/libs/mathjax/2.7.5/MathJax.js?config=TeX-AMS-MML_SVG\"></script><script type=\"text/javascript\">if (window.MathJax && window.MathJax.Hub && window.MathJax.Hub.Config) {window.MathJax.Hub.Config({SVG: {font: \"STIX-Web\"}});}</script>                <script type=\"text/javascript\">window.PlotlyConfig = {MathJaxConfig: 'local'};</script>\n",
              "        <script charset=\"utf-8\" src=\"https://cdn.plot.ly/plotly-2.24.1.min.js\"></script>                <div id=\"963df903-99de-4820-b265-15dea6cf0d55\" class=\"plotly-graph-div\" style=\"height:525px; width:100%;\"></div>            <script type=\"text/javascript\">                                    window.PLOTLYENV=window.PLOTLYENV || {};                                    if (document.getElementById(\"963df903-99de-4820-b265-15dea6cf0d55\")) {                    Plotly.newPlot(                        \"963df903-99de-4820-b265-15dea6cf0d55\",                        [{\"hovertemplate\":\"user_rating=%{x}\\u003cbr\\u003ereviews=%{y}\\u003cextra\\u003e\\u003c\\u002fextra\\u003e\",\"legendgroup\":\"\",\"line\":{\"color\":\"#636efa\",\"dash\":\"solid\"},\"marker\":{\"symbol\":\"circle\"},\"mode\":\"lines\",\"name\":\"\",\"orientation\":\"v\",\"showlegend\":false,\"x\":[3.3,3.6,3.8,3.9,4.0,4.1,4.2,4.3,4.4,4.5,4.6,4.7,4.8,4.9],\"xaxis\":\"x\",\"y\":[9372.0,14982.0,47265.0,24666.0,17376.14285714286,32384.166666666668,4283.5,8362.88,7038.973684210527,9231.116666666667,9260.038095238095,13660.925925925925,13840.110236220473,12957.423076923076],\"yaxis\":\"y\",\"type\":\"scatter\"}],                        {\"template\":{\"data\":{\"histogram2dcontour\":[{\"type\":\"histogram2dcontour\",\"colorbar\":{\"outlinewidth\":0,\"ticks\":\"\"},\"colorscale\":[[0.0,\"#0d0887\"],[0.1111111111111111,\"#46039f\"],[0.2222222222222222,\"#7201a8\"],[0.3333333333333333,\"#9c179e\"],[0.4444444444444444,\"#bd3786\"],[0.5555555555555556,\"#d8576b\"],[0.6666666666666666,\"#ed7953\"],[0.7777777777777778,\"#fb9f3a\"],[0.8888888888888888,\"#fdca26\"],[1.0,\"#f0f921\"]]}],\"choropleth\":[{\"type\":\"choropleth\",\"colorbar\":{\"outlinewidth\":0,\"ticks\":\"\"}}],\"histogram2d\":[{\"type\":\"histogram2d\",\"colorbar\":{\"outlinewidth\":0,\"ticks\":\"\"},\"colorscale\":[[0.0,\"#0d0887\"],[0.1111111111111111,\"#46039f\"],[0.2222222222222222,\"#7201a8\"],[0.3333333333333333,\"#9c179e\"],[0.4444444444444444,\"#bd3786\"],[0.5555555555555556,\"#d8576b\"],[0.6666666666666666,\"#ed7953\"],[0.7777777777777778,\"#fb9f3a\"],[0.8888888888888888,\"#fdca26\"],[1.0,\"#f0f921\"]]}],\"heatmap\":[{\"type\":\"heatmap\",\"colorbar\":{\"outlinewidth\":0,\"ticks\":\"\"},\"colorscale\":[[0.0,\"#0d0887\"],[0.1111111111111111,\"#46039f\"],[0.2222222222222222,\"#7201a8\"],[0.3333333333333333,\"#9c179e\"],[0.4444444444444444,\"#bd3786\"],[0.5555555555555556,\"#d8576b\"],[0.6666666666666666,\"#ed7953\"],[0.7777777777777778,\"#fb9f3a\"],[0.8888888888888888,\"#fdca26\"],[1.0,\"#f0f921\"]]}],\"heatmapgl\":[{\"type\":\"heatmapgl\",\"colorbar\":{\"outlinewidth\":0,\"ticks\":\"\"},\"colorscale\":[[0.0,\"#0d0887\"],[0.1111111111111111,\"#46039f\"],[0.2222222222222222,\"#7201a8\"],[0.3333333333333333,\"#9c179e\"],[0.4444444444444444,\"#bd3786\"],[0.5555555555555556,\"#d8576b\"],[0.6666666666666666,\"#ed7953\"],[0.7777777777777778,\"#fb9f3a\"],[0.8888888888888888,\"#fdca26\"],[1.0,\"#f0f921\"]]}],\"contourcarpet\":[{\"type\":\"contourcarpet\",\"colorbar\":{\"outlinewidth\":0,\"ticks\":\"\"}}],\"contour\":[{\"type\":\"contour\",\"colorbar\":{\"outlinewidth\":0,\"ticks\":\"\"},\"colorscale\":[[0.0,\"#0d0887\"],[0.1111111111111111,\"#46039f\"],[0.2222222222222222,\"#7201a8\"],[0.3333333333333333,\"#9c179e\"],[0.4444444444444444,\"#bd3786\"],[0.5555555555555556,\"#d8576b\"],[0.6666666666666666,\"#ed7953\"],[0.7777777777777778,\"#fb9f3a\"],[0.8888888888888888,\"#fdca26\"],[1.0,\"#f0f921\"]]}],\"surface\":[{\"type\":\"surface\",\"colorbar\":{\"outlinewidth\":0,\"ticks\":\"\"},\"colorscale\":[[0.0,\"#0d0887\"],[0.1111111111111111,\"#46039f\"],[0.2222222222222222,\"#7201a8\"],[0.3333333333333333,\"#9c179e\"],[0.4444444444444444,\"#bd3786\"],[0.5555555555555556,\"#d8576b\"],[0.6666666666666666,\"#ed7953\"],[0.7777777777777778,\"#fb9f3a\"],[0.8888888888888888,\"#fdca26\"],[1.0,\"#f0f921\"]]}],\"mesh3d\":[{\"type\":\"mesh3d\",\"colorbar\":{\"outlinewidth\":0,\"ticks\":\"\"}}],\"scatter\":[{\"fillpattern\":{\"fillmode\":\"overlay\",\"size\":10,\"solidity\":0.2},\"type\":\"scatter\"}],\"parcoords\":[{\"type\":\"parcoords\",\"line\":{\"colorbar\":{\"outlinewidth\":0,\"ticks\":\"\"}}}],\"scatterpolargl\":[{\"type\":\"scatterpolargl\",\"marker\":{\"colorbar\":{\"outlinewidth\":0,\"ticks\":\"\"}}}],\"bar\":[{\"error_x\":{\"color\":\"#2a3f5f\"},\"error_y\":{\"color\":\"#2a3f5f\"},\"marker\":{\"line\":{\"color\":\"#E5ECF6\",\"width\":0.5},\"pattern\":{\"fillmode\":\"overlay\",\"size\":10,\"solidity\":0.2}},\"type\":\"bar\"}],\"scattergeo\":[{\"type\":\"scattergeo\",\"marker\":{\"colorbar\":{\"outlinewidth\":0,\"ticks\":\"\"}}}],\"scatterpolar\":[{\"type\":\"scatterpolar\",\"marker\":{\"colorbar\":{\"outlinewidth\":0,\"ticks\":\"\"}}}],\"histogram\":[{\"marker\":{\"pattern\":{\"fillmode\":\"overlay\",\"size\":10,\"solidity\":0.2}},\"type\":\"histogram\"}],\"scattergl\":[{\"type\":\"scattergl\",\"marker\":{\"colorbar\":{\"outlinewidth\":0,\"ticks\":\"\"}}}],\"scatter3d\":[{\"type\":\"scatter3d\",\"line\":{\"colorbar\":{\"outlinewidth\":0,\"ticks\":\"\"}},\"marker\":{\"colorbar\":{\"outlinewidth\":0,\"ticks\":\"\"}}}],\"scattermapbox\":[{\"type\":\"scattermapbox\",\"marker\":{\"colorbar\":{\"outlinewidth\":0,\"ticks\":\"\"}}}],\"scatterternary\":[{\"type\":\"scatterternary\",\"marker\":{\"colorbar\":{\"outlinewidth\":0,\"ticks\":\"\"}}}],\"scattercarpet\":[{\"type\":\"scattercarpet\",\"marker\":{\"colorbar\":{\"outlinewidth\":0,\"ticks\":\"\"}}}],\"carpet\":[{\"aaxis\":{\"endlinecolor\":\"#2a3f5f\",\"gridcolor\":\"white\",\"linecolor\":\"white\",\"minorgridcolor\":\"white\",\"startlinecolor\":\"#2a3f5f\"},\"baxis\":{\"endlinecolor\":\"#2a3f5f\",\"gridcolor\":\"white\",\"linecolor\":\"white\",\"minorgridcolor\":\"white\",\"startlinecolor\":\"#2a3f5f\"},\"type\":\"carpet\"}],\"table\":[{\"cells\":{\"fill\":{\"color\":\"#EBF0F8\"},\"line\":{\"color\":\"white\"}},\"header\":{\"fill\":{\"color\":\"#C8D4E3\"},\"line\":{\"color\":\"white\"}},\"type\":\"table\"}],\"barpolar\":[{\"marker\":{\"line\":{\"color\":\"#E5ECF6\",\"width\":0.5},\"pattern\":{\"fillmode\":\"overlay\",\"size\":10,\"solidity\":0.2}},\"type\":\"barpolar\"}],\"pie\":[{\"automargin\":true,\"type\":\"pie\"}]},\"layout\":{\"autotypenumbers\":\"strict\",\"colorway\":[\"#636efa\",\"#EF553B\",\"#00cc96\",\"#ab63fa\",\"#FFA15A\",\"#19d3f3\",\"#FF6692\",\"#B6E880\",\"#FF97FF\",\"#FECB52\"],\"font\":{\"color\":\"#2a3f5f\"},\"hovermode\":\"closest\",\"hoverlabel\":{\"align\":\"left\"},\"paper_bgcolor\":\"white\",\"plot_bgcolor\":\"#E5ECF6\",\"polar\":{\"bgcolor\":\"#E5ECF6\",\"angularaxis\":{\"gridcolor\":\"white\",\"linecolor\":\"white\",\"ticks\":\"\"},\"radialaxis\":{\"gridcolor\":\"white\",\"linecolor\":\"white\",\"ticks\":\"\"}},\"ternary\":{\"bgcolor\":\"#E5ECF6\",\"aaxis\":{\"gridcolor\":\"white\",\"linecolor\":\"white\",\"ticks\":\"\"},\"baxis\":{\"gridcolor\":\"white\",\"linecolor\":\"white\",\"ticks\":\"\"},\"caxis\":{\"gridcolor\":\"white\",\"linecolor\":\"white\",\"ticks\":\"\"}},\"coloraxis\":{\"colorbar\":{\"outlinewidth\":0,\"ticks\":\"\"}},\"colorscale\":{\"sequential\":[[0.0,\"#0d0887\"],[0.1111111111111111,\"#46039f\"],[0.2222222222222222,\"#7201a8\"],[0.3333333333333333,\"#9c179e\"],[0.4444444444444444,\"#bd3786\"],[0.5555555555555556,\"#d8576b\"],[0.6666666666666666,\"#ed7953\"],[0.7777777777777778,\"#fb9f3a\"],[0.8888888888888888,\"#fdca26\"],[1.0,\"#f0f921\"]],\"sequentialminus\":[[0.0,\"#0d0887\"],[0.1111111111111111,\"#46039f\"],[0.2222222222222222,\"#7201a8\"],[0.3333333333333333,\"#9c179e\"],[0.4444444444444444,\"#bd3786\"],[0.5555555555555556,\"#d8576b\"],[0.6666666666666666,\"#ed7953\"],[0.7777777777777778,\"#fb9f3a\"],[0.8888888888888888,\"#fdca26\"],[1.0,\"#f0f921\"]],\"diverging\":[[0,\"#8e0152\"],[0.1,\"#c51b7d\"],[0.2,\"#de77ae\"],[0.3,\"#f1b6da\"],[0.4,\"#fde0ef\"],[0.5,\"#f7f7f7\"],[0.6,\"#e6f5d0\"],[0.7,\"#b8e186\"],[0.8,\"#7fbc41\"],[0.9,\"#4d9221\"],[1,\"#276419\"]]},\"xaxis\":{\"gridcolor\":\"white\",\"linecolor\":\"white\",\"ticks\":\"\",\"title\":{\"standoff\":15},\"zerolinecolor\":\"white\",\"automargin\":true,\"zerolinewidth\":2},\"yaxis\":{\"gridcolor\":\"white\",\"linecolor\":\"white\",\"ticks\":\"\",\"title\":{\"standoff\":15},\"zerolinecolor\":\"white\",\"automargin\":true,\"zerolinewidth\":2},\"scene\":{\"xaxis\":{\"backgroundcolor\":\"#E5ECF6\",\"gridcolor\":\"white\",\"linecolor\":\"white\",\"showbackground\":true,\"ticks\":\"\",\"zerolinecolor\":\"white\",\"gridwidth\":2},\"yaxis\":{\"backgroundcolor\":\"#E5ECF6\",\"gridcolor\":\"white\",\"linecolor\":\"white\",\"showbackground\":true,\"ticks\":\"\",\"zerolinecolor\":\"white\",\"gridwidth\":2},\"zaxis\":{\"backgroundcolor\":\"#E5ECF6\",\"gridcolor\":\"white\",\"linecolor\":\"white\",\"showbackground\":true,\"ticks\":\"\",\"zerolinecolor\":\"white\",\"gridwidth\":2}},\"shapedefaults\":{\"line\":{\"color\":\"#2a3f5f\"}},\"annotationdefaults\":{\"arrowcolor\":\"#2a3f5f\",\"arrowhead\":0,\"arrowwidth\":1},\"geo\":{\"bgcolor\":\"white\",\"landcolor\":\"#E5ECF6\",\"subunitcolor\":\"white\",\"showland\":true,\"showlakes\":true,\"lakecolor\":\"white\"},\"title\":{\"x\":0.05},\"mapbox\":{\"style\":\"light\"}}},\"xaxis\":{\"anchor\":\"y\",\"domain\":[0.0,1.0],\"title\":{\"text\":\"user_rating\"}},\"yaxis\":{\"anchor\":\"x\",\"domain\":[0.0,1.0],\"title\":{\"text\":\"reviews\"}},\"legend\":{\"tracegroupgap\":0},\"title\":{\"text\":\"\\u0421\\u0435\\u0440\\u0435\\u0434\\u043d\\u044f \\u043a\\u0456\\u043b\\u044c\\u043a\\u0456\\u0441\\u0442\\u044c \\u0432\\u0456\\u0434\\u0433\\u0443\\u043a\\u0456\\u0432 \\u0437\\u0430\\u043b\\u0435\\u0436\\u043d\\u043e \\u0432\\u0456\\u0434\\u043d\\u043e\\u0441\\u043d\\u043e \\u0440\\u0435\\u0439\\u0442\\u0438\\u043d\\u0433\\u0443\"}},                        {\"responsive\": true}                    ).then(function(){\n",
              "                            \n",
              "var gd = document.getElementById('963df903-99de-4820-b265-15dea6cf0d55');\n",
              "var x = new MutationObserver(function (mutations, observer) {{\n",
              "        var display = window.getComputedStyle(gd).display;\n",
              "        if (!display || display === 'none') {{\n",
              "            console.log([gd, 'removed!']);\n",
              "            Plotly.purge(gd);\n",
              "            observer.disconnect();\n",
              "        }}\n",
              "}});\n",
              "\n",
              "// Listen for the removal of the full notebook cells\n",
              "var notebookContainer = gd.closest('#notebook-container');\n",
              "if (notebookContainer) {{\n",
              "    x.observe(notebookContainer, {childList: true});\n",
              "}}\n",
              "\n",
              "// Listen for the clearing of the current output cell\n",
              "var outputEl = gd.closest('.output');\n",
              "if (outputEl) {{\n",
              "    x.observe(outputEl, {childList: true});\n",
              "}}\n",
              "\n",
              "                        })                };                            </script>        </div>\n",
              "</body>\n",
              "</html>"
            ]
          },
          "metadata": {}
        }
      ]
    },
    {
      "cell_type": "code",
      "source": [
        "sns.lmplot(data=books.sort_values(by='user_rating', ascending=True),\n",
        "             x=\"year\",\n",
        "             y=\"price\",\n",
        "           x_estimator=median)\n",
        "plt.title('Графік зміни медіанної ціни')\n",
        "plt.show()"
      ],
      "metadata": {
        "colab": {
          "base_uri": "https://localhost:8080/",
          "height": 529
        },
        "id": "5-0RDCuwzxab",
        "outputId": "22fb60aa-b3cb-43b1-8491-311c63a0a1f5"
      },
      "execution_count": 39,
      "outputs": [
        {
          "output_type": "display_data",
          "data": {
            "text/plain": [
              "<Figure size 500x500 with 1 Axes>"
            ],
            "image/png": "[encoded data removed]"
          },
          "metadata": {}
        }
      ]
    },
    {
      "cell_type": "code",
      "source": [
        "year_data = books.groupby('year').agg({'reviews': 'sum'})\n",
        "sns.barplot(data=year_data, y='reviews', x=year_data.index)\n",
        "plt.title('Щорічна кількість відгуків')\n",
        "plt.show()"
      ],
      "metadata": {
        "colab": {
          "base_uri": "https://localhost:8080/",
          "height": 472
        },
        "id": "q2ggx0Go0ONO",
        "outputId": "41a1ef7e-da99-48a3-a679-0a5c9041208f"
      },
      "execution_count": 42,
      "outputs": [
        {
          "output_type": "display_data",
          "data": {
            "text/plain": [
              "<Figure size 640x480 with 1 Axes>"
            ],
            "image/png": "[encoded data removed]"
          },
          "metadata": {}
        }
      ]
    }
  ]
}
