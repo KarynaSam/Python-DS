{
  "nbformat": 4,
  "nbformat_minor": 0,
  "metadata": {
    "colab": {
      "provenance": [],
      "authorship_tag": "ABX9TyMzswfh8LXuDmY7WC9AGTru",
      "include_colab_link": true
    },
    "kernelspec": {
      "name": "python3",
      "display_name": "Python 3"
    },
    "language_info": {
      "name": "python"
    },
    "widgets": {
      "application/vnd.jupyter.widget-state+json": {
        "f2842bd9ea04447d80f21562c3de2669": {
          "model_module": "@jupyter-widgets/controls",
          "model_name": "VBoxModel",
          "model_module_version": "1.5.0",
          "state": {
            "_dom_classes": [],
            "_model_module": "@jupyter-widgets/controls",
            "_model_module_version": "1.5.0",
            "_model_name": "VBoxModel",
            "_view_count": null,
            "_view_module": "@jupyter-widgets/controls",
            "_view_module_version": "1.5.0",
            "_view_name": "VBoxView",
            "box_style": "",
            "children": [
              "IPY_MODEL_8d72e30aefcf4fcda1c765f2a1d2cb16",
              "IPY_MODEL_9991114e78a44a0588c71fd14123a078"
            ],
            "layout": "IPY_MODEL_b3d84cde667a48cfa4234fd5987715cd"
          }
        },
        "8d72e30aefcf4fcda1c765f2a1d2cb16": {
          "model_module": "@jupyter-widgets/controls",
          "model_name": "LabelModel",
          "model_module_version": "1.5.0",
          "state": {
            "_dom_classes": [],
            "_model_module": "@jupyter-widgets/controls",
            "_model_module_version": "1.5.0",
            "_model_name": "LabelModel",
            "_view_count": null,
            "_view_module": "@jupyter-widgets/controls",
            "_view_module_version": "1.5.0",
            "_view_name": "LabelView",
            "description": "",
            "description_tooltip": null,
            "layout": "IPY_MODEL_0a05b9b236194dc9a2f2ed9860f0f70a",
            "placeholder": "​",
            "style": "IPY_MODEL_a7a28dc45c5747db924a9a709ba696ba",
            "value": "0.001 MB of 0.015 MB uploaded (0.000 MB deduped)\r"
          }
        },
        "9991114e78a44a0588c71fd14123a078": {
          "model_module": "@jupyter-widgets/controls",
          "model_name": "FloatProgressModel",
          "model_module_version": "1.5.0",
          "state": {
            "_dom_classes": [],
            "_model_module": "@jupyter-widgets/controls",
            "_model_module_version": "1.5.0",
            "_model_name": "FloatProgressModel",
            "_view_count": null,
            "_view_module": "@jupyter-widgets/controls",
            "_view_module_version": "1.5.0",
            "_view_name": "ProgressView",
            "bar_style": "",
            "description": "",
            "description_tooltip": null,
            "layout": "IPY_MODEL_482eaf9540f04328891c5d94234e01b4",
            "max": 1,
            "min": 0,
            "orientation": "horizontal",
            "style": "IPY_MODEL_a92e3146dbc34650890c926e985eec6a",
            "value": 0.06744923857868021
          }
        },
        "b3d84cde667a48cfa4234fd5987715cd": {
          "model_module": "@jupyter-widgets/base",
          "model_name": "LayoutModel",
          "model_module_version": "1.2.0",
          "state": {
            "_model_module": "@jupyter-widgets/base",
            "_model_module_version": "1.2.0",
            "_model_name": "LayoutModel",
            "_view_count": null,
            "_view_module": "@jupyter-widgets/base",
            "_view_module_version": "1.2.0",
            "_view_name": "LayoutView",
            "align_content": null,
            "align_items": null,
            "align_self": null,
            "border": null,
            "bottom": null,
            "display": null,
            "flex": null,
            "flex_flow": null,
            "grid_area": null,
            "grid_auto_columns": null,
            "grid_auto_flow": null,
            "grid_auto_rows": null,
            "grid_column": null,
            "grid_gap": null,
            "grid_row": null,
            "grid_template_areas": null,
            "grid_template_columns": null,
            "grid_template_rows": null,
            "height": null,
            "justify_content": null,
            "justify_items": null,
            "left": null,
            "margin": null,
            "max_height": null,
            "max_width": null,
            "min_height": null,
            "min_width": null,
            "object_fit": null,
            "object_position": null,
            "order": null,
            "overflow": null,
            "overflow_x": null,
            "overflow_y": null,
            "padding": null,
            "right": null,
            "top": null,
            "visibility": null,
            "width": null
          }
        },
        "0a05b9b236194dc9a2f2ed9860f0f70a": {
          "model_module": "@jupyter-widgets/base",
          "model_name": "LayoutModel",
          "model_module_version": "1.2.0",
          "state": {
            "_model_module": "@jupyter-widgets/base",
            "_model_module_version": "1.2.0",
            "_model_name": "LayoutModel",
            "_view_count": null,
            "_view_module": "@jupyter-widgets/base",
            "_view_module_version": "1.2.0",
            "_view_name": "LayoutView",
            "align_content": null,
            "align_items": null,
            "align_self": null,
            "border": null,
            "bottom": null,
            "display": null,
            "flex": null,
            "flex_flow": null,
            "grid_area": null,
            "grid_auto_columns": null,
            "grid_auto_flow": null,
            "grid_auto_rows": null,
            "grid_column": null,
            "grid_gap": null,
            "grid_row": null,
            "grid_template_areas": null,
            "grid_template_columns": null,
            "grid_template_rows": null,
            "height": null,
            "justify_content": null,
            "justify_items": null,
            "left": null,
            "margin": null,
            "max_height": null,
            "max_width": null,
            "min_height": null,
            "min_width": null,
            "object_fit": null,
            "object_position": null,
            "order": null,
            "overflow": null,
            "overflow_x": null,
            "overflow_y": null,
            "padding": null,
            "right": null,
            "top": null,
            "visibility": null,
            "width": null
          }
        },
        "a7a28dc45c5747db924a9a709ba696ba": {
          "model_module": "@jupyter-widgets/controls",
          "model_name": "DescriptionStyleModel",
          "model_module_version": "1.5.0",
          "state": {
            "_model_module": "@jupyter-widgets/controls",
            "_model_module_version": "1.5.0",
            "_model_name": "DescriptionStyleModel",
            "_view_count": null,
            "_view_module": "@jupyter-widgets/base",
            "_view_module_version": "1.2.0",
            "_view_name": "StyleView",
            "description_width": ""
          }
        },
        "482eaf9540f04328891c5d94234e01b4": {
          "model_module": "@jupyter-widgets/base",
          "model_name": "LayoutModel",
          "model_module_version": "1.2.0",
          "state": {
            "_model_module": "@jupyter-widgets/base",
            "_model_module_version": "1.2.0",
            "_model_name": "LayoutModel",
            "_view_count": null,
            "_view_module": "@jupyter-widgets/base",
            "_view_module_version": "1.2.0",
            "_view_name": "LayoutView",
            "align_content": null,
            "align_items": null,
            "align_self": null,
            "border": null,
            "bottom": null,
            "display": null,
            "flex": null,
            "flex_flow": null,
            "grid_area": null,
            "grid_auto_columns": null,
            "grid_auto_flow": null,
            "grid_auto_rows": null,
            "grid_column": null,
            "grid_gap": null,
            "grid_row": null,
            "grid_template_areas": null,
            "grid_template_columns": null,
            "grid_template_rows": null,
            "height": null,
            "justify_content": null,
            "justify_items": null,
            "left": null,
            "margin": null,
            "max_height": null,
            "max_width": null,
            "min_height": null,
            "min_width": null,
            "object_fit": null,
            "object_position": null,
            "order": null,
            "overflow": null,
            "overflow_x": null,
            "overflow_y": null,
            "padding": null,
            "right": null,
            "top": null,
            "visibility": null,
            "width": null
          }
        },
        "a92e3146dbc34650890c926e985eec6a": {
          "model_module": "@jupyter-widgets/controls",
          "model_name": "ProgressStyleModel",
          "model_module_version": "1.5.0",
          "state": {
            "_model_module": "@jupyter-widgets/controls",
            "_model_module_version": "1.5.0",
            "_model_name": "ProgressStyleModel",
            "_view_count": null,
            "_view_module": "@jupyter-widgets/base",
            "_view_module_version": "1.2.0",
            "_view_name": "StyleView",
            "bar_color": null,
            "description_width": ""
          }
        }
      }
    }
  },
  "cells": [
    {
      "cell_type": "markdown",
      "metadata": {
        "id": "view-in-github",
        "colab_type": "text"
      },
      "source": [
        "<a href=\"https://colab.research.google.com/github/KarynaSam/Python-DS/blob/main/HW_11.ipynb\" target=\"_parent\"><img src=\"https://colab.research.google.com/assets/colab-badge.svg\" alt=\"Open In Colab\"/></a>"
      ]
    },
    {
      "cell_type": "markdown",
      "source": [
        "Створюємо рекурентну нейронну мережу за допомогою механізмів Keras, яка буде класифікувати рецензії із датасету imdb\n",
        "\n"
      ],
      "metadata": {
        "id": "H64-erl5Ath1"
      }
    },
    {
      "cell_type": "code",
      "source": [
        "!pip install wandb"
      ],
      "metadata": {
        "colab": {
          "base_uri": "https://localhost:8080/"
        },
        "id": "_mmnBmc8Ax_F",
        "outputId": "13cf0d38-e55b-4bed-b241-aff5e2220414"
      },
      "execution_count": 1,
      "outputs": [
        {
          "output_type": "stream",
          "name": "stdout",
          "text": [
            "Collecting wandb\n",
            "  Downloading wandb-0.15.12-py3-none-any.whl (2.1 MB)\n",
            "\u001b[2K     \u001b[90m━━━━━━━━━━━━━━━━━━━━━━━━━━━━━━━━━━━━━━━━\u001b[0m \u001b[32m2.1/2.1 MB\u001b[0m \u001b[31m19.7 MB/s\u001b[0m eta \u001b[36m0:00:00\u001b[0m\n",
            "\u001b[?25hRequirement already satisfied: Click!=8.0.0,>=7.1 in /usr/local/lib/python3.10/dist-packages (from wandb) (8.1.7)\n",
            "Collecting GitPython!=3.1.29,>=1.0.0 (from wandb)\n",
            "  Downloading GitPython-3.1.40-py3-none-any.whl (190 kB)\n",
            "\u001b[2K     \u001b[90m━━━━━━━━━━━━━━━━━━━━━━━━━━━━━━━━━━━━━━━━\u001b[0m \u001b[32m190.6/190.6 kB\u001b[0m \u001b[31m22.6 MB/s\u001b[0m eta \u001b[36m0:00:00\u001b[0m\n",
            "\u001b[?25hRequirement already satisfied: requests<3,>=2.0.0 in /usr/local/lib/python3.10/dist-packages (from wandb) (2.31.0)\n",
            "Requirement already satisfied: psutil>=5.0.0 in /usr/local/lib/python3.10/dist-packages (from wandb) (5.9.5)\n",
            "Collecting sentry-sdk>=1.0.0 (from wandb)\n",
            "  Downloading sentry_sdk-1.32.0-py2.py3-none-any.whl (240 kB)\n",
            "\u001b[2K     \u001b[90m━━━━━━━━━━━━━━━━━━━━━━━━━━━━━━━━━━━━━━━━\u001b[0m \u001b[32m241.0/241.0 kB\u001b[0m \u001b[31m26.5 MB/s\u001b[0m eta \u001b[36m0:00:00\u001b[0m\n",
            "\u001b[?25hCollecting docker-pycreds>=0.4.0 (from wandb)\n",
            "  Downloading docker_pycreds-0.4.0-py2.py3-none-any.whl (9.0 kB)\n",
            "Requirement already satisfied: PyYAML in /usr/local/lib/python3.10/dist-packages (from wandb) (6.0.1)\n",
            "Collecting pathtools (from wandb)\n",
            "  Downloading pathtools-0.1.2.tar.gz (11 kB)\n",
            "  Preparing metadata (setup.py) ... \u001b[?25l\u001b[?25hdone\n",
            "Collecting setproctitle (from wandb)\n",
            "  Downloading setproctitle-1.3.3-cp310-cp310-manylinux_2_5_x86_64.manylinux1_x86_64.manylinux_2_17_x86_64.manylinux2014_x86_64.whl (30 kB)\n",
            "Requirement already satisfied: setuptools in /usr/local/lib/python3.10/dist-packages (from wandb) (67.7.2)\n",
            "Requirement already satisfied: appdirs>=1.4.3 in /usr/local/lib/python3.10/dist-packages (from wandb) (1.4.4)\n",
            "Requirement already satisfied: protobuf!=4.21.0,<5,>=3.19.0 in /usr/local/lib/python3.10/dist-packages (from wandb) (3.20.3)\n",
            "Requirement already satisfied: six>=1.4.0 in /usr/local/lib/python3.10/dist-packages (from docker-pycreds>=0.4.0->wandb) (1.16.0)\n",
            "Collecting gitdb<5,>=4.0.1 (from GitPython!=3.1.29,>=1.0.0->wandb)\n",
            "  Downloading gitdb-4.0.11-py3-none-any.whl (62 kB)\n",
            "\u001b[2K     \u001b[90m━━━━━━━━━━━━━━━━━━━━━━━━━━━━━━━━━━━━━━━━\u001b[0m \u001b[32m62.7/62.7 kB\u001b[0m \u001b[31m7.0 MB/s\u001b[0m eta \u001b[36m0:00:00\u001b[0m\n",
            "\u001b[?25hRequirement already satisfied: charset-normalizer<4,>=2 in /usr/local/lib/python3.10/dist-packages (from requests<3,>=2.0.0->wandb) (3.3.1)\n",
            "Requirement already satisfied: idna<4,>=2.5 in /usr/local/lib/python3.10/dist-packages (from requests<3,>=2.0.0->wandb) (3.4)\n",
            "Requirement already satisfied: urllib3<3,>=1.21.1 in /usr/local/lib/python3.10/dist-packages (from requests<3,>=2.0.0->wandb) (2.0.7)\n",
            "Requirement already satisfied: certifi>=2017.4.17 in /usr/local/lib/python3.10/dist-packages (from requests<3,>=2.0.0->wandb) (2023.7.22)\n",
            "Collecting smmap<6,>=3.0.1 (from gitdb<5,>=4.0.1->GitPython!=3.1.29,>=1.0.0->wandb)\n",
            "  Downloading smmap-5.0.1-py3-none-any.whl (24 kB)\n",
            "Building wheels for collected packages: pathtools\n",
            "  Building wheel for pathtools (setup.py) ... \u001b[?25l\u001b[?25hdone\n",
            "  Created wheel for pathtools: filename=pathtools-0.1.2-py3-none-any.whl size=8791 sha256=c38aa206bf5267cab66a3707e928852765859952595566c8ee2f47ae7cafb600\n",
            "  Stored in directory: /root/.cache/pip/wheels/e7/f3/22/152153d6eb222ee7a56ff8617d80ee5207207a8c00a7aab794\n",
            "Successfully built pathtools\n",
            "Installing collected packages: pathtools, smmap, setproctitle, sentry-sdk, docker-pycreds, gitdb, GitPython, wandb\n",
            "Successfully installed GitPython-3.1.40 docker-pycreds-0.4.0 gitdb-4.0.11 pathtools-0.1.2 sentry-sdk-1.32.0 setproctitle-1.3.3 smmap-5.0.1 wandb-0.15.12\n"
          ]
        }
      ]
    },
    {
      "cell_type": "code",
      "source": [
        "import os\n",
        "import random\n",
        "\n",
        "import numpy as np\n",
        "import pandas as pd\n",
        "import matplotlib.pyplot as plt\n",
        "import seaborn as sns\n",
        "import tensorflow as tf\n",
        "from keras.models import Sequential, Model\n",
        "from keras.layers import Dense, Dropout, Embedding, SimpleRNN, GRU, LSTM, Bidirectional\n",
        "from keras.datasets import imdb\n",
        "from keras.utils import pad_sequences\n",
        "from keras.callbacks import EarlyStopping, ModelCheckpoint\n",
        "from keras.optimizers import Adam, SGD\n",
        "from keras.metrics import Accuracy\n",
        "from keras.models import load_model\n",
        "\n",
        "from sklearn.metrics import confusion_matrix\n",
        "\n",
        "import wandb\n",
        "from wandb.keras import WandbMetricsLogger"
      ],
      "metadata": {
        "id": "iSQLA9uvA7Iy"
      },
      "execution_count": 2,
      "outputs": []
    },
    {
      "cell_type": "markdown",
      "source": [
        "Встановлення констант та налаштування"
      ],
      "metadata": {
        "id": "95AbuHAXBAgH"
      }
    },
    {
      "cell_type": "code",
      "source": [
        "max_features = 10000  # кількість слів, що розглядаються як особливості\n",
        "maxlen = 500  # обмеження кількості слів в тексті\n",
        "batch_size = 128\n",
        "n_epochs = 7\n",
        "lr = 0.001"
      ],
      "metadata": {
        "id": "5b8KMe22BCV9"
      },
      "execution_count": 3,
      "outputs": []
    },
    {
      "cell_type": "code",
      "source": [
        "best_of_models = {}"
      ],
      "metadata": {
        "id": "Yndp6CXdBG_z"
      },
      "execution_count": 4,
      "outputs": []
    },
    {
      "cell_type": "code",
      "source": [
        "wandb.init(project=\"HW_11_Simple_RNN\", config={\"lr\": lr, \"n_epochs\": n_epochs, \"batch_size\": batch_size})"
      ],
      "metadata": {
        "colab": {
          "base_uri": "https://localhost:8080/",
          "height": 615
        },
        "id": "8irWdEkxBIpa",
        "outputId": "dcb044f1-01ab-458b-9124-400d63eeaa57"
      },
      "execution_count": 5,
      "outputs": [
        {
          "output_type": "display_data",
          "data": {
            "text/plain": [
              "<IPython.core.display.Javascript object>"
            ],
            "application/javascript": [
              "\n",
              "        window._wandbApiKey = new Promise((resolve, reject) => {\n",
              "            function loadScript(url) {\n",
              "            return new Promise(function(resolve, reject) {\n",
              "                let newScript = document.createElement(\"script\");\n",
              "                newScript.onerror = reject;\n",
              "                newScript.onload = resolve;\n",
              "                document.body.appendChild(newScript);\n",
              "                newScript.src = url;\n",
              "            });\n",
              "            }\n",
              "            loadScript(\"https://cdn.jsdelivr.net/npm/postmate/build/postmate.min.js\").then(() => {\n",
              "            const iframe = document.createElement('iframe')\n",
              "            iframe.style.cssText = \"width:0;height:0;border:none\"\n",
              "            document.body.appendChild(iframe)\n",
              "            const handshake = new Postmate({\n",
              "                container: iframe,\n",
              "                url: 'https://wandb.ai/authorize'\n",
              "            });\n",
              "            const timeout = setTimeout(() => reject(\"Couldn't auto authenticate\"), 5000)\n",
              "            handshake.then(function(child) {\n",
              "                child.on('authorize', data => {\n",
              "                    clearTimeout(timeout)\n",
              "                    resolve(data)\n",
              "                });\n",
              "            });\n",
              "            })\n",
              "        });\n",
              "    "
            ]
          },
          "metadata": {}
        },
        {
          "output_type": "stream",
          "name": "stderr",
          "text": [
            "\u001b[34m\u001b[1mwandb\u001b[0m: Logging into wandb.ai. (Learn how to deploy a W&B server locally: https://wandb.me/wandb-server)\n",
            "\u001b[34m\u001b[1mwandb\u001b[0m: You can find your API key in your browser here: https://wandb.ai/authorize\n",
            "wandb: Paste an API key from your profile and hit enter, or press ctrl+c to quit:"
          ]
        },
        {
          "name": "stdout",
          "output_type": "stream",
          "text": [
            " ··········\n"
          ]
        },
        {
          "output_type": "stream",
          "name": "stderr",
          "text": [
            "\u001b[34m\u001b[1mwandb\u001b[0m: Appending key for api.wandb.ai to your netrc file: /root/.netrc\n"
          ]
        },
        {
          "output_type": "display_data",
          "data": {
            "text/plain": [
              "<IPython.core.display.HTML object>"
            ],
            "text/html": [
              "Tracking run with wandb version 0.15.12"
            ]
          },
          "metadata": {}
        },
        {
          "output_type": "display_data",
          "data": {
            "text/plain": [
              "<IPython.core.display.HTML object>"
            ],
            "text/html": [
              "Run data is saved locally in <code>/content/wandb/run-20231026_172611-5qgg5mnp</code>"
            ]
          },
          "metadata": {}
        },
        {
          "output_type": "display_data",
          "data": {
            "text/plain": [
              "<IPython.core.display.HTML object>"
            ],
            "text/html": [
              "Syncing run <strong><a href='https://wandb.ai/ondatra410/HW_11_Simple_RNN/runs/5qgg5mnp' target=\"_blank\">daily-wood-1</a></strong> to <a href='https://wandb.ai/ondatra410/HW_11_Simple_RNN' target=\"_blank\">Weights & Biases</a> (<a href='https://wandb.me/run' target=\"_blank\">docs</a>)<br/>"
            ]
          },
          "metadata": {}
        },
        {
          "output_type": "display_data",
          "data": {
            "text/plain": [
              "<IPython.core.display.HTML object>"
            ],
            "text/html": [
              " View project at <a href='https://wandb.ai/ondatra410/HW_11_Simple_RNN' target=\"_blank\">https://wandb.ai/ondatra410/HW_11_Simple_RNN</a>"
            ]
          },
          "metadata": {}
        },
        {
          "output_type": "display_data",
          "data": {
            "text/plain": [
              "<IPython.core.display.HTML object>"
            ],
            "text/html": [
              " View run at <a href='https://wandb.ai/ondatra410/HW_11_Simple_RNN/runs/5qgg5mnp' target=\"_blank\">https://wandb.ai/ondatra410/HW_11_Simple_RNN/runs/5qgg5mnp</a>"
            ]
          },
          "metadata": {}
        },
        {
          "output_type": "execute_result",
          "data": {
            "text/html": [
              "<button onClick=\"this.nextSibling.style.display='block';this.style.display='none';\">Display W&B run</button><iframe src='https://wandb.ai/ondatra410/HW_11_Simple_RNN/runs/5qgg5mnp?jupyter=true' style='border:none;width:100%;height:420px;display:none;'></iframe>"
            ],
            "text/plain": [
              "<wandb.sdk.wandb_run.Run at 0x7d58aaaa2b60>"
            ]
          },
          "metadata": {},
          "execution_count": 5
        }
      ]
    },
    {
      "cell_type": "code",
      "source": [
        "path = \"/content/drive/MyDrive/Colab_Notebooks/HW_11_data\""
      ],
      "metadata": {
        "id": "fhFXk2ktBg0u"
      },
      "execution_count": 6,
      "outputs": []
    },
    {
      "cell_type": "code",
      "source": [
        "def set_seed(seed_value):\n",
        "    random.seed(seed_value)\n",
        "    np.random.seed(seed_value)\n",
        "    tf.random.set_seed(seed_value)\n",
        "    os.environ[\"PYTHONHASHSEED\"] = str(seed_value)\n",
        "    os.environ[\"TF_DETERMINISTIC_OPS\"] = \"true\"\n",
        "\n",
        "\n",
        "set_seed(42)"
      ],
      "metadata": {
        "id": "JB7lzl8xBn7g"
      },
      "execution_count": 7,
      "outputs": []
    },
    {
      "cell_type": "code",
      "source": [
        "(train_data, train_labels), (test_data, test_labels) = imdb.load_data(num_words=max_features)"
      ],
      "metadata": {
        "colab": {
          "base_uri": "https://localhost:8080/"
        },
        "id": "B5htILw_BruG",
        "outputId": "0f8e28d1-b3a1-4ce5-de4f-4dabc3972e6f"
      },
      "execution_count": 8,
      "outputs": [
        {
          "output_type": "stream",
          "name": "stdout",
          "text": [
            "Downloading data from https://storage.googleapis.com/tensorflow/tf-keras-datasets/imdb.npz\n",
            "17464789/17464789 [==============================] - 0s 0us/step\n"
          ]
        }
      ]
    },
    {
      "cell_type": "code",
      "source": [
        "# Подивимося розміри наборів даних\n",
        "train_data.shape, train_labels.shape, test_data.shape, test_labels.shape"
      ],
      "metadata": {
        "colab": {
          "base_uri": "https://localhost:8080/"
        },
        "id": "eDBFQw-2BvtF",
        "outputId": "d0f0ca82-d023-4a04-9814-9bdba8c1ff0a"
      },
      "execution_count": 9,
      "outputs": [
        {
          "output_type": "execute_result",
          "data": {
            "text/plain": [
              "((25000,), (25000,), (25000,), (25000,))"
            ]
          },
          "metadata": {},
          "execution_count": 9
        }
      ]
    },
    {
      "cell_type": "code",
      "source": [
        "# Передпроцесинг послідовних даних:\n",
        "# Застосування заздалегідь обраної максимальної довжини до послідовних даних тренувального та тестового наборів\n",
        "\n",
        "input_train = pad_sequences(train_data, maxlen=maxlen)\n",
        "input_test = pad_sequences(test_data, maxlen=maxlen)"
      ],
      "metadata": {
        "id": "7_7Nh752B0lE"
      },
      "execution_count": 10,
      "outputs": []
    },
    {
      "cell_type": "code",
      "source": [
        "# Ще раз подивимося на розміри ф'ючерів, що будуть подаватися до моделі\n",
        "input_train.shape, input_test.shape"
      ],
      "metadata": {
        "colab": {
          "base_uri": "https://localhost:8080/"
        },
        "id": "pSGuCN5bB3JD",
        "outputId": "3cd3daf1-53ee-4ce7-850a-b28e681668a6"
      },
      "execution_count": 11,
      "outputs": [
        {
          "output_type": "execute_result",
          "data": {
            "text/plain": [
              "((25000, 500), (25000, 500))"
            ]
          },
          "metadata": {},
          "execution_count": 11
        }
      ]
    },
    {
      "cell_type": "markdown",
      "source": [
        "Переклад отриманих даних на мову"
      ],
      "metadata": {
        "id": "84zuum04B62b"
      }
    },
    {
      "cell_type": "code",
      "source": [
        "word_index = imdb.get_word_index()"
      ],
      "metadata": {
        "colab": {
          "base_uri": "https://localhost:8080/"
        },
        "id": "O-MJL-rkCHWB",
        "outputId": "675f2018-4fef-4650-ef49-f72f26535026"
      },
      "execution_count": 12,
      "outputs": [
        {
          "output_type": "stream",
          "name": "stdout",
          "text": [
            "Downloading data from https://storage.googleapis.com/tensorflow/tf-keras-datasets/imdb_word_index.json\n",
            "1641221/1641221 [==============================] - 0s 0us/step\n"
          ]
        }
      ]
    },
    {
      "cell_type": "markdown",
      "source": [
        "Подивимося вхідні дані"
      ],
      "metadata": {
        "id": "OZ2o0sUbCxg9"
      }
    },
    {
      "cell_type": "code",
      "source": [
        "print(train_data[0])"
      ],
      "metadata": {
        "colab": {
          "base_uri": "https://localhost:8080/"
        },
        "id": "qkjaPXhlCvew",
        "outputId": "e31fc0b3-e919-4cf7-abc0-5ab4638fa979"
      },
      "execution_count": 13,
      "outputs": [
        {
          "output_type": "stream",
          "name": "stdout",
          "text": [
            "[1, 14, 22, 16, 43, 530, 973, 1622, 1385, 65, 458, 4468, 66, 3941, 4, 173, 36, 256, 5, 25, 100, 43, 838, 112, 50, 670, 2, 9, 35, 480, 284, 5, 150, 4, 172, 112, 167, 2, 336, 385, 39, 4, 172, 4536, 1111, 17, 546, 38, 13, 447, 4, 192, 50, 16, 6, 147, 2025, 19, 14, 22, 4, 1920, 4613, 469, 4, 22, 71, 87, 12, 16, 43, 530, 38, 76, 15, 13, 1247, 4, 22, 17, 515, 17, 12, 16, 626, 18, 2, 5, 62, 386, 12, 8, 316, 8, 106, 5, 4, 2223, 5244, 16, 480, 66, 3785, 33, 4, 130, 12, 16, 38, 619, 5, 25, 124, 51, 36, 135, 48, 25, 1415, 33, 6, 22, 12, 215, 28, 77, 52, 5, 14, 407, 16, 82, 2, 8, 4, 107, 117, 5952, 15, 256, 4, 2, 7, 3766, 5, 723, 36, 71, 43, 530, 476, 26, 400, 317, 46, 7, 4, 2, 1029, 13, 104, 88, 4, 381, 15, 297, 98, 32, 2071, 56, 26, 141, 6, 194, 7486, 18, 4, 226, 22, 21, 134, 476, 26, 480, 5, 144, 30, 5535, 18, 51, 36, 28, 224, 92, 25, 104, 4, 226, 65, 16, 38, 1334, 88, 12, 16, 283, 5, 16, 4472, 113, 103, 32, 15, 16, 5345, 19, 178, 32]\n"
          ]
        }
      ]
    },
    {
      "cell_type": "code",
      "source": [
        "word_index = imdb.get_word_index()\n",
        "reverse_word_index = {value: key for key, value in word_index.items()}"
      ],
      "metadata": {
        "id": "ihNf49jXC4X1"
      },
      "execution_count": 14,
      "outputs": []
    },
    {
      "cell_type": "markdown",
      "source": [
        "Тепер перекладемо їх"
      ],
      "metadata": {
        "id": "jRyKJvupC7qV"
      }
    },
    {
      "cell_type": "code",
      "source": [
        "decoded_review = ' '.join([reverse_word_index.get(i - 3, '?') for i in train_data[0]])\n",
        "decoded_review"
      ],
      "metadata": {
        "colab": {
          "base_uri": "https://localhost:8080/",
          "height": 109
        },
        "id": "E_KRDE12DAmM",
        "outputId": "1b5fd4bc-b56a-46ba-9798-d6df56511c48"
      },
      "execution_count": 15,
      "outputs": [
        {
          "output_type": "execute_result",
          "data": {
            "text/plain": [
              "\"? this film was just brilliant casting location scenery story direction everyone's really suited the part they played and you could just imagine being there robert ? is an amazing actor and now the same being director ? father came from the same scottish island as myself so i loved the fact there was a real connection with this film the witty remarks throughout the film were great it was just brilliant so much that i bought the film as soon as it was released for ? and would recommend it to everyone to watch and the fly fishing was amazing really cried at the end it was so sad and you know what they say if you cry at a film it must have been good and this definitely was also ? to the two little boy's that played the ? of norman and paul they were just brilliant children are often left out of the ? list i think because the stars that play them all grown up are such a big profile for the whole film but these children are amazing and should be praised for what they have done don't you think the whole story was so lovely because it was true and was someone's life after all that was shared with us all\""
            ],
            "application/vnd.google.colaboratory.intrinsic+json": {
              "type": "string"
            }
          },
          "metadata": {},
          "execution_count": 15
        }
      ]
    },
    {
      "cell_type": "markdown",
      "source": [
        "**Побудова простої моделі RNN:**"
      ],
      "metadata": {
        "id": "drnZ0n5cDEsy"
      }
    },
    {
      "cell_type": "code",
      "source": [
        "model_Simple_RNN = Sequential()\n",
        "# Створення порожньої моделі Sequential\n",
        "\n",
        "# Додавання Embedding шару для перетворення слів в вектори фіксованої довжини\n",
        "model_Simple_RNN.add(Embedding(max_features, 32))\n",
        "# Параметри: кількість слів для розгляду як особливості та розмір вектора, що представляє кожне слово\n",
        "\n",
        "# Додавання SimpleRNN шару з 32 вузлами\n",
        "model_Simple_RNN.add(SimpleRNN(32))\n",
        "# Параметр: кількість вузлів (розмір прихованого стану)\n",
        "\n",
        "# Додавання Dense шару з одним вузлом та активацією sigmoid\n",
        "model_Simple_RNN.add(Dense(1, activation='sigmoid'))\n",
        "# Параметри: кількість вузлів (вихідний розмір) та функція активації (sigmoid для бінарної класифікації)"
      ],
      "metadata": {
        "id": "KcEKOUEcDGz_"
      },
      "execution_count": 16,
      "outputs": []
    },
    {
      "cell_type": "code",
      "source": [
        "# Додамо колбек EarlyStopping, щоб зупинити навчання, якщо точність не покращується протягом певної кількості епох\n",
        "early_stopping_callback = EarlyStopping(monitor='val_accuracy', patience=5, mode='max', verbose=1)\n",
        "\n",
        "# Додамо колбек ModelCheckpoint, щоб зберегти найкращу модель за кожним епохом\n",
        "model_checkpoint_callback = ModelCheckpoint(path+'/HW_11_best_model_RNN_Simple.h5', monitor='val_accuracy', mode='max', save_best_only=True, verbose=1)"
      ],
      "metadata": {
        "id": "RCWX93vaDME9"
      },
      "execution_count": 17,
      "outputs": []
    },
    {
      "cell_type": "code",
      "source": [
        "callbacks=[early_stopping_callback, model_checkpoint_callback, WandbMetricsLogger()]"
      ],
      "metadata": {
        "id": "V1BA9DrjDO9_"
      },
      "execution_count": 18,
      "outputs": []
    },
    {
      "cell_type": "code",
      "source": [
        "model_Simple_RNN.compile(optimizer=Adam(learning_rate=lr), loss='binary_crossentropy', metrics=['accuracy'])"
      ],
      "metadata": {
        "id": "AH3yLT3KDQ9O"
      },
      "execution_count": 19,
      "outputs": []
    },
    {
      "cell_type": "code",
      "source": [
        "model_Simple_RNN.summary()"
      ],
      "metadata": {
        "colab": {
          "base_uri": "https://localhost:8080/"
        },
        "id": "rWi4jWeQDS6_",
        "outputId": "1e3588e4-71c6-4b9f-bed1-e42b905879f1"
      },
      "execution_count": 20,
      "outputs": [
        {
          "output_type": "stream",
          "name": "stdout",
          "text": [
            "Model: \"sequential\"\n",
            "_________________________________________________________________\n",
            " Layer (type)                Output Shape              Param #   \n",
            "=================================================================\n",
            " embedding (Embedding)       (None, None, 32)          320000    \n",
            "                                                                 \n",
            " simple_rnn (SimpleRNN)      (None, 32)                2080      \n",
            "                                                                 \n",
            " dense (Dense)               (None, 1)                 33        \n",
            "                                                                 \n",
            "=================================================================\n",
            "Total params: 322113 (1.23 MB)\n",
            "Trainable params: 322113 (1.23 MB)\n",
            "Non-trainable params: 0 (0.00 Byte)\n",
            "_________________________________________________________________\n"
          ]
        }
      ]
    },
    {
      "cell_type": "code",
      "source": [
        "history = model_Simple_RNN.fit(\n",
        "    input_train, train_labels,\n",
        "    epochs=n_epochs,\n",
        "    batch_size=batch_size,\n",
        "    validation_split=0.3,\n",
        "    callbacks=callbacks)\n",
        "# Запускаємо навчання моделі на тренувальних даних з розбиттям на тренувальну та валідаційну підмножини"
      ],
      "metadata": {
        "colab": {
          "base_uri": "https://localhost:8080/"
        },
        "id": "Er7JzQF0DYNt",
        "outputId": "20d30797-174e-4ba1-a4b5-2f53b87745c3"
      },
      "execution_count": 21,
      "outputs": [
        {
          "output_type": "stream",
          "name": "stdout",
          "text": [
            "Epoch 1/7\n",
            "137/137 [==============================] - ETA: 0s - loss: 0.6914 - accuracy: 0.5433\n",
            "Epoch 1: val_accuracy improved from -inf to 0.56347, saving model to /content/drive/MyDrive/Colab_Notebooks/HW_11_data/HW_11_best_model_RNN_Simple.h5\n",
            "137/137 [==============================] - 25s 168ms/step - loss: 0.6914 - accuracy: 0.5433 - val_loss: 0.6754 - val_accuracy: 0.5635\n",
            "Epoch 2/7\n",
            "  1/137 [..............................] - ETA: 20s - loss: 0.6477 - accuracy: 0.6953"
          ]
        },
        {
          "output_type": "stream",
          "name": "stderr",
          "text": [
            "/usr/local/lib/python3.10/dist-packages/keras/src/engine/training.py:3079: UserWarning: You are saving your model as an HDF5 file via `model.save()`. This file format is considered legacy. We recommend using instead the native Keras format, e.g. `model.save('my_model.keras')`.\n",
            "  saving_api.save_model(\n"
          ]
        },
        {
          "output_type": "stream",
          "name": "stdout",
          "text": [
            "137/137 [==============================] - ETA: 0s - loss: 0.5739 - accuracy: 0.7364\n",
            "Epoch 2: val_accuracy improved from 0.56347 to 0.73213, saving model to /content/drive/MyDrive/Colab_Notebooks/HW_11_data/HW_11_best_model_RNN_Simple.h5\n",
            "137/137 [==============================] - 26s 193ms/step - loss: 0.5739 - accuracy: 0.7364 - val_loss: 0.5431 - val_accuracy: 0.7321\n",
            "Epoch 3/7\n",
            "137/137 [==============================] - ETA: 0s - loss: 0.3213 - accuracy: 0.8731\n",
            "Epoch 3: val_accuracy improved from 0.73213 to 0.80360, saving model to /content/drive/MyDrive/Colab_Notebooks/HW_11_data/HW_11_best_model_RNN_Simple.h5\n",
            "137/137 [==============================] - 25s 185ms/step - loss: 0.3213 - accuracy: 0.8731 - val_loss: 0.4493 - val_accuracy: 0.8036\n",
            "Epoch 4/7\n",
            "137/137 [==============================] - ETA: 0s - loss: 0.1603 - accuracy: 0.9446\n",
            "Epoch 4: val_accuracy improved from 0.80360 to 0.82373, saving model to /content/drive/MyDrive/Colab_Notebooks/HW_11_data/HW_11_best_model_RNN_Simple.h5\n",
            "137/137 [==============================] - 26s 189ms/step - loss: 0.1603 - accuracy: 0.9446 - val_loss: 0.4395 - val_accuracy: 0.8237\n",
            "Epoch 5/7\n",
            "137/137 [==============================] - ETA: 0s - loss: 0.0663 - accuracy: 0.9851\n",
            "Epoch 5: val_accuracy did not improve from 0.82373\n",
            "137/137 [==============================] - 23s 169ms/step - loss: 0.0663 - accuracy: 0.9851 - val_loss: 0.4968 - val_accuracy: 0.8113\n",
            "Epoch 6/7\n",
            "137/137 [==============================] - ETA: 0s - loss: 0.0284 - accuracy: 0.9950\n",
            "Epoch 6: val_accuracy did not improve from 0.82373\n",
            "137/137 [==============================] - 25s 183ms/step - loss: 0.0284 - accuracy: 0.9950 - val_loss: 0.5673 - val_accuracy: 0.7892\n",
            "Epoch 7/7\n",
            "137/137 [==============================] - ETA: 0s - loss: 0.0176 - accuracy: 0.9981\n",
            "Epoch 7: val_accuracy did not improve from 0.82373\n",
            "137/137 [==============================] - 25s 182ms/step - loss: 0.0176 - accuracy: 0.9981 - val_loss: 0.5948 - val_accuracy: 0.8021\n"
          ]
        }
      ]
    },
    {
      "cell_type": "code",
      "source": [
        "# Графіки для точності та втрат\n",
        "plt.plot(history.history['accuracy'], label='Точність на тренуванні')\n",
        "plt.plot(history.history['val_accuracy'], label='Точність на валідації')\n",
        "plt.plot(history.history['loss'], label='Втрати на тренуванні')\n",
        "plt.plot(history.history['val_loss'], label='Втрати на валідації')\n",
        "plt.legend()\n",
        "plt.show()"
      ],
      "metadata": {
        "colab": {
          "base_uri": "https://localhost:8080/",
          "height": 430
        },
        "id": "JygdvjGtEhWw",
        "outputId": "aa52313e-39ab-445a-c7da-7b8faf0c229e"
      },
      "execution_count": 22,
      "outputs": [
        {
          "output_type": "display_data",
          "data": {
            "text/plain": [
              "<Figure size 640x480 with 1 Axes>"
            ],
            "image/png": "[encoded data removed]"
          },
          "metadata": {}
        }
      ]
    },
    {
      "cell_type": "code",
      "source": [
        "# Завантаження кращої збереженої моделі\n",
        "best_model_SimpleRNN = load_model(path+'/HW_11_best_model_RNN_Simple.h5')\n",
        "\n",
        "# Тестування на тестових даних\n",
        "test_loss, test_accuracy = best_model_SimpleRNN.evaluate(input_test, test_labels)\n",
        "best_of_models.update({\"best_model_SimpleRNN\": test_accuracy})\n",
        "\n",
        "print(f\"Втрати на тестовому наборі: {test_loss:.4f}\")\n",
        "print(f\"Точність на тестовому наборі: {test_accuracy:.4f}\")"
      ],
      "metadata": {
        "colab": {
          "base_uri": "https://localhost:8080/"
        },
        "id": "rXPpG8QJEkpu",
        "outputId": "72a8b000-1732-4948-974e-cc054f07efb9"
      },
      "execution_count": 23,
      "outputs": [
        {
          "output_type": "stream",
          "name": "stdout",
          "text": [
            "782/782 [==============================] - 31s 38ms/step - loss: 0.4400 - accuracy: 0.8210\n",
            "Втрати на тестовому наборі: 0.4400\n",
            "Точність на тестовому наборі: 0.8210\n"
          ]
        }
      ]
    },
    {
      "cell_type": "code",
      "source": [
        "# Прогнозування з використанням навченої моделі:\n",
        "\n",
        "predictions = best_model_SimpleRNN.predict(input_test)\n",
        "\n",
        "# Для отримання зрозумілішого вигляду прогнозів, їх можна перетворити в бінарний формат:\n",
        "binary_predictions = [1 if pred > 0.5 else 0 for pred in predictions]\n",
        "\n",
        "# Для порівняння можна вивести деякі прогнозовані значення поряд з фактичними значеннями\n",
        "for i in range(10):\n",
        "    print(f\"Прогнозоване: {binary_predictions[i]}, Фактичне: {test_labels[i]}\")\n",
        "\n",
        "# Додатковий крок: Оцінка моделі\n",
        "# Це дасть загальну точність моделі на тестових даних\n",
        "# test_loss, test_acc = best_model_SimpleRNN.evaluate(input_test, test_labels)\n",
        "# print('Test Loss: {}'.format(test_loss))\n",
        "# print('Test Accuracy: {}'.format(test_acc))"
      ],
      "metadata": {
        "colab": {
          "base_uri": "https://localhost:8080/"
        },
        "id": "yQFNCxsgE07P",
        "outputId": "4676e603-b9cb-41a1-9b44-0430568ec078"
      },
      "execution_count": 24,
      "outputs": [
        {
          "output_type": "stream",
          "name": "stdout",
          "text": [
            "782/782 [==============================] - 23s 29ms/step\n",
            "Прогнозоване: 0, Фактичне: 0\n",
            "Прогнозоване: 1, Фактичне: 1\n",
            "Прогнозоване: 0, Фактичне: 1\n",
            "Прогнозоване: 0, Фактичне: 0\n",
            "Прогнозоване: 1, Фактичне: 1\n",
            "Прогнозоване: 0, Фактичне: 1\n",
            "Прогнозоване: 1, Фактичне: 1\n",
            "Прогнозоване: 0, Фактичне: 0\n",
            "Прогнозоване: 1, Фактичне: 0\n",
            "Прогнозоване: 1, Фактичне: 1\n"
          ]
        }
      ]
    },
    {
      "cell_type": "code",
      "source": [
        "# Побудуємо confusion_matrix\n",
        "confusion_mat = confusion_matrix(test_labels, binary_predictions)\n",
        "\n",
        "\n",
        "# Використання Seaborn для візуалізації теплової карти\n",
        "sns.set(font_scale=1.2)\n",
        "sns.heatmap(confusion_mat, annot=True, fmt=\"d\", cmap=\"Oranges\", linewidths=1, linecolor=\"black\",\n",
        "            xticklabels=[\"Predicted Negative\", \"Predicted Positive\"],\n",
        "            yticklabels=[\"Actual Negative\", \"Actual Positive\"])\n",
        "plt.xlabel(\"Predicted\")\n",
        "plt.ylabel(\"Actual\")\n",
        "plt.title(\"Confusion Matrix\")\n",
        "plt.show()"
      ],
      "metadata": {
        "colab": {
          "base_uri": "https://localhost:8080/",
          "height": 485
        },
        "id": "NrfkwD2wFNsj",
        "outputId": "4a111a97-0981-4eb7-98c6-7bd3710c28dc"
      },
      "execution_count": 25,
      "outputs": [
        {
          "output_type": "display_data",
          "data": {
            "text/plain": [
              "<Figure size 640x480 with 2 Axes>"
            ],
            "image/png": "[encoded data removed]"
          },
          "metadata": {}
        }
      ]
    },
    {
      "cell_type": "code",
      "source": [
        "wandb.finish()"
      ],
      "metadata": {
        "colab": {
          "base_uri": "https://localhost:8080/",
          "height": 311
        },
        "id": "-wpLeCcqFRKC",
        "outputId": "227da548-7b7c-4305-fe7d-0546e89c8aae"
      },
      "execution_count": 26,
      "outputs": [
        {
          "output_type": "display_data",
          "data": {
            "text/plain": [
              "<IPython.core.display.HTML object>"
            ],
            "text/html": [
              "Waiting for W&B process to finish... <strong style=\"color:green\">(success).</strong>"
            ]
          },
          "metadata": {}
        },
        {
          "output_type": "display_data",
          "data": {
            "text/plain": [
              "<IPython.core.display.HTML object>"
            ],
            "text/html": [
              "<style>\n",
              "    table.wandb td:nth-child(1) { padding: 0 10px; text-align: left ; width: auto;} td:nth-child(2) {text-align: left ; width: 100%}\n",
              "    .wandb-row { display: flex; flex-direction: row; flex-wrap: wrap; justify-content: flex-start; width: 100% }\n",
              "    .wandb-col { display: flex; flex-direction: column; flex-basis: 100%; flex: 1; padding: 10px; }\n",
              "    </style>\n",
              "<div class=\"wandb-row\"><div class=\"wandb-col\"><h3>Run history:</h3><br/><table class=\"wandb\"><tr><td>epoch/accuracy</td><td>▁▄▆▇███</td></tr><tr><td>epoch/epoch</td><td>▁▂▃▅▆▇█</td></tr><tr><td>epoch/learning_rate</td><td>▁▁▁▁▁▁▁</td></tr><tr><td>epoch/loss</td><td>█▇▄▂▂▁▁</td></tr><tr><td>epoch/val_accuracy</td><td>▁▆▇██▇▇</td></tr><tr><td>epoch/val_loss</td><td>█▄▁▁▃▅▆</td></tr></table><br/></div><div class=\"wandb-col\"><h3>Run summary:</h3><br/><table class=\"wandb\"><tr><td>epoch/accuracy</td><td>0.99811</td></tr><tr><td>epoch/epoch</td><td>6</td></tr><tr><td>epoch/learning_rate</td><td>0.001</td></tr><tr><td>epoch/loss</td><td>0.01762</td></tr><tr><td>epoch/val_accuracy</td><td>0.80213</td></tr><tr><td>epoch/val_loss</td><td>0.59483</td></tr></table><br/></div></div>"
            ]
          },
          "metadata": {}
        },
        {
          "output_type": "display_data",
          "data": {
            "text/plain": [
              "<IPython.core.display.HTML object>"
            ],
            "text/html": [
              " View run <strong style=\"color:#cdcd00\">daily-wood-1</strong> at: <a href='https://wandb.ai/ondatra410/HW_11_Simple_RNN/runs/5qgg5mnp' target=\"_blank\">https://wandb.ai/ondatra410/HW_11_Simple_RNN/runs/5qgg5mnp</a><br/>Synced 5 W&B file(s), 0 media file(s), 0 artifact file(s) and 0 other file(s)"
            ]
          },
          "metadata": {}
        },
        {
          "output_type": "display_data",
          "data": {
            "text/plain": [
              "<IPython.core.display.HTML object>"
            ],
            "text/html": [
              "Find logs at: <code>./wandb/run-20231026_172611-5qgg5mnp/logs</code>"
            ]
          },
          "metadata": {}
        }
      ]
    },
    {
      "cell_type": "markdown",
      "source": [
        "Висновок:\n",
        "Точність - 80.1% на валідації, на тесті - 82.1%.\n",
        "n_epoch=7;\n",
        "lr=0,001;\n",
        "batch_size=128\n",
        "Trainable params: 322,113"
      ],
      "metadata": {
        "id": "GVGYjYDvFW7v"
      }
    },
    {
      "cell_type": "markdown",
      "source": [
        "**Побудова GRU моделі**"
      ],
      "metadata": {
        "id": "uEV-krWEHODE"
      }
    },
    {
      "cell_type": "code",
      "source": [
        "model_RNN_GRU = Sequential()\n",
        "# Створення порожньої моделі Sequential\n",
        "\n",
        "# Додавання Embedding шару для перетворення слів в вектори фіксованої довжини\n",
        "model_RNN_GRU.add(Embedding(max_features, 32))\n",
        "# Параметри: кількість слів для розгляду як особливості та розмір вектора, що представляє кожне слово\n",
        "\n",
        "# Додавання GRU шару з 32 вузлами\n",
        "model_RNN_GRU.add(GRU(32))\n",
        "# Параметр: кількість вузлів (розмір прихованого стану)\n",
        "\n",
        "# Додавання Dense шару з одним вузлом та активацією sigmoid\n",
        "model_RNN_GRU.add(Dense(1, activation='sigmoid'))\n",
        "# Параметри: кількість вузлів (вихідний розмір) та функція активації (sigmoid для бінарної класифікації)"
      ],
      "metadata": {
        "id": "w0yOZ6SCHQ4P"
      },
      "execution_count": 27,
      "outputs": []
    },
    {
      "cell_type": "code",
      "source": [
        "# Замінимо колбек ModelCheckpoint, щоб зберегти найкращу модель за кожним епохом\n",
        "model_checkpoint_callback = ModelCheckpoint(path+'/HW_11_best_model_RNN_GRU.h5', monitor='val_accuracy', mode='max', save_best_only=True, verbose=1)\n",
        "\n",
        "# Додамо новий монітор\n",
        "wandb.init(project=\"HW_11_RNN_GRU\", config={\"lr\": lr, \"n_epochs\": n_epochs, \"batch_size\": batch_size})"
      ],
      "metadata": {
        "colab": {
          "base_uri": "https://localhost:8080/",
          "height": 543
        },
        "id": "j9pmULvlHYdR",
        "outputId": "c228b011-1fe3-40df-9a54-e011a3e18107"
      },
      "execution_count": 28,
      "outputs": [
        {
          "output_type": "stream",
          "name": "stderr",
          "text": [
            "\u001b[34m\u001b[1mwandb\u001b[0m: Currently logged in as: \u001b[33mondatra410\u001b[0m. Use \u001b[1m`wandb login --relogin`\u001b[0m to force relogin\n"
          ]
        },
        {
          "output_type": "display_data",
          "data": {
            "text/plain": [
              "<IPython.core.display.HTML object>"
            ],
            "text/html": [
              "Tracking run with wandb version 0.15.12"
            ]
          },
          "metadata": {}
        },
        {
          "output_type": "display_data",
          "data": {
            "text/plain": [
              "<IPython.core.display.HTML object>"
            ],
            "text/html": [
              "Run data is saved locally in <code>/content/wandb/run-20231026_175232-svr5d8iv</code>"
            ]
          },
          "metadata": {}
        },
        {
          "output_type": "display_data",
          "data": {
            "text/plain": [
              "<IPython.core.display.HTML object>"
            ],
            "text/html": [
              "Syncing run <strong><a href='https://wandb.ai/ondatra410/HW_11_RNN_GRU/runs/svr5d8iv' target=\"_blank\">silvery-plasma-1</a></strong> to <a href='https://wandb.ai/ondatra410/HW_11_RNN_GRU' target=\"_blank\">Weights & Biases</a> (<a href='https://wandb.me/run' target=\"_blank\">docs</a>)<br/>"
            ]
          },
          "metadata": {}
        },
        {
          "output_type": "display_data",
          "data": {
            "text/plain": [
              "<IPython.core.display.HTML object>"
            ],
            "text/html": [
              " View project at <a href='https://wandb.ai/ondatra410/HW_11_RNN_GRU' target=\"_blank\">https://wandb.ai/ondatra410/HW_11_RNN_GRU</a>"
            ]
          },
          "metadata": {}
        },
        {
          "output_type": "display_data",
          "data": {
            "text/plain": [
              "<IPython.core.display.HTML object>"
            ],
            "text/html": [
              " View run at <a href='https://wandb.ai/ondatra410/HW_11_RNN_GRU/runs/svr5d8iv' target=\"_blank\">https://wandb.ai/ondatra410/HW_11_RNN_GRU/runs/svr5d8iv</a>"
            ]
          },
          "metadata": {}
        },
        {
          "output_type": "execute_result",
          "data": {
            "text/html": [
              "<button onClick=\"this.nextSibling.style.display='block';this.style.display='none';\">Display W&B run</button><iframe src='https://wandb.ai/ondatra410/HW_11_RNN_GRU/runs/svr5d8iv?jupyter=true' style='border:none;width:100%;height:420px;display:none;'></iframe>"
            ],
            "text/plain": [
              "<wandb.sdk.wandb_run.Run at 0x7d58981c1390>"
            ]
          },
          "metadata": {},
          "execution_count": 28
        }
      ]
    },
    {
      "cell_type": "code",
      "source": [
        "callbacks=[early_stopping_callback, model_checkpoint_callback, WandbMetricsLogger()]"
      ],
      "metadata": {
        "id": "nXezCjGvHjZr"
      },
      "execution_count": 29,
      "outputs": []
    },
    {
      "cell_type": "code",
      "source": [
        "model_RNN_GRU.compile(optimizer=Adam(learning_rate=lr), loss='binary_crossentropy', metrics=['accuracy'])"
      ],
      "metadata": {
        "id": "MiWzzezXHl9D"
      },
      "execution_count": 30,
      "outputs": []
    },
    {
      "cell_type": "code",
      "source": [
        "model_RNN_GRU.summary()"
      ],
      "metadata": {
        "colab": {
          "base_uri": "https://localhost:8080/"
        },
        "id": "JhU0Ldk4Hnb9",
        "outputId": "9d938b7c-e377-4aac-8c5a-1241e908766c"
      },
      "execution_count": 31,
      "outputs": [
        {
          "output_type": "stream",
          "name": "stdout",
          "text": [
            "Model: \"sequential_1\"\n",
            "_________________________________________________________________\n",
            " Layer (type)                Output Shape              Param #   \n",
            "=================================================================\n",
            " embedding_1 (Embedding)     (None, None, 32)          320000    \n",
            "                                                                 \n",
            " gru (GRU)                   (None, 32)                6336      \n",
            "                                                                 \n",
            " dense_1 (Dense)             (None, 1)                 33        \n",
            "                                                                 \n",
            "=================================================================\n",
            "Total params: 326369 (1.24 MB)\n",
            "Trainable params: 326369 (1.24 MB)\n",
            "Non-trainable params: 0 (0.00 Byte)\n",
            "_________________________________________________________________\n"
          ]
        }
      ]
    },
    {
      "cell_type": "code",
      "source": [
        "history_RNN_GRU = model_RNN_GRU.fit(\n",
        "    input_train, train_labels,\n",
        "    epochs=n_epochs,\n",
        "    batch_size=batch_size,\n",
        "    validation_split=0.3,\n",
        "    callbacks=callbacks)\n",
        "# Запускаємо навчання моделі на тренувальних даних з розбиттям на тренувальну та валідаційну підмножини"
      ],
      "metadata": {
        "colab": {
          "base_uri": "https://localhost:8080/"
        },
        "id": "qKsRwd1NHzwG",
        "outputId": "33684c85-bbae-4656-f828-398950ee5429"
      },
      "execution_count": 32,
      "outputs": [
        {
          "output_type": "stream",
          "name": "stdout",
          "text": [
            "Epoch 1/7\n",
            "137/137 [==============================] - ETA: 0s - loss: 0.5732 - accuracy: 0.6791\n",
            "Epoch 1: val_accuracy improved from -inf to 0.83067, saving model to /content/drive/MyDrive/Colab_Notebooks/HW_11_data/HW_11_best_model_RNN_GRU.h5\n",
            "137/137 [==============================] - 58s 402ms/step - loss: 0.5732 - accuracy: 0.6791 - val_loss: 0.3831 - val_accuracy: 0.8307\n",
            "Epoch 2/7\n"
          ]
        },
        {
          "output_type": "stream",
          "name": "stderr",
          "text": [
            "/usr/local/lib/python3.10/dist-packages/keras/src/engine/training.py:3079: UserWarning: You are saving your model as an HDF5 file via `model.save()`. This file format is considered legacy. We recommend using instead the native Keras format, e.g. `model.save('my_model.keras')`.\n",
            "  saving_api.save_model(\n"
          ]
        },
        {
          "output_type": "stream",
          "name": "stdout",
          "text": [
            "137/137 [==============================] - ETA: 0s - loss: 0.2984 - accuracy: 0.8754\n",
            "Epoch 2: val_accuracy improved from 0.83067 to 0.85947, saving model to /content/drive/MyDrive/Colab_Notebooks/HW_11_data/HW_11_best_model_RNN_GRU.h5\n",
            "137/137 [==============================] - 58s 427ms/step - loss: 0.2984 - accuracy: 0.8754 - val_loss: 0.3331 - val_accuracy: 0.8595\n",
            "Epoch 3/7\n",
            "137/137 [==============================] - ETA: 0s - loss: 0.2093 - accuracy: 0.9210\n",
            "Epoch 3: val_accuracy did not improve from 0.85947\n",
            "137/137 [==============================] - 54s 394ms/step - loss: 0.2093 - accuracy: 0.9210 - val_loss: 0.3694 - val_accuracy: 0.8524\n",
            "Epoch 4/7\n",
            "137/137 [==============================] - ETA: 0s - loss: 0.1595 - accuracy: 0.9441\n",
            "Epoch 4: val_accuracy improved from 0.85947 to 0.86067, saving model to /content/drive/MyDrive/Colab_Notebooks/HW_11_data/HW_11_best_model_RNN_GRU.h5\n",
            "137/137 [==============================] - 51s 372ms/step - loss: 0.1595 - accuracy: 0.9441 - val_loss: 0.3590 - val_accuracy: 0.8607\n",
            "Epoch 5/7\n",
            "137/137 [==============================] - ETA: 0s - loss: 0.1219 - accuracy: 0.9598\n",
            "Epoch 5: val_accuracy improved from 0.86067 to 0.86307, saving model to /content/drive/MyDrive/Colab_Notebooks/HW_11_data/HW_11_best_model_RNN_GRU.h5\n",
            "137/137 [==============================] - 51s 369ms/step - loss: 0.1219 - accuracy: 0.9598 - val_loss: 0.4044 - val_accuracy: 0.8631\n",
            "Epoch 6/7\n",
            "137/137 [==============================] - ETA: 0s - loss: 0.1013 - accuracy: 0.9679\n",
            "Epoch 6: val_accuracy did not improve from 0.86307\n",
            "137/137 [==============================] - 52s 378ms/step - loss: 0.1013 - accuracy: 0.9679 - val_loss: 0.4505 - val_accuracy: 0.8577\n",
            "Epoch 7/7\n",
            "137/137 [==============================] - ETA: 0s - loss: 0.0831 - accuracy: 0.9740\n",
            "Epoch 7: val_accuracy did not improve from 0.86307\n",
            "137/137 [==============================] - 53s 390ms/step - loss: 0.0831 - accuracy: 0.9740 - val_loss: 0.4754 - val_accuracy: 0.8528\n"
          ]
        }
      ]
    },
    {
      "cell_type": "code",
      "source": [
        "# Графіки для точності та втрат\n",
        "plt.plot(history_RNN_GRU.history['accuracy'], label='Точність на тренуванні')\n",
        "plt.plot(history_RNN_GRU.history['val_accuracy'], label='Точність на валідації')\n",
        "plt.plot(history_RNN_GRU.history['loss'], label='Втрати на тренуванні')\n",
        "plt.plot(history_RNN_GRU.history['val_loss'], label='Втрати на валідації')\n",
        "plt.legend()\n",
        "plt.show()"
      ],
      "metadata": {
        "colab": {
          "base_uri": "https://localhost:8080/",
          "height": 437
        },
        "id": "LZJbJKBlJYs5",
        "outputId": "6668a6a7-1cff-4fe9-f711-562e7ebb188f"
      },
      "execution_count": 33,
      "outputs": [
        {
          "output_type": "display_data",
          "data": {
            "text/plain": [
              "<Figure size 640x480 with 1 Axes>"
            ],
            "image/png": "[encoded data removed]"
          },
          "metadata": {}
        }
      ]
    },
    {
      "cell_type": "code",
      "source": [
        "# Завантаження кращої збереженої моделі\n",
        "best_model_RNN_GRU = load_model(path+'/HW_11_best_model_RNN_GRU.h5')\n",
        "\n",
        "# Тестування на тестових даних\n",
        "test_loss, test_accuracy = best_model_RNN_GRU.evaluate(input_test, test_labels)\n",
        "best_of_models.update({\"best_model_RNN_GRU\": test_accuracy})\n",
        "\n",
        "print(f\"Втрати на тестовому наборі: {test_loss:.4f}\")\n",
        "print(f\"Точність на тестовому наборі: {test_accuracy:.4f}\")"
      ],
      "metadata": {
        "colab": {
          "base_uri": "https://localhost:8080/"
        },
        "id": "04XtcCqSJbmE",
        "outputId": "9a6af49d-df66-42b6-cbd9-c8c8f83af11c"
      },
      "execution_count": 34,
      "outputs": [
        {
          "output_type": "stream",
          "name": "stdout",
          "text": [
            "782/782 [==============================] - 40s 48ms/step - loss: 0.4286 - accuracy: 0.8527\n",
            "Втрати на тестовому наборі: 0.4286\n",
            "Точність на тестовому наборі: 0.8527\n"
          ]
        }
      ]
    },
    {
      "cell_type": "code",
      "source": [
        "# Прогнозування з використанням навченої моделі:\n",
        "\n",
        "predictions = best_model_RNN_GRU.predict(input_test)\n",
        "\n",
        "# Для отримання зрозумілішого вигляду прогнозів, їх можна перетворити в бінарний формат:\n",
        "binary_predictions = [1 if pred > 0.5 else 0 for pred in predictions]\n",
        "\n",
        "# Для порівняння можна вивести деякі прогнозовані значення поряд з фактичними значеннями\n",
        "for i in range(10):\n",
        "    print(f\"Прогнозоване: {binary_predictions[i]}, Фактичне: {test_labels[i]}\")"
      ],
      "metadata": {
        "colab": {
          "base_uri": "https://localhost:8080/"
        },
        "id": "fQnMWpbcKzOr",
        "outputId": "98c267ee-48d9-4f4d-8830-013987db36bb"
      },
      "execution_count": 35,
      "outputs": [
        {
          "output_type": "stream",
          "name": "stdout",
          "text": [
            "782/782 [==============================] - 37s 46ms/step\n",
            "Прогнозоване: 0, Фактичне: 0\n",
            "Прогнозоване: 1, Фактичне: 1\n",
            "Прогнозоване: 1, Фактичне: 1\n",
            "Прогнозоване: 1, Фактичне: 0\n",
            "Прогнозоване: 1, Фактичне: 1\n",
            "Прогнозоване: 1, Фактичне: 1\n",
            "Прогнозоване: 1, Фактичне: 1\n",
            "Прогнозоване: 0, Фактичне: 0\n",
            "Прогнозоване: 1, Фактичне: 0\n",
            "Прогнозоване: 1, Фактичне: 1\n"
          ]
        }
      ]
    },
    {
      "cell_type": "code",
      "source": [
        "# Побудуємо confusion_matrix\n",
        "confusion_mat = confusion_matrix(test_labels, binary_predictions)\n",
        "\n",
        "\n",
        "# Використання Seaborn для візуалізації теплової карти\n",
        "sns.set(font_scale=1.2)\n",
        "sns.heatmap(confusion_mat, annot=True, fmt=\"d\", cmap=\"Oranges\", linewidths=1, linecolor=\"black\",\n",
        "            xticklabels=[\"Predicted Negative\", \"Predicted Positive\"],\n",
        "            yticklabels=[\"Actual Negative\", \"Actual Positive\"])\n",
        "plt.xlabel(\"Predicted\")\n",
        "plt.ylabel(\"Actual\")\n",
        "plt.title(\"Confusion Matrix\")\n",
        "plt.show()"
      ],
      "metadata": {
        "colab": {
          "base_uri": "https://localhost:8080/",
          "height": 485
        },
        "id": "hFHzD8T6MEdf",
        "outputId": "1ed4a1e6-1dff-4270-b865-092b0bf2b069"
      },
      "execution_count": 36,
      "outputs": [
        {
          "output_type": "display_data",
          "data": {
            "text/plain": [
              "<Figure size 640x480 with 2 Axes>"
            ],
            "image/png": "[encoded data removed]"
          },
          "metadata": {}
        }
      ]
    },
    {
      "cell_type": "code",
      "source": [
        "wandb.finish()"
      ],
      "metadata": {
        "colab": {
          "base_uri": "https://localhost:8080/",
          "height": 311
        },
        "id": "D93zdnGkMHPz",
        "outputId": "bc5236f3-b33c-4c90-f092-0ece3fa9f374"
      },
      "execution_count": 37,
      "outputs": [
        {
          "output_type": "display_data",
          "data": {
            "text/plain": [
              "<IPython.core.display.HTML object>"
            ],
            "text/html": [
              "Waiting for W&B process to finish... <strong style=\"color:green\">(success).</strong>"
            ]
          },
          "metadata": {}
        },
        {
          "output_type": "display_data",
          "data": {
            "text/plain": [
              "<IPython.core.display.HTML object>"
            ],
            "text/html": [
              "<style>\n",
              "    table.wandb td:nth-child(1) { padding: 0 10px; text-align: left ; width: auto;} td:nth-child(2) {text-align: left ; width: 100%}\n",
              "    .wandb-row { display: flex; flex-direction: row; flex-wrap: wrap; justify-content: flex-start; width: 100% }\n",
              "    .wandb-col { display: flex; flex-direction: column; flex-basis: 100%; flex: 1; padding: 10px; }\n",
              "    </style>\n",
              "<div class=\"wandb-row\"><div class=\"wandb-col\"><h3>Run history:</h3><br/><table class=\"wandb\"><tr><td>epoch/accuracy</td><td>▁▆▇▇███</td></tr><tr><td>epoch/epoch</td><td>▁▂▃▅▆▇█</td></tr><tr><td>epoch/learning_rate</td><td>▁▁▁▁▁▁▁</td></tr><tr><td>epoch/loss</td><td>█▄▃▂▂▁▁</td></tr><tr><td>epoch/val_accuracy</td><td>▁▇▆▇█▇▆</td></tr><tr><td>epoch/val_loss</td><td>▃▁▃▂▅▇█</td></tr></table><br/></div><div class=\"wandb-col\"><h3>Run summary:</h3><br/><table class=\"wandb\"><tr><td>epoch/accuracy</td><td>0.974</td></tr><tr><td>epoch/epoch</td><td>6</td></tr><tr><td>epoch/learning_rate</td><td>0.001</td></tr><tr><td>epoch/loss</td><td>0.08308</td></tr><tr><td>epoch/val_accuracy</td><td>0.8528</td></tr><tr><td>epoch/val_loss</td><td>0.47543</td></tr></table><br/></div></div>"
            ]
          },
          "metadata": {}
        },
        {
          "output_type": "display_data",
          "data": {
            "text/plain": [
              "<IPython.core.display.HTML object>"
            ],
            "text/html": [
              " View run <strong style=\"color:#cdcd00\">silvery-plasma-1</strong> at: <a href='https://wandb.ai/ondatra410/HW_11_RNN_GRU/runs/svr5d8iv' target=\"_blank\">https://wandb.ai/ondatra410/HW_11_RNN_GRU/runs/svr5d8iv</a><br/>Synced 5 W&B file(s), 0 media file(s), 0 artifact file(s) and 0 other file(s)"
            ]
          },
          "metadata": {}
        },
        {
          "output_type": "display_data",
          "data": {
            "text/plain": [
              "<IPython.core.display.HTML object>"
            ],
            "text/html": [
              "Find logs at: <code>./wandb/run-20231026_175232-svr5d8iv/logs</code>"
            ]
          },
          "metadata": {}
        }
      ]
    },
    {
      "cell_type": "markdown",
      "source": [
        "Висновок:\n",
        "Точність - 85.3% на валідації, на тесті - 85.2%.\n",
        "n_epoch=7;\n",
        "lr=0,001;\n",
        "batch_size=128\n",
        "Trainable params: 322,113"
      ],
      "metadata": {
        "id": "vtaBYAlkMS_e"
      }
    },
    {
      "cell_type": "markdown",
      "source": [
        "**Побудова моделі LSTM**"
      ],
      "metadata": {
        "id": "d29N3m4sMcCv"
      }
    },
    {
      "cell_type": "code",
      "source": [
        "model_RNN_LSTM = Sequential()\n",
        "# Створення порожньої моделі Sequential\n",
        "\n",
        "# Додавання Embedding шару для перетворення слів в вектори фіксованої довжини\n",
        "model_RNN_LSTM.add(Embedding(max_features, 32))\n",
        "# Параметри: кількість слів для розгляду як особливості та розмір вектора, що представляє кожне слово\n",
        "\n",
        "# Додавання LSTM шару з 32 вузлами\n",
        "model_RNN_LSTM.add(LSTM(32))\n",
        "# Параметр: кількість вузлів (розмір прихованого стану)\n",
        "\n",
        "# Додавання Dense шару з одним вузлом та активацією sigmoid\n",
        "model_RNN_LSTM.add(Dense(1, activation='sigmoid'))\n",
        "# Параметри: кількість вузлів (вихідний розмір) та функція активації (sigmoid для бінарної класифікації)"
      ],
      "metadata": {
        "id": "U-wEJhOOMefM"
      },
      "execution_count": 38,
      "outputs": []
    },
    {
      "cell_type": "code",
      "source": [
        "# Замінимо колбек ModelCheckpoint, щоб зберегти найкращу модель за кожним епохом\n",
        "model_checkpoint_callback = ModelCheckpoint(path+'/HW_11_best_model_RNN_LSTM.h5', monitor='val_accuracy', mode='max', save_best_only=True, verbose=1)"
      ],
      "metadata": {
        "id": "iTSbB3dzMi40"
      },
      "execution_count": 39,
      "outputs": []
    },
    {
      "cell_type": "code",
      "source": [
        "# Додамо новий монітор\n",
        "wandb.init(project=\"HW_11_RNN_LSTM\", config={\"lr\": lr, \"n_epochs\": n_epochs, \"batch_size\": batch_size})"
      ],
      "metadata": {
        "colab": {
          "base_uri": "https://localhost:8080/",
          "height": 525
        },
        "id": "ode2AueoMl7W",
        "outputId": "6f81e0a7-0243-416b-9e5e-bfcef002a3d9"
      },
      "execution_count": 40,
      "outputs": [
        {
          "output_type": "display_data",
          "data": {
            "text/plain": [
              "<IPython.core.display.HTML object>"
            ],
            "text/html": [
              "Tracking run with wandb version 0.15.12"
            ]
          },
          "metadata": {}
        },
        {
          "output_type": "display_data",
          "data": {
            "text/plain": [
              "<IPython.core.display.HTML object>"
            ],
            "text/html": [
              "Run data is saved locally in <code>/content/wandb/run-20231026_181519-wymc4wog</code>"
            ]
          },
          "metadata": {}
        },
        {
          "output_type": "display_data",
          "data": {
            "text/plain": [
              "<IPython.core.display.HTML object>"
            ],
            "text/html": [
              "Syncing run <strong><a href='https://wandb.ai/ondatra410/HW_11_RNN_LSTM/runs/wymc4wog' target=\"_blank\">skilled-resonance-1</a></strong> to <a href='https://wandb.ai/ondatra410/HW_11_RNN_LSTM' target=\"_blank\">Weights & Biases</a> (<a href='https://wandb.me/run' target=\"_blank\">docs</a>)<br/>"
            ]
          },
          "metadata": {}
        },
        {
          "output_type": "display_data",
          "data": {
            "text/plain": [
              "<IPython.core.display.HTML object>"
            ],
            "text/html": [
              " View project at <a href='https://wandb.ai/ondatra410/HW_11_RNN_LSTM' target=\"_blank\">https://wandb.ai/ondatra410/HW_11_RNN_LSTM</a>"
            ]
          },
          "metadata": {}
        },
        {
          "output_type": "display_data",
          "data": {
            "text/plain": [
              "<IPython.core.display.HTML object>"
            ],
            "text/html": [
              " View run at <a href='https://wandb.ai/ondatra410/HW_11_RNN_LSTM/runs/wymc4wog' target=\"_blank\">https://wandb.ai/ondatra410/HW_11_RNN_LSTM/runs/wymc4wog</a>"
            ]
          },
          "metadata": {}
        },
        {
          "output_type": "execute_result",
          "data": {
            "text/html": [
              "<button onClick=\"this.nextSibling.style.display='block';this.style.display='none';\">Display W&B run</button><iframe src='https://wandb.ai/ondatra410/HW_11_RNN_LSTM/runs/wymc4wog?jupyter=true' style='border:none;width:100%;height:420px;display:none;'></iframe>"
            ],
            "text/plain": [
              "<wandb.sdk.wandb_run.Run at 0x7d5896270790>"
            ]
          },
          "metadata": {},
          "execution_count": 40
        }
      ]
    },
    {
      "cell_type": "code",
      "source": [
        "callbacks=[early_stopping_callback, model_checkpoint_callback, WandbMetricsLogger()]\n",
        "\n",
        "model_RNN_LSTM.compile(optimizer=Adam(learning_rate=lr), loss='binary_crossentropy', metrics=['accuracy'])\n",
        "\n",
        "model_RNN_LSTM.summary()"
      ],
      "metadata": {
        "colab": {
          "base_uri": "https://localhost:8080/"
        },
        "id": "iW-13Gk9M0JO",
        "outputId": "ac8e50d2-dec6-4694-880c-cadb6f77f8a3"
      },
      "execution_count": 41,
      "outputs": [
        {
          "output_type": "stream",
          "name": "stdout",
          "text": [
            "Model: \"sequential_2\"\n",
            "_________________________________________________________________\n",
            " Layer (type)                Output Shape              Param #   \n",
            "=================================================================\n",
            " embedding_2 (Embedding)     (None, None, 32)          320000    \n",
            "                                                                 \n",
            " lstm (LSTM)                 (None, 32)                8320      \n",
            "                                                                 \n",
            " dense_2 (Dense)             (None, 1)                 33        \n",
            "                                                                 \n",
            "=================================================================\n",
            "Total params: 328353 (1.25 MB)\n",
            "Trainable params: 328353 (1.25 MB)\n",
            "Non-trainable params: 0 (0.00 Byte)\n",
            "_________________________________________________________________\n"
          ]
        }
      ]
    },
    {
      "cell_type": "code",
      "source": [
        "history_RNN_LSTM = model_RNN_LSTM.fit(\n",
        "    input_train, train_labels,\n",
        "    epochs=n_epochs,\n",
        "    batch_size=batch_size,\n",
        "    validation_split=0.3,\n",
        "    callbacks=callbacks)\n",
        "# Запускаємо навчання моделі на тренувальних даних з розбиттям на тренувальну та валідаційну підмножини"
      ],
      "metadata": {
        "colab": {
          "base_uri": "https://localhost:8080/"
        },
        "id": "4vVAFdKfM5xl",
        "outputId": "418cb4b6-86b1-4229-b5fc-893bb751b876"
      },
      "execution_count": 42,
      "outputs": [
        {
          "output_type": "stream",
          "name": "stdout",
          "text": [
            "Epoch 1/7\n",
            "137/137 [==============================] - ETA: 0s - loss: 0.5109 - accuracy: 0.7427\n",
            "Epoch 1: val_accuracy improved from -inf to 0.85813, saving model to /content/drive/MyDrive/Colab_Notebooks/HW_11_data/HW_11_best_model_RNN_LSTM.h5\n",
            "137/137 [==============================] - 58s 395ms/step - loss: 0.5109 - accuracy: 0.7427 - val_loss: 0.3473 - val_accuracy: 0.8581\n",
            "Epoch 2/7\n"
          ]
        },
        {
          "output_type": "stream",
          "name": "stderr",
          "text": [
            "/usr/local/lib/python3.10/dist-packages/keras/src/engine/training.py:3079: UserWarning: You are saving your model as an HDF5 file via `model.save()`. This file format is considered legacy. We recommend using instead the native Keras format, e.g. `model.save('my_model.keras')`.\n",
            "  saving_api.save_model(\n"
          ]
        },
        {
          "output_type": "stream",
          "name": "stdout",
          "text": [
            "137/137 [==============================] - ETA: 0s - loss: 0.2604 - accuracy: 0.9009\n",
            "Epoch 2: val_accuracy improved from 0.85813 to 0.88280, saving model to /content/drive/MyDrive/Colab_Notebooks/HW_11_data/HW_11_best_model_RNN_LSTM.h5\n",
            "137/137 [==============================] - 56s 411ms/step - loss: 0.2604 - accuracy: 0.9009 - val_loss: 0.2864 - val_accuracy: 0.8828\n",
            "Epoch 3/7\n",
            "137/137 [==============================] - ETA: 0s - loss: 0.1817 - accuracy: 0.9378\n",
            "Epoch 3: val_accuracy improved from 0.88280 to 0.88533, saving model to /content/drive/MyDrive/Colab_Notebooks/HW_11_data/HW_11_best_model_RNN_LSTM.h5\n",
            "137/137 [==============================] - 57s 416ms/step - loss: 0.1817 - accuracy: 0.9378 - val_loss: 0.3010 - val_accuracy: 0.8853\n",
            "Epoch 4/7\n",
            "137/137 [==============================] - ETA: 0s - loss: 0.1632 - accuracy: 0.9442\n",
            "Epoch 4: val_accuracy did not improve from 0.88533\n",
            "137/137 [==============================] - 58s 424ms/step - loss: 0.1632 - accuracy: 0.9442 - val_loss: 0.3439 - val_accuracy: 0.8759\n",
            "Epoch 5/7\n",
            "137/137 [==============================] - ETA: 0s - loss: 0.1187 - accuracy: 0.9615\n",
            "Epoch 5: val_accuracy did not improve from 0.88533\n",
            "137/137 [==============================] - 54s 394ms/step - loss: 0.1187 - accuracy: 0.9615 - val_loss: 0.3495 - val_accuracy: 0.8755\n",
            "Epoch 6/7\n",
            "137/137 [==============================] - ETA: 0s - loss: 0.0975 - accuracy: 0.9687\n",
            "Epoch 6: val_accuracy did not improve from 0.88533\n",
            "137/137 [==============================] - 54s 395ms/step - loss: 0.0975 - accuracy: 0.9687 - val_loss: 0.3879 - val_accuracy: 0.8731\n",
            "Epoch 7/7\n",
            "137/137 [==============================] - ETA: 0s - loss: 0.0779 - accuracy: 0.9765\n",
            "Epoch 7: val_accuracy did not improve from 0.88533\n",
            "137/137 [==============================] - 59s 435ms/step - loss: 0.0779 - accuracy: 0.9765 - val_loss: 0.4220 - val_accuracy: 0.8689\n"
          ]
        }
      ]
    },
    {
      "cell_type": "code",
      "source": [
        "# Графіки для точності та втрат\n",
        "plt.plot(history_RNN_LSTM.history['accuracy'], label='Точність на тренуванні')\n",
        "plt.plot(history_RNN_LSTM.history['val_accuracy'], label='Точність на валідації')\n",
        "plt.plot(history_RNN_LSTM.history['loss'], label='Втрати на тренуванні')\n",
        "plt.plot(history_RNN_LSTM.history['val_loss'], label='Втрати на валідації')\n",
        "plt.legend()\n",
        "plt.show()"
      ],
      "metadata": {
        "colab": {
          "base_uri": "https://localhost:8080/",
          "height": 437
        },
        "id": "EGQG5uomPFC7",
        "outputId": "c49bb64b-3c9d-4fb5-e564-945e618554ce"
      },
      "execution_count": 43,
      "outputs": [
        {
          "output_type": "display_data",
          "data": {
            "text/plain": [
              "<Figure size 640x480 with 1 Axes>"
            ],
            "image/png": "[encoded data removed]"
          },
          "metadata": {}
        }
      ]
    },
    {
      "cell_type": "code",
      "source": [
        "# Завантаження кращої збереженої моделі\n",
        "best_model_RNN_LSTM = load_model(path+'/HW_11_best_model_RNN_LSTM.h5')\n",
        "\n",
        "# Тестування на тестових даних\n",
        "test_loss, test_accuracy = best_model_RNN_LSTM.evaluate(input_test, test_labels)\n",
        "best_of_models.update({\"best_model_RNN_LSTM\": test_accuracy})\n",
        "\n",
        "print(f\"Втрати на тестовому наборі: {test_loss:.4f}\")\n",
        "print(f\"Точність на тестовому наборі: {test_accuracy:.4f}\")"
      ],
      "metadata": {
        "colab": {
          "base_uri": "https://localhost:8080/"
        },
        "id": "pic2afFSPgHn",
        "outputId": "b4b6fdd1-6eb2-467b-c85a-92c0fe0ef705"
      },
      "execution_count": 44,
      "outputs": [
        {
          "output_type": "stream",
          "name": "stdout",
          "text": [
            "782/782 [==============================] - 44s 54ms/step - loss: 0.3295 - accuracy: 0.8710\n",
            "Втрати на тестовому наборі: 0.3295\n",
            "Точність на тестовому наборі: 0.8710\n"
          ]
        }
      ]
    },
    {
      "cell_type": "code",
      "source": [
        "# Прогнозування з використанням навченої моделі:\n",
        "\n",
        "predictions = best_model_RNN_LSTM.predict(input_test)\n",
        "\n",
        "# Для отримання зрозумілішого вигляду прогнозів, їх можна перетворити в бінарний формат:\n",
        "binary_predictions = [1 if pred > 0.5 else 0 for pred in predictions]\n",
        "\n",
        "# Для порівняння можна вивести деякі прогнозовані значення поряд з фактичними значеннями\n",
        "for i in range(10):\n",
        "    print(f\"Прогнозоване: {binary_predictions[i]}, Фактичне: {test_labels[i]}\")"
      ],
      "metadata": {
        "colab": {
          "base_uri": "https://localhost:8080/"
        },
        "id": "2dJ6MqjxPwie",
        "outputId": "82fbd18a-967f-4a4c-9987-67520eac29c2"
      },
      "execution_count": 45,
      "outputs": [
        {
          "output_type": "stream",
          "name": "stdout",
          "text": [
            "782/782 [==============================] - 43s 52ms/step\n",
            "Прогнозоване: 0, Фактичне: 0\n",
            "Прогнозоване: 1, Фактичне: 1\n",
            "Прогнозоване: 1, Фактичне: 1\n",
            "Прогнозоване: 0, Фактичне: 0\n",
            "Прогнозоване: 1, Фактичне: 1\n",
            "Прогнозоване: 1, Фактичне: 1\n",
            "Прогнозоване: 1, Фактичне: 1\n",
            "Прогнозоване: 0, Фактичне: 0\n",
            "Прогнозоване: 1, Фактичне: 0\n",
            "Прогнозоване: 1, Фактичне: 1\n"
          ]
        }
      ]
    },
    {
      "cell_type": "code",
      "source": [
        "# Побудуємо confusion_matrix\n",
        "confusion_mat = confusion_matrix(test_labels, binary_predictions)\n",
        "\n",
        "\n",
        "# Використання Seaborn для візуалізації теплової карти\n",
        "sns.set(font_scale=1.2)\n",
        "sns.heatmap(confusion_mat, annot=True, fmt=\"d\", cmap=\"Oranges\", linewidths=1, linecolor=\"black\",\n",
        "            xticklabels=[\"Predicted Negative\", \"Predicted Positive\"],\n",
        "            yticklabels=[\"Actual Negative\", \"Actual Positive\"])\n",
        "plt.xlabel(\"Predicted\")\n",
        "plt.ylabel(\"Actual\")\n",
        "plt.title(\"Confusion Matrix\")\n",
        "plt.show()"
      ],
      "metadata": {
        "colab": {
          "base_uri": "https://localhost:8080/",
          "height": 485
        },
        "id": "TVpODmZwP9Zx",
        "outputId": "ecd6e3f7-805e-454c-c7a9-4d9bdf322223"
      },
      "execution_count": 46,
      "outputs": [
        {
          "output_type": "display_data",
          "data": {
            "text/plain": [
              "<Figure size 640x480 with 2 Axes>"
            ],
            "image/png": "[encoded data removed]"
          },
          "metadata": {}
        }
      ]
    },
    {
      "cell_type": "code",
      "source": [
        "wandb.finish()"
      ],
      "metadata": {
        "colab": {
          "base_uri": "https://localhost:8080/",
          "height": 311
        },
        "id": "qU3ZDuH3QAvW",
        "outputId": "330dc22d-da25-49c1-ac91-b784c64d1fe6"
      },
      "execution_count": 47,
      "outputs": [
        {
          "output_type": "display_data",
          "data": {
            "text/plain": [
              "<IPython.core.display.HTML object>"
            ],
            "text/html": [
              "Waiting for W&B process to finish... <strong style=\"color:green\">(success).</strong>"
            ]
          },
          "metadata": {}
        },
        {
          "output_type": "display_data",
          "data": {
            "text/plain": [
              "<IPython.core.display.HTML object>"
            ],
            "text/html": [
              "<style>\n",
              "    table.wandb td:nth-child(1) { padding: 0 10px; text-align: left ; width: auto;} td:nth-child(2) {text-align: left ; width: 100%}\n",
              "    .wandb-row { display: flex; flex-direction: row; flex-wrap: wrap; justify-content: flex-start; width: 100% }\n",
              "    .wandb-col { display: flex; flex-direction: column; flex-basis: 100%; flex: 1; padding: 10px; }\n",
              "    </style>\n",
              "<div class=\"wandb-row\"><div class=\"wandb-col\"><h3>Run history:</h3><br/><table class=\"wandb\"><tr><td>epoch/accuracy</td><td>▁▆▇▇███</td></tr><tr><td>epoch/epoch</td><td>▁▂▃▅▆▇█</td></tr><tr><td>epoch/learning_rate</td><td>▁▁▁▁▁▁▁</td></tr><tr><td>epoch/loss</td><td>█▄▃▂▂▁▁</td></tr><tr><td>epoch/val_accuracy</td><td>▁▇█▆▅▅▄</td></tr><tr><td>epoch/val_loss</td><td>▄▁▂▄▄▆█</td></tr></table><br/></div><div class=\"wandb-col\"><h3>Run summary:</h3><br/><table class=\"wandb\"><tr><td>epoch/accuracy</td><td>0.97646</td></tr><tr><td>epoch/epoch</td><td>6</td></tr><tr><td>epoch/learning_rate</td><td>0.001</td></tr><tr><td>epoch/loss</td><td>0.07789</td></tr><tr><td>epoch/val_accuracy</td><td>0.86893</td></tr><tr><td>epoch/val_loss</td><td>0.42201</td></tr></table><br/></div></div>"
            ]
          },
          "metadata": {}
        },
        {
          "output_type": "display_data",
          "data": {
            "text/plain": [
              "<IPython.core.display.HTML object>"
            ],
            "text/html": [
              " View run <strong style=\"color:#cdcd00\">skilled-resonance-1</strong> at: <a href='https://wandb.ai/ondatra410/HW_11_RNN_LSTM/runs/wymc4wog' target=\"_blank\">https://wandb.ai/ondatra410/HW_11_RNN_LSTM/runs/wymc4wog</a><br/>Synced 5 W&B file(s), 0 media file(s), 0 artifact file(s) and 0 other file(s)"
            ]
          },
          "metadata": {}
        },
        {
          "output_type": "display_data",
          "data": {
            "text/plain": [
              "<IPython.core.display.HTML object>"
            ],
            "text/html": [
              "Find logs at: <code>./wandb/run-20231026_181519-wymc4wog/logs</code>"
            ]
          },
          "metadata": {}
        }
      ]
    },
    {
      "cell_type": "markdown",
      "source": [
        "Висновок:\n",
        "Точність - 86.89% на валідації, на тесті - 87.1%.\n",
        "n_epoch=7;\n",
        "lr=0,001;\n",
        "batch_size=128\n",
        "Trainable params: 322,113"
      ],
      "metadata": {
        "id": "fRmPIOBmQG1F"
      }
    },
    {
      "cell_type": "markdown",
      "source": [
        "**Побудова моделі BRNN LSTM:**"
      ],
      "metadata": {
        "id": "RfI5tXFvQSbA"
      }
    },
    {
      "cell_type": "code",
      "source": [
        "model_BRNN = Sequential()\n",
        "# Створення порожньої моделі Sequential\n",
        "\n",
        "# Додавання Embedding шару для перетворення слів в вектори фіксованої довжини\n",
        "model_BRNN.add(Embedding(max_features, 32))\n",
        "# Параметри: кількість слів для розгляду як особливості та розмір вектора, що представляє кожне слово\n",
        "\n",
        "# Додавання Bidirectional LSTM шару з 32 вузлами\n",
        "model_BRNN.add(Bidirectional(LSTM(32)))\n",
        "# Параметр: кількість вузлів (розмір прихованого стану)\n",
        "\n",
        "# Додавання Dense шару з одним вузлом та активацією sigmoid\n",
        "model_BRNN.add(Dense(1, activation='sigmoid'))\n",
        "# Параметри: кількість вузлів (вихідний розмір) та функція активації (sigmoid для бінарної класифікації)\n",
        "\n",
        "# Замінимо колбек ModelCheckpoint, щоб зберегти найкращу модель за кожним епохом\n",
        "model_checkpoint_callback = ModelCheckpoint(path+'/HW_11_best_model_BRNN.h5', monitor='val_accuracy', mode='max', save_best_only=True, verbose=1)\n",
        "\n",
        "# Додамо новий монітор\n",
        "wandb.init(project=\"HW_11_BRNN\", config={\"lr\": lr, \"n_epochs\": n_epochs, \"batch_size\": batch_size})"
      ],
      "metadata": {
        "colab": {
          "base_uri": "https://localhost:8080/",
          "height": 525
        },
        "id": "TnMATbV0QUTe",
        "outputId": "78d39184-b2fc-40c5-d451-a8cc76677473"
      },
      "execution_count": 48,
      "outputs": [
        {
          "output_type": "display_data",
          "data": {
            "text/plain": [
              "<IPython.core.display.HTML object>"
            ],
            "text/html": [
              "Tracking run with wandb version 0.15.12"
            ]
          },
          "metadata": {}
        },
        {
          "output_type": "display_data",
          "data": {
            "text/plain": [
              "<IPython.core.display.HTML object>"
            ],
            "text/html": [
              "Run data is saved locally in <code>/content/wandb/run-20231026_183134-5hd252bp</code>"
            ]
          },
          "metadata": {}
        },
        {
          "output_type": "display_data",
          "data": {
            "text/plain": [
              "<IPython.core.display.HTML object>"
            ],
            "text/html": [
              "Syncing run <strong><a href='https://wandb.ai/ondatra410/HW_11_BRNN/runs/5hd252bp' target=\"_blank\">fancy-durian-1</a></strong> to <a href='https://wandb.ai/ondatra410/HW_11_BRNN' target=\"_blank\">Weights & Biases</a> (<a href='https://wandb.me/run' target=\"_blank\">docs</a>)<br/>"
            ]
          },
          "metadata": {}
        },
        {
          "output_type": "display_data",
          "data": {
            "text/plain": [
              "<IPython.core.display.HTML object>"
            ],
            "text/html": [
              " View project at <a href='https://wandb.ai/ondatra410/HW_11_BRNN' target=\"_blank\">https://wandb.ai/ondatra410/HW_11_BRNN</a>"
            ]
          },
          "metadata": {}
        },
        {
          "output_type": "display_data",
          "data": {
            "text/plain": [
              "<IPython.core.display.HTML object>"
            ],
            "text/html": [
              " View run at <a href='https://wandb.ai/ondatra410/HW_11_BRNN/runs/5hd252bp' target=\"_blank\">https://wandb.ai/ondatra410/HW_11_BRNN/runs/5hd252bp</a>"
            ]
          },
          "metadata": {}
        },
        {
          "output_type": "execute_result",
          "data": {
            "text/html": [
              "<button onClick=\"this.nextSibling.style.display='block';this.style.display='none';\">Display W&B run</button><iframe src='https://wandb.ai/ondatra410/HW_11_BRNN/runs/5hd252bp?jupyter=true' style='border:none;width:100%;height:420px;display:none;'></iframe>"
            ],
            "text/plain": [
              "<wandb.sdk.wandb_run.Run at 0x7d5894026710>"
            ]
          },
          "metadata": {},
          "execution_count": 48
        }
      ]
    },
    {
      "cell_type": "code",
      "source": [
        "callbacks=[early_stopping_callback, model_checkpoint_callback, WandbMetricsLogger()]"
      ],
      "metadata": {
        "id": "ed7Y81jLQdP8"
      },
      "execution_count": 49,
      "outputs": []
    },
    {
      "cell_type": "code",
      "source": [
        "model_BRNN.compile(optimizer=Adam(learning_rate=lr), loss='binary_crossentropy', metrics=['accuracy'])"
      ],
      "metadata": {
        "id": "vmS2ZqqWQfbm"
      },
      "execution_count": 50,
      "outputs": []
    },
    {
      "cell_type": "code",
      "source": [
        "model_BRNN.summary()"
      ],
      "metadata": {
        "colab": {
          "base_uri": "https://localhost:8080/"
        },
        "id": "BRe4U84lQhvw",
        "outputId": "9974d303-3917-417d-e66c-945974a41a7e"
      },
      "execution_count": 51,
      "outputs": [
        {
          "output_type": "stream",
          "name": "stdout",
          "text": [
            "Model: \"sequential_3\"\n",
            "_________________________________________________________________\n",
            " Layer (type)                Output Shape              Param #   \n",
            "=================================================================\n",
            " embedding_3 (Embedding)     (None, None, 32)          320000    \n",
            "                                                                 \n",
            " bidirectional (Bidirection  (None, 64)                16640     \n",
            " al)                                                             \n",
            "                                                                 \n",
            " dense_3 (Dense)             (None, 1)                 65        \n",
            "                                                                 \n",
            "=================================================================\n",
            "Total params: 336705 (1.28 MB)\n",
            "Trainable params: 336705 (1.28 MB)\n",
            "Non-trainable params: 0 (0.00 Byte)\n",
            "_________________________________________________________________\n"
          ]
        }
      ]
    },
    {
      "cell_type": "code",
      "source": [
        "history_BRNN = model_BRNN.fit(\n",
        "    input_train, train_labels,\n",
        "    epochs=n_epochs,\n",
        "    batch_size=batch_size,\n",
        "    validation_split=0.3,\n",
        "    callbacks=callbacks)\n",
        "# Запускаємо навчання моделі на тренувальних даних з розбиттям на тренувальну та валідаційну підмножини"
      ],
      "metadata": {
        "colab": {
          "base_uri": "https://localhost:8080/"
        },
        "id": "v4WqWnBuQjxc",
        "outputId": "5a528282-eff1-40f5-8559-e4555fe12006"
      },
      "execution_count": 52,
      "outputs": [
        {
          "output_type": "stream",
          "name": "stdout",
          "text": [
            "Epoch 1/7\n",
            "137/137 [==============================] - ETA: 0s - loss: 0.5501 - accuracy: 0.7151\n",
            "Epoch 1: val_accuracy improved from -inf to 0.84147, saving model to /content/drive/MyDrive/Colab_Notebooks/HW_11_data/HW_11_best_model_BRNN.h5\n",
            "137/137 [==============================] - 108s 750ms/step - loss: 0.5501 - accuracy: 0.7151 - val_loss: 0.3741 - val_accuracy: 0.8415\n",
            "Epoch 2/7\n"
          ]
        },
        {
          "output_type": "stream",
          "name": "stderr",
          "text": [
            "/usr/local/lib/python3.10/dist-packages/keras/src/engine/training.py:3079: UserWarning: You are saving your model as an HDF5 file via `model.save()`. This file format is considered legacy. We recommend using instead the native Keras format, e.g. `model.save('my_model.keras')`.\n",
            "  saving_api.save_model(\n"
          ]
        },
        {
          "output_type": "stream",
          "name": "stdout",
          "text": [
            "137/137 [==============================] - ETA: 0s - loss: 0.2928 - accuracy: 0.8842\n",
            "Epoch 2: val_accuracy improved from 0.84147 to 0.87453, saving model to /content/drive/MyDrive/Colab_Notebooks/HW_11_data/HW_11_best_model_BRNN.h5\n",
            "137/137 [==============================] - 99s 724ms/step - loss: 0.2928 - accuracy: 0.8842 - val_loss: 0.3024 - val_accuracy: 0.8745\n",
            "Epoch 3/7\n",
            "137/137 [==============================] - ETA: 0s - loss: 0.2119 - accuracy: 0.9243\n",
            "Epoch 3: val_accuracy improved from 0.87453 to 0.87733, saving model to /content/drive/MyDrive/Colab_Notebooks/HW_11_data/HW_11_best_model_BRNN.h5\n",
            "137/137 [==============================] - 104s 761ms/step - loss: 0.2119 - accuracy: 0.9243 - val_loss: 0.3005 - val_accuracy: 0.8773\n",
            "Epoch 4/7\n",
            "137/137 [==============================] - ETA: 0s - loss: 0.1872 - accuracy: 0.9350\n",
            "Epoch 4: val_accuracy did not improve from 0.87733\n",
            "137/137 [==============================] - 98s 713ms/step - loss: 0.1872 - accuracy: 0.9350 - val_loss: 0.3167 - val_accuracy: 0.8733\n",
            "Epoch 5/7\n",
            "137/137 [==============================] - ETA: 0s - loss: 0.1305 - accuracy: 0.9567\n",
            "Epoch 5: val_accuracy did not improve from 0.87733\n",
            "137/137 [==============================] - 95s 697ms/step - loss: 0.1305 - accuracy: 0.9567 - val_loss: 0.3299 - val_accuracy: 0.8693\n",
            "Epoch 6/7\n",
            "137/137 [==============================] - ETA: 0s - loss: 0.1027 - accuracy: 0.9673\n",
            "Epoch 6: val_accuracy did not improve from 0.87733\n",
            "137/137 [==============================] - 95s 695ms/step - loss: 0.1027 - accuracy: 0.9673 - val_loss: 0.3518 - val_accuracy: 0.8675\n",
            "Epoch 7/7\n",
            "137/137 [==============================] - ETA: 0s - loss: 0.0827 - accuracy: 0.9748\n",
            "Epoch 7: val_accuracy did not improve from 0.87733\n",
            "137/137 [==============================] - 95s 696ms/step - loss: 0.0827 - accuracy: 0.9748 - val_loss: 0.3809 - val_accuracy: 0.8683\n"
          ]
        }
      ]
    },
    {
      "cell_type": "code",
      "source": [
        "# Графіки для точності та втрат\n",
        "plt.plot(history_BRNN.history['accuracy'], label='Точність на тренуванні')\n",
        "plt.plot(history_BRNN.history['val_accuracy'], label='Точність на валідації')\n",
        "plt.plot(history_BRNN.history['loss'], label='Втрати на тренуванні')\n",
        "plt.plot(history_BRNN.history['val_loss'], label='Втрати на валідації')\n",
        "plt.legend()\n",
        "plt.show()"
      ],
      "metadata": {
        "colab": {
          "base_uri": "https://localhost:8080/",
          "height": 437
        },
        "id": "_8JyQqrlToBs",
        "outputId": "4749dde1-996c-494c-b069-70cdf6f6f708"
      },
      "execution_count": 53,
      "outputs": [
        {
          "output_type": "display_data",
          "data": {
            "text/plain": [
              "<Figure size 640x480 with 1 Axes>"
            ],
            "image/png": "[encoded data removed]"
          },
          "metadata": {}
        }
      ]
    },
    {
      "cell_type": "code",
      "source": [
        "# Завантаження кращої збереженої моделі\n",
        "best_model_BRNN = load_model(path+'/HW_11_best_model_BRNN.h5')\n",
        "\n",
        "# Тестування на тестових даних\n",
        "test_loss, test_accuracy = best_model_BRNN.evaluate(input_test, test_labels)\n",
        "best_of_models.update({\"best_model_BRNN\": test_accuracy})\n",
        "\n",
        "print(f\"Втрати на тестовому наборі: {test_loss:.4f}\")\n",
        "print(f\"Точність на тестовому наборі: {test_accuracy:.4f}\")"
      ],
      "metadata": {
        "colab": {
          "base_uri": "https://localhost:8080/"
        },
        "id": "lCkC4SGGTqSw",
        "outputId": "3f2865d2-ae45-4785-c7f6-16cb21a2c8e1"
      },
      "execution_count": 54,
      "outputs": [
        {
          "output_type": "stream",
          "name": "stdout",
          "text": [
            "782/782 [==============================] - 69s 86ms/step - loss: 0.3201 - accuracy: 0.8688\n",
            "Втрати на тестовому наборі: 0.3201\n",
            "Точність на тестовому наборі: 0.8688\n"
          ]
        }
      ]
    },
    {
      "cell_type": "code",
      "source": [
        "# Побудуємо confusion_matrix\n",
        "confusion_mat = confusion_matrix(test_labels, binary_predictions)\n",
        "\n",
        "\n",
        "# Використання Seaborn для візуалізації теплової карти\n",
        "sns.set(font_scale=1.2)\n",
        "sns.heatmap(confusion_mat, annot=True, fmt=\"d\", cmap=\"Oranges\", linewidths=1, linecolor=\"black\",\n",
        "            xticklabels=[\"Predicted Negative\", \"Predicted Positive\"],\n",
        "            yticklabels=[\"Actual Negative\", \"Actual Positive\"])\n",
        "plt.xlabel(\"Predicted\")\n",
        "plt.ylabel(\"Actual\")\n",
        "plt.title(\"Confusion Matrix\")\n",
        "plt.show()"
      ],
      "metadata": {
        "colab": {
          "base_uri": "https://localhost:8080/",
          "height": 485
        },
        "id": "a8lXfpP4UFtU",
        "outputId": "c8669f9c-4fe2-414b-afb2-83d853f6b256"
      },
      "execution_count": 55,
      "outputs": [
        {
          "output_type": "display_data",
          "data": {
            "text/plain": [
              "<Figure size 640x480 with 2 Axes>"
            ],
            "image/png": "[encoded data removed]"
          },
          "metadata": {}
        }
      ]
    },
    {
      "cell_type": "code",
      "source": [
        "wandb.finish()"
      ],
      "metadata": {
        "colab": {
          "base_uri": "https://localhost:8080/",
          "height": 311
        },
        "id": "H-D1gVfxUKIs",
        "outputId": "74b1f682-3582-428d-82fa-0bbad9f5ec87"
      },
      "execution_count": 56,
      "outputs": [
        {
          "output_type": "display_data",
          "data": {
            "text/plain": [
              "<IPython.core.display.HTML object>"
            ],
            "text/html": [
              "Waiting for W&B process to finish... <strong style=\"color:green\">(success).</strong>"
            ]
          },
          "metadata": {}
        },
        {
          "output_type": "display_data",
          "data": {
            "text/plain": [
              "<IPython.core.display.HTML object>"
            ],
            "text/html": [
              "<style>\n",
              "    table.wandb td:nth-child(1) { padding: 0 10px; text-align: left ; width: auto;} td:nth-child(2) {text-align: left ; width: 100%}\n",
              "    .wandb-row { display: flex; flex-direction: row; flex-wrap: wrap; justify-content: flex-start; width: 100% }\n",
              "    .wandb-col { display: flex; flex-direction: column; flex-basis: 100%; flex: 1; padding: 10px; }\n",
              "    </style>\n",
              "<div class=\"wandb-row\"><div class=\"wandb-col\"><h3>Run history:</h3><br/><table class=\"wandb\"><tr><td>epoch/accuracy</td><td>▁▆▇▇███</td></tr><tr><td>epoch/epoch</td><td>▁▂▃▅▆▇█</td></tr><tr><td>epoch/learning_rate</td><td>▁▁▁▁▁▁▁</td></tr><tr><td>epoch/loss</td><td>█▄▃▃▂▁▁</td></tr><tr><td>epoch/val_accuracy</td><td>▁▇█▇▆▆▆</td></tr><tr><td>epoch/val_loss</td><td>▇▁▁▂▄▅█</td></tr></table><br/></div><div class=\"wandb-col\"><h3>Run summary:</h3><br/><table class=\"wandb\"><tr><td>epoch/accuracy</td><td>0.9748</td></tr><tr><td>epoch/epoch</td><td>6</td></tr><tr><td>epoch/learning_rate</td><td>0.001</td></tr><tr><td>epoch/loss</td><td>0.08271</td></tr><tr><td>epoch/val_accuracy</td><td>0.86827</td></tr><tr><td>epoch/val_loss</td><td>0.38087</td></tr></table><br/></div></div>"
            ]
          },
          "metadata": {}
        },
        {
          "output_type": "display_data",
          "data": {
            "text/plain": [
              "<IPython.core.display.HTML object>"
            ],
            "text/html": [
              " View run <strong style=\"color:#cdcd00\">fancy-durian-1</strong> at: <a href='https://wandb.ai/ondatra410/HW_11_BRNN/runs/5hd252bp' target=\"_blank\">https://wandb.ai/ondatra410/HW_11_BRNN/runs/5hd252bp</a><br/>Synced 5 W&B file(s), 0 media file(s), 0 artifact file(s) and 0 other file(s)"
            ]
          },
          "metadata": {}
        },
        {
          "output_type": "display_data",
          "data": {
            "text/plain": [
              "<IPython.core.display.HTML object>"
            ],
            "text/html": [
              "Find logs at: <code>./wandb/run-20231026_183134-5hd252bp/logs</code>"
            ]
          },
          "metadata": {}
        }
      ]
    },
    {
      "cell_type": "markdown",
      "source": [
        "Висновок:\n",
        "Точність - 86.8% на валідації, на тесті - 86.8%.\n",
        "n_epoch=7;\n",
        "lr=0,001;\n",
        "batch_size=128\n",
        "Trainable params: 322,113"
      ],
      "metadata": {
        "id": "70UDn8swUOCs"
      }
    },
    {
      "cell_type": "markdown",
      "source": [
        "**Deep BRNN**"
      ],
      "metadata": {
        "id": "5tokdnwlUbL3"
      }
    },
    {
      "cell_type": "code",
      "source": [
        "model_Deep_BRNN = Sequential()\n",
        "# Створення порожньої моделі Sequential\n",
        "\n",
        "# Додавання Embedding шару для перетворення слів в вектори фіксованої довжини\n",
        "model_Deep_BRNN.add(Embedding(max_features, 32))\n",
        "# Параметри: кількість слів для розгляду як особливості та розмір вектора, що представляє кожне слово\n",
        "\n",
        "# Додавання декількох Bidirectional LSTM шару з 32 вузлами\n",
        "model_Deep_BRNN.add(Bidirectional(LSTM(32, return_sequences=True)))\n",
        "model_Deep_BRNN.add(Bidirectional(LSTM(32)))\n",
        "# Параметр: кількість вузлів (розмір прихованого стану) і return_sequences=True для першого шару, щоб надати послідовність як вхід на наступний шар\n",
        "\n",
        "# Додавання Dense шару з одним вузлом та активацією sigmoid\n",
        "model_Deep_BRNN.add(Dense(1, activation='sigmoid'))\n",
        "# Параметри: кількість вузлів (вихідний розмір) та функція активації (sigmoid для бінарної класифікації)\n",
        "\n",
        "\n",
        "# Замінимо колбек ModelCheckpoint, щоб зберегти найкращу модель за кожним епохом\n",
        "model_checkpoint_callback = ModelCheckpoint(path+'/HW_11_best_model_Deep_BRNN.h5', monitor='val_accuracy', mode='max', save_best_only=True, verbose=1)\n",
        "\n",
        "\n",
        "# Додамо новий монітор\n",
        "wandb.init(project=\"HW_11_Deep_BRNN\", config={\"lr\": lr, \"n_epochs\": n_epochs, \"batch_size\": batch_size})"
      ],
      "metadata": {
        "colab": {
          "base_uri": "https://localhost:8080/",
          "height": 525
        },
        "id": "V-FLYcDjUcYJ",
        "outputId": "01335a72-9390-4d06-8a0b-a1fe7e58e5c4"
      },
      "execution_count": 57,
      "outputs": [
        {
          "output_type": "display_data",
          "data": {
            "text/plain": [
              "<IPython.core.display.HTML object>"
            ],
            "text/html": [
              "Tracking run with wandb version 0.15.12"
            ]
          },
          "metadata": {}
        },
        {
          "output_type": "display_data",
          "data": {
            "text/plain": [
              "<IPython.core.display.HTML object>"
            ],
            "text/html": [
              "Run data is saved locally in <code>/content/wandb/run-20231026_184929-accugvj0</code>"
            ]
          },
          "metadata": {}
        },
        {
          "output_type": "display_data",
          "data": {
            "text/plain": [
              "<IPython.core.display.HTML object>"
            ],
            "text/html": [
              "Syncing run <strong><a href='https://wandb.ai/ondatra410/HW_11_Deep_BRNN/runs/accugvj0' target=\"_blank\">smooth-microwave-1</a></strong> to <a href='https://wandb.ai/ondatra410/HW_11_Deep_BRNN' target=\"_blank\">Weights & Biases</a> (<a href='https://wandb.me/run' target=\"_blank\">docs</a>)<br/>"
            ]
          },
          "metadata": {}
        },
        {
          "output_type": "display_data",
          "data": {
            "text/plain": [
              "<IPython.core.display.HTML object>"
            ],
            "text/html": [
              " View project at <a href='https://wandb.ai/ondatra410/HW_11_Deep_BRNN' target=\"_blank\">https://wandb.ai/ondatra410/HW_11_Deep_BRNN</a>"
            ]
          },
          "metadata": {}
        },
        {
          "output_type": "display_data",
          "data": {
            "text/plain": [
              "<IPython.core.display.HTML object>"
            ],
            "text/html": [
              " View run at <a href='https://wandb.ai/ondatra410/HW_11_Deep_BRNN/runs/accugvj0' target=\"_blank\">https://wandb.ai/ondatra410/HW_11_Deep_BRNN/runs/accugvj0</a>"
            ]
          },
          "metadata": {}
        },
        {
          "output_type": "execute_result",
          "data": {
            "text/html": [
              "<button onClick=\"this.nextSibling.style.display='block';this.style.display='none';\">Display W&B run</button><iframe src='https://wandb.ai/ondatra410/HW_11_Deep_BRNN/runs/accugvj0?jupyter=true' style='border:none;width:100%;height:420px;display:none;'></iframe>"
            ],
            "text/plain": [
              "<wandb.sdk.wandb_run.Run at 0x7d5894819510>"
            ]
          },
          "metadata": {},
          "execution_count": 57
        }
      ]
    },
    {
      "cell_type": "code",
      "source": [
        "callbacks=[early_stopping_callback, model_checkpoint_callback, WandbMetricsLogger()]\n",
        "model_Deep_BRNN.compile(optimizer=Adam(learning_rate=lr), loss='binary_crossentropy', metrics=['accuracy'])\n",
        "model_Deep_BRNN.summary()"
      ],
      "metadata": {
        "colab": {
          "base_uri": "https://localhost:8080/"
        },
        "id": "GoJsJ-feUi0y",
        "outputId": "1bcaa8f7-2e3d-4d57-ebeb-e1454127ff85"
      },
      "execution_count": 58,
      "outputs": [
        {
          "output_type": "stream",
          "name": "stdout",
          "text": [
            "Model: \"sequential_4\"\n",
            "_________________________________________________________________\n",
            " Layer (type)                Output Shape              Param #   \n",
            "=================================================================\n",
            " embedding_4 (Embedding)     (None, None, 32)          320000    \n",
            "                                                                 \n",
            " bidirectional_1 (Bidirecti  (None, None, 64)          16640     \n",
            " onal)                                                           \n",
            "                                                                 \n",
            " bidirectional_2 (Bidirecti  (None, 64)                24832     \n",
            " onal)                                                           \n",
            "                                                                 \n",
            " dense_4 (Dense)             (None, 1)                 65        \n",
            "                                                                 \n",
            "=================================================================\n",
            "Total params: 361537 (1.38 MB)\n",
            "Trainable params: 361537 (1.38 MB)\n",
            "Non-trainable params: 0 (0.00 Byte)\n",
            "_________________________________________________________________\n"
          ]
        }
      ]
    },
    {
      "cell_type": "code",
      "source": [
        "history_Deep_BRNN = model_Deep_BRNN.fit(\n",
        "    input_train, train_labels,\n",
        "    epochs=n_epochs,\n",
        "    batch_size=batch_size,\n",
        "    validation_split=0.3,\n",
        "    callbacks=callbacks)\n",
        "# Запускаємо навчання моделі на тренувальних даних з розбиттям на тренувальну та валідаційну підмножини"
      ],
      "metadata": {
        "colab": {
          "base_uri": "https://localhost:8080/"
        },
        "id": "qn1QncKyUoS1",
        "outputId": "dbf9f389-30a8-4b1e-c5d9-1ef8909eb8e6"
      },
      "execution_count": 59,
      "outputs": [
        {
          "output_type": "stream",
          "name": "stdout",
          "text": [
            "Epoch 1/7\n",
            "137/137 [==============================] - ETA: 0s - loss: 0.5032 - accuracy: 0.7365\n",
            "Epoch 1: val_accuracy improved from -inf to 0.85000, saving model to /content/drive/MyDrive/Colab_Notebooks/HW_11_data/HW_11_best_model_Deep_BRNN.h5\n",
            "137/137 [==============================] - 228s 2s/step - loss: 0.5032 - accuracy: 0.7365 - val_loss: 0.3556 - val_accuracy: 0.8500\n",
            "Epoch 2/7\n"
          ]
        },
        {
          "output_type": "stream",
          "name": "stderr",
          "text": [
            "/usr/local/lib/python3.10/dist-packages/keras/src/engine/training.py:3079: UserWarning: You are saving your model as an HDF5 file via `model.save()`. This file format is considered legacy. We recommend using instead the native Keras format, e.g. `model.save('my_model.keras')`.\n",
            "  saving_api.save_model(\n"
          ]
        },
        {
          "output_type": "stream",
          "name": "stdout",
          "text": [
            "137/137 [==============================] - ETA: 0s - loss: 0.2544 - accuracy: 0.9013\n",
            "Epoch 2: val_accuracy improved from 0.85000 to 0.89013, saving model to /content/drive/MyDrive/Colab_Notebooks/HW_11_data/HW_11_best_model_Deep_BRNN.h5\n",
            "137/137 [==============================] - 216s 2s/step - loss: 0.2544 - accuracy: 0.9013 - val_loss: 0.2843 - val_accuracy: 0.8901\n",
            "Epoch 3/7\n",
            "137/137 [==============================] - ETA: 0s - loss: 0.1857 - accuracy: 0.9335\n",
            "Epoch 3: val_accuracy did not improve from 0.89013\n",
            "137/137 [==============================] - 231s 2s/step - loss: 0.1857 - accuracy: 0.9335 - val_loss: 0.3073 - val_accuracy: 0.8800\n",
            "Epoch 4/7\n",
            "137/137 [==============================] - ETA: 0s - loss: 0.1223 - accuracy: 0.9593\n",
            "Epoch 4: val_accuracy did not improve from 0.89013\n",
            "137/137 [==============================] - 236s 2s/step - loss: 0.1223 - accuracy: 0.9593 - val_loss: 0.3473 - val_accuracy: 0.8744\n",
            "Epoch 5/7\n",
            "137/137 [==============================] - ETA: 0s - loss: 0.0891 - accuracy: 0.9729\n",
            "Epoch 5: val_accuracy did not improve from 0.89013\n",
            "137/137 [==============================] - 216s 2s/step - loss: 0.0891 - accuracy: 0.9729 - val_loss: 0.4057 - val_accuracy: 0.8569\n",
            "Epoch 6/7\n",
            "137/137 [==============================] - ETA: 0s - loss: 0.0715 - accuracy: 0.9803\n",
            "Epoch 6: val_accuracy did not improve from 0.89013\n",
            "137/137 [==============================] - 232s 2s/step - loss: 0.0715 - accuracy: 0.9803 - val_loss: 0.4482 - val_accuracy: 0.8661\n",
            "Epoch 7/7\n",
            "137/137 [==============================] - ETA: 0s - loss: 0.0637 - accuracy: 0.9826\n",
            "Epoch 7: val_accuracy did not improve from 0.89013\n",
            "137/137 [==============================] - 231s 2s/step - loss: 0.0637 - accuracy: 0.9826 - val_loss: 0.4807 - val_accuracy: 0.8731\n",
            "Epoch 7: early stopping\n"
          ]
        }
      ]
    },
    {
      "cell_type": "code",
      "source": [
        "# Графіки для точності та втрат\n",
        "plt.plot(history_Deep_BRNN.history['accuracy'], label='Точність на тренуванні')\n",
        "plt.plot(history_Deep_BRNN.history['val_accuracy'], label='Точність на валідації')\n",
        "plt.plot(history_Deep_BRNN.history['loss'], label='Втрати на тренуванні')\n",
        "plt.plot(history_Deep_BRNN.history['val_loss'], label='Втрати на валідації')\n",
        "plt.legend()\n",
        "plt.show()"
      ],
      "metadata": {
        "colab": {
          "base_uri": "https://localhost:8080/",
          "height": 437
        },
        "id": "qNSHi5P_a2Jz",
        "outputId": "2ab8c2af-15c2-4f7f-c515-55b505f5a110"
      },
      "execution_count": 60,
      "outputs": [
        {
          "output_type": "display_data",
          "data": {
            "text/plain": [
              "<Figure size 640x480 with 1 Axes>"
            ],
            "image/png": "[encoded data removed]"
          },
          "metadata": {}
        }
      ]
    },
    {
      "cell_type": "code",
      "source": [
        "# Завантаження кращої збереженої моделі\n",
        "best_model_Deep_BRNN = load_model(path+'/HW_11_best_model_Deep_BRNN.h5')\n",
        "\n",
        "# Тестування на тестових даних\n",
        "test_loss, test_accuracy = best_model_Deep_BRNN.evaluate(input_test, test_labels)\n",
        "best_of_models.update({\"best_model_Deep_BRNN\": test_accuracy})\n",
        "\n",
        "print(f\"Втрати на тестовому наборі: {test_loss:.4f}\")\n",
        "print(f\"Точність на тестовому наборі: {test_accuracy:.4f}\")"
      ],
      "metadata": {
        "colab": {
          "base_uri": "https://localhost:8080/"
        },
        "id": "zzwNJk33bCtN",
        "outputId": "2cbcde7a-6427-4f5a-af50-d326e87bd20b"
      },
      "execution_count": 61,
      "outputs": [
        {
          "output_type": "stream",
          "name": "stdout",
          "text": [
            "782/782 [==============================] - 135s 170ms/step - loss: 0.3051 - accuracy: 0.8750\n",
            "Втрати на тестовому наборі: 0.3051\n",
            "Точність на тестовому наборі: 0.8750\n"
          ]
        }
      ]
    },
    {
      "cell_type": "code",
      "source": [
        "# Прогнозування з використанням навченої моделі:\n",
        "\n",
        "predictions = best_model_Deep_BRNN.predict(input_test)\n",
        "\n",
        "# Для отримання зрозумілішого вигляду прогнозів, їх можна перетворити в бінарний формат:\n",
        "binary_predictions = [1 if pred > 0.5 else 0 for pred in predictions]\n",
        "\n",
        "# Для порівняння можна вивести деякі прогнозовані значення поряд з фактичними значеннями\n",
        "for i in range(10):\n",
        "    print(f\"Прогнозоване: {binary_predictions[i]}, Фактичне: {test_labels[i]}\")"
      ],
      "metadata": {
        "colab": {
          "base_uri": "https://localhost:8080/"
        },
        "id": "gUuwesd-dae-",
        "outputId": "4d22a0d2-2ca7-43f8-c27f-8b9b795989e7"
      },
      "execution_count": 62,
      "outputs": [
        {
          "output_type": "stream",
          "name": "stdout",
          "text": [
            "782/782 [==============================] - 138s 170ms/step\n",
            "Прогнозоване: 0, Фактичне: 0\n",
            "Прогнозоване: 1, Фактичне: 1\n",
            "Прогнозоване: 0, Фактичне: 1\n",
            "Прогнозоване: 0, Фактичне: 0\n",
            "Прогнозоване: 1, Фактичне: 1\n",
            "Прогнозоване: 1, Фактичне: 1\n",
            "Прогнозоване: 1, Фактичне: 1\n",
            "Прогнозоване: 0, Фактичне: 0\n",
            "Прогнозоване: 1, Фактичне: 0\n",
            "Прогнозоване: 1, Фактичне: 1\n"
          ]
        }
      ]
    },
    {
      "cell_type": "code",
      "source": [
        "# Побудуємо confusion_matrix\n",
        "confusion_mat = confusion_matrix(test_labels, binary_predictions)\n",
        "\n",
        "\n",
        "# Використання Seaborn для візуалізації теплової карти\n",
        "sns.set(font_scale=1.2)\n",
        "sns.heatmap(confusion_mat, annot=True, fmt=\"d\", cmap=\"Oranges\", linewidths=1, linecolor=\"black\",\n",
        "            xticklabels=[\"Predicted Negative\", \"Predicted Positive\"],\n",
        "            yticklabels=[\"Actual Negative\", \"Actual Positive\"])\n",
        "plt.xlabel(\"Predicted\")\n",
        "plt.ylabel(\"Actual\")\n",
        "plt.title(\"Confusion Matrix\")\n",
        "plt.show()"
      ],
      "metadata": {
        "colab": {
          "base_uri": "https://localhost:8080/",
          "height": 485
        },
        "id": "swxqTi8AeRdq",
        "outputId": "15d180ba-f020-41f6-f66f-6dbfb1497a4b"
      },
      "execution_count": 63,
      "outputs": [
        {
          "output_type": "display_data",
          "data": {
            "text/plain": [
              "<Figure size 640x480 with 2 Axes>"
            ],
            "image/png": "[encoded data removed]"
          },
          "metadata": {}
        }
      ]
    },
    {
      "cell_type": "code",
      "source": [
        "wandb.finish()"
      ],
      "metadata": {
        "colab": {
          "base_uri": "https://localhost:8080/",
          "height": 375,
          "referenced_widgets": [
            "f2842bd9ea04447d80f21562c3de2669",
            "8d72e30aefcf4fcda1c765f2a1d2cb16",
            "9991114e78a44a0588c71fd14123a078",
            "b3d84cde667a48cfa4234fd5987715cd",
            "0a05b9b236194dc9a2f2ed9860f0f70a",
            "a7a28dc45c5747db924a9a709ba696ba",
            "482eaf9540f04328891c5d94234e01b4",
            "a92e3146dbc34650890c926e985eec6a"
          ]
        },
        "id": "NRgNenEKeWIi",
        "outputId": "f3cbc0db-7f59-4955-b0a4-9b32d44091f6"
      },
      "execution_count": 64,
      "outputs": [
        {
          "output_type": "display_data",
          "data": {
            "text/plain": [
              "<IPython.core.display.HTML object>"
            ],
            "text/html": [
              "Waiting for W&B process to finish... <strong style=\"color:green\">(success).</strong>"
            ]
          },
          "metadata": {}
        },
        {
          "output_type": "display_data",
          "data": {
            "text/plain": [
              "VBox(children=(Label(value='0.001 MB of 0.001 MB uploaded (0.000 MB deduped)\\r'), FloatProgress(value=1.0, max…"
            ],
            "application/vnd.jupyter.widget-view+json": {
              "version_major": 2,
              "version_minor": 0,
              "model_id": "f2842bd9ea04447d80f21562c3de2669"
            }
          },
          "metadata": {}
        },
        {
          "output_type": "display_data",
          "data": {
            "text/plain": [
              "<IPython.core.display.HTML object>"
            ],
            "text/html": [
              "<style>\n",
              "    table.wandb td:nth-child(1) { padding: 0 10px; text-align: left ; width: auto;} td:nth-child(2) {text-align: left ; width: 100%}\n",
              "    .wandb-row { display: flex; flex-direction: row; flex-wrap: wrap; justify-content: flex-start; width: 100% }\n",
              "    .wandb-col { display: flex; flex-direction: column; flex-basis: 100%; flex: 1; padding: 10px; }\n",
              "    </style>\n",
              "<div class=\"wandb-row\"><div class=\"wandb-col\"><h3>Run history:</h3><br/><table class=\"wandb\"><tr><td>epoch/accuracy</td><td>▁▆▇▇███</td></tr><tr><td>epoch/epoch</td><td>▁▂▃▅▆▇█</td></tr><tr><td>epoch/learning_rate</td><td>▁▁▁▁▁▁▁</td></tr><tr><td>epoch/loss</td><td>█▄▃▂▁▁▁</td></tr><tr><td>epoch/val_accuracy</td><td>▁█▆▅▂▄▅</td></tr><tr><td>epoch/val_loss</td><td>▄▁▂▃▅▇█</td></tr></table><br/></div><div class=\"wandb-col\"><h3>Run summary:</h3><br/><table class=\"wandb\"><tr><td>epoch/accuracy</td><td>0.98263</td></tr><tr><td>epoch/epoch</td><td>6</td></tr><tr><td>epoch/learning_rate</td><td>0.001</td></tr><tr><td>epoch/loss</td><td>0.06366</td></tr><tr><td>epoch/val_accuracy</td><td>0.87307</td></tr><tr><td>epoch/val_loss</td><td>0.4807</td></tr></table><br/></div></div>"
            ]
          },
          "metadata": {}
        },
        {
          "output_type": "display_data",
          "data": {
            "text/plain": [
              "<IPython.core.display.HTML object>"
            ],
            "text/html": [
              " View run <strong style=\"color:#cdcd00\">smooth-microwave-1</strong> at: <a href='https://wandb.ai/ondatra410/HW_11_Deep_BRNN/runs/accugvj0' target=\"_blank\">https://wandb.ai/ondatra410/HW_11_Deep_BRNN/runs/accugvj0</a><br/>Synced 5 W&B file(s), 0 media file(s), 0 artifact file(s) and 0 other file(s)"
            ]
          },
          "metadata": {}
        },
        {
          "output_type": "display_data",
          "data": {
            "text/plain": [
              "<IPython.core.display.HTML object>"
            ],
            "text/html": [
              "Find logs at: <code>./wandb/run-20231026_184929-accugvj0/logs</code>"
            ]
          },
          "metadata": {}
        }
      ]
    },
    {
      "cell_type": "markdown",
      "source": [
        "Висновок:\n",
        "Точність - 87.3% на валідації, на тесті - 87.5%.\n",
        "n_epoch=7;\n",
        "lr=0,001;\n",
        "batch_size=128\n",
        "Trainable params: 322,113"
      ],
      "metadata": {
        "id": "lZq_7qLKee2h"
      }
    },
    {
      "cell_type": "code",
      "source": [
        "print(\"Результати тестів всіх побудованих моделей\")\n",
        "for item in best_of_models.items():\n",
        "  print(item)"
      ],
      "metadata": {
        "colab": {
          "base_uri": "https://localhost:8080/"
        },
        "id": "vRixgvHXe-4Y",
        "outputId": "47071882-7223-4a85-924f-d3842906907f"
      },
      "execution_count": 65,
      "outputs": [
        {
          "output_type": "stream",
          "name": "stdout",
          "text": [
            "Результати тестів всіх побудованих моделей\n",
            "('best_model_SimpleRNN', 0.8209599852561951)\n",
            "('best_model_RNN_GRU', 0.8527200222015381)\n",
            "('best_model_RNN_LSTM', 0.8710399866104126)\n",
            "('best_model_BRNN', 0.8688399791717529)\n",
            "('best_model_Deep_BRNN', 0.875)\n"
          ]
        }
      ]
    }
  ]
}