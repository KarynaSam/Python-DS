{
  "nbformat": 4,
  "nbformat_minor": 0,
  "metadata": {
    "colab": {
      "provenance": [],
      "authorship_tag": "ABX9TyOI4BrxSgs+DFlNWIKtfa+Y",
      "include_colab_link": true
    },
    "kernelspec": {
      "name": "python3",
      "display_name": "Python 3"
    },
    "language_info": {
      "name": "python"
    }
  },
  "cells": [
    {
      "cell_type": "markdown",
      "metadata": {
        "id": "view-in-github",
        "colab_type": "text"
      },
      "source": [
        "<a href=\"https://colab.research.google.com/github/KarynaSam/Python-DS/blob/main/HW_1.ipynb\" target=\"_parent\"><img src=\"https://colab.research.google.com/assets/colab-badge.svg\" alt=\"Open In Colab\"/></a>"
      ]
    },
    {
      "cell_type": "markdown",
      "source": [
        "1)Створіть одновимірний масив (вектор) з першими 10-ма натуральними числами та виведіть його значення.\n"
      ],
      "metadata": {
        "id": "zrq6tvhYROSk"
      }
    },
    {
      "cell_type": "code",
      "source": [
        "import numpy as np\n",
        "\n",
        "a = np.arange(10)\n",
        "\n",
        "print(a)"
      ],
      "metadata": {
        "colab": {
          "base_uri": "https://localhost:8080/"
        },
        "id": "zK3nJttBRUhR",
        "outputId": "d68dd71a-5732-445b-ccf7-42fa1fa42adc"
      },
      "execution_count": 1,
      "outputs": [
        {
          "output_type": "stream",
          "name": "stdout",
          "text": [
            "[0 1 2 3 4 5 6 7 8 9]\n"
          ]
        }
      ]
    },
    {
      "cell_type": "markdown",
      "source": [
        "2) Створіть двовимірний масив (матрицю) розміром 3x3, заповніть його нулями та виведіть його значення.\n"
      ],
      "metadata": {
        "id": "xE0GI9NORe0V"
      }
    },
    {
      "cell_type": "code",
      "source": [
        "a = np.zeros((3, 3), dtype=int)\n",
        "print(a)"
      ],
      "metadata": {
        "colab": {
          "base_uri": "https://localhost:8080/"
        },
        "id": "BM_w-Z3GRjvV",
        "outputId": "3c56766e-3ed6-44a3-8d61-9dbf65a459a5"
      },
      "execution_count": 2,
      "outputs": [
        {
          "output_type": "stream",
          "name": "stdout",
          "text": [
            "[[0 0 0]\n",
            " [0 0 0]\n",
            " [0 0 0]]\n"
          ]
        }
      ]
    },
    {
      "cell_type": "markdown",
      "source": [
        "3) Створіть масив розміром 5x5, заповніть його випадковими цілими числами в діапазоні від 1 до 10 та виведіть його значення."
      ],
      "metadata": {
        "id": "alYJP7ygRqYJ"
      }
    },
    {
      "cell_type": "code",
      "source": [
        "a = np.random.randint(1, 10, (5,5), dtype=int)\n",
        "print(a)"
      ],
      "metadata": {
        "colab": {
          "base_uri": "https://localhost:8080/"
        },
        "id": "_pSo2xEDR0Vs",
        "outputId": "0384b731-0468-4db0-dd3e-e7f866fd817e"
      },
      "execution_count": 3,
      "outputs": [
        {
          "output_type": "stream",
          "name": "stdout",
          "text": [
            "[[2 2 2 1 9]\n",
            " [3 6 6 7 2]\n",
            " [2 8 1 7 9]\n",
            " [4 7 1 8 3]\n",
            " [6 6 5 6 8]]\n"
          ]
        }
      ]
    },
    {
      "cell_type": "markdown",
      "source": [
        "4)Створіть масив розміром 4x4, заповніть його випадковими дійсними числами в діапазоні від 0 до 1 та виведіть його значення."
      ],
      "metadata": {
        "id": "Oabwn1QqR4Hd"
      }
    },
    {
      "cell_type": "code",
      "source": [
        "a = np.random.random((4,4))\n",
        "print(a)"
      ],
      "metadata": {
        "colab": {
          "base_uri": "https://localhost:8080/"
        },
        "id": "z3DxntmfR-RF",
        "outputId": "f9cb8ce6-f2b1-4f96-c032-314e9fb3039d"
      },
      "execution_count": 4,
      "outputs": [
        {
          "output_type": "stream",
          "name": "stdout",
          "text": [
            "[[0.44459756 0.01691315 0.42509231 0.26351558]\n",
            " [0.46997718 0.3289777  0.91261632 0.92085217]\n",
            " [0.65368748 0.73674322 0.87736415 0.09702992]\n",
            " [0.15894884 0.27410829 0.27343308 0.36511223]]\n"
          ]
        }
      ]
    },
    {
      "cell_type": "markdown",
      "source": [
        "5)Створіть два одновимірних масиви розміром 5, заповніть їх випадковими цілими числами в діапазоні від 1 до 10 та виконайте на них поелементні операції додавання, віднімання та множення.\n"
      ],
      "metadata": {
        "id": "YbLMxBRESCLE"
      }
    },
    {
      "cell_type": "code",
      "source": [
        "a = np.random.randint(1, 10, (5,), dtype = int)\n",
        "b = np.random.randint(1, 10, (5,), dtype = int)\n",
        "print(a)\n",
        "print(b)\n",
        "print(a+b)\n",
        "print(a-b)\n",
        "print(a*b)"
      ],
      "metadata": {
        "colab": {
          "base_uri": "https://localhost:8080/"
        },
        "id": "CM9OZwH9SFrX",
        "outputId": "0bfa4447-de62-4cc1-dab5-ba3943267536"
      },
      "execution_count": 5,
      "outputs": [
        {
          "output_type": "stream",
          "name": "stdout",
          "text": [
            "[9 2 2 5 9]\n",
            "[5 8 2 3 8]\n",
            "[14 10  4  8 17]\n",
            "[ 4 -6  0  2  1]\n",
            "[45 16  4 15 72]\n"
          ]
        }
      ]
    },
    {
      "cell_type": "markdown",
      "source": [
        "6)Створіть два вектори розміром 7, заповніть довільними числами та знайдіть їх скалярний добуток."
      ],
      "metadata": {
        "id": "ebmXjTlSSOgH"
      }
    },
    {
      "cell_type": "code",
      "source": [
        "a = np.random.randint(1, 10, (5,), dtype = int)\n",
        "b = np.random.randint(1, 10, (5,), dtype = int)\n",
        "\n",
        "print(a.dot(b))"
      ],
      "metadata": {
        "colab": {
          "base_uri": "https://localhost:8080/"
        },
        "id": "iz9O-tRxSSbo",
        "outputId": "9873cef1-0062-4e70-b272-939146c899ad"
      },
      "execution_count": 6,
      "outputs": [
        {
          "output_type": "stream",
          "name": "stdout",
          "text": [
            "105\n"
          ]
        }
      ]
    },
    {
      "cell_type": "markdown",
      "source": [
        "7)Створіть дві матриці розміром 2x2 та 2x3, заповніть їх випадковими цілими числами в діапазоні від 1 до 10 та перемножте їх між собою."
      ],
      "metadata": {
        "id": "1ldkRy5RSWP9"
      }
    },
    {
      "cell_type": "code",
      "source": [
        "a = np.random.randint(1, 10, (2,2), dtype = int)\n",
        "b = np.random.randint(1, 10, (2,3), dtype = int)\n",
        "\n",
        "print(a.dot(b))"
      ],
      "metadata": {
        "colab": {
          "base_uri": "https://localhost:8080/"
        },
        "id": "aJuE4qQzSZ93",
        "outputId": "b4aa648b-d87b-466e-f29b-1564cbc2142d"
      },
      "execution_count": 8,
      "outputs": [
        {
          "output_type": "stream",
          "name": "stdout",
          "text": [
            "[[46 40 54]\n",
            " [37 34 39]]\n"
          ]
        }
      ]
    },
    {
      "cell_type": "markdown",
      "source": [
        "8)Створіть матрицю розміром 3x3, заповніть її випадковими цілими числами в діапазоні від 1 до 10 та знайдіть її обернену матрицю."
      ],
      "metadata": {
        "id": "pehNFKFRSckn"
      }
    },
    {
      "cell_type": "code",
      "source": [
        "a = np.random.randint(1, 10, (3,3), dtype = int)\n",
        "print(np.linalg.inv(a))"
      ],
      "metadata": {
        "colab": {
          "base_uri": "https://localhost:8080/"
        },
        "id": "hTZipKRcSgTz",
        "outputId": "2a968448-567c-4230-9a89-c0bd232653a9"
      },
      "execution_count": 7,
      "outputs": [
        {
          "output_type": "stream",
          "name": "stdout",
          "text": [
            "[[ 0.42982456  0.25438596 -0.54385965]\n",
            " [-0.04385965  0.09649123  0.03508772]\n",
            " [-0.03508772 -0.12280702  0.22807018]]\n"
          ]
        }
      ]
    },
    {
      "cell_type": "markdown",
      "source": [
        "9)Створіть матрицю розміром 4x4, заповніть її випадковими дійсними числами в діапазоні від 0 до 1 та транспонуйте її."
      ],
      "metadata": {
        "id": "oKCHL2NPSk8D"
      }
    },
    {
      "cell_type": "code",
      "source": [
        "a = np.random.random((4,4))\n",
        "print(a.T)"
      ],
      "metadata": {
        "colab": {
          "base_uri": "https://localhost:8080/"
        },
        "id": "PndR5hRbSsuX",
        "outputId": "c65ded88-f50e-474e-8ca2-61eae84add5a"
      },
      "execution_count": 9,
      "outputs": [
        {
          "output_type": "stream",
          "name": "stdout",
          "text": [
            "[[0.6017315  0.77921891 0.03183514 0.99063122]\n",
            " [0.75258039 0.01356832 0.68556874 0.89999078]\n",
            " [0.17296765 0.50184298 0.78294176 0.39239397]\n",
            " [0.63321619 0.16539145 0.9804528  0.41000021]]\n"
          ]
        }
      ]
    },
    {
      "cell_type": "markdown",
      "source": [
        "10)Створіть матрицю розміром 3x4 та вектор розміром 4, заповніть їх випадковими цілими числами в діапазоні від 1 до 10 та перемножте матрицю на вектор."
      ],
      "metadata": {
        "id": "JJkIJ9ibWVDW"
      }
    },
    {
      "cell_type": "code",
      "source": [
        "a = np.random.randint(1, 10, (3,4), dtype=int)\n",
        "b = np.random.randint(1, 10, (4), dtype=int)\n",
        "\n",
        "print(a@b)"
      ],
      "metadata": {
        "colab": {
          "base_uri": "https://localhost:8080/"
        },
        "id": "TcGUJzlJWZYL",
        "outputId": "52636d76-0b3b-44ef-afa2-2553003d8088"
      },
      "execution_count": 10,
      "outputs": [
        {
          "output_type": "stream",
          "name": "stdout",
          "text": [
            "[185 129 183]\n"
          ]
        }
      ]
    },
    {
      "cell_type": "markdown",
      "source": [
        "11)Створіть матрицю розміром 2x3 та вектор розміром 3, заповніть їх випадковими дійсними числами в діапазоні від 0 до 1 та перемножте матрицю на вектор."
      ],
      "metadata": {
        "id": "S8tN3vidWbwR"
      }
    },
    {
      "cell_type": "code",
      "source": [
        "a = np.random.randint(1, 10, (2,3), dtype=int)\n",
        "b = np.random.randint(1, 10, (3), dtype=int)\n",
        "\n",
        "print(a@b)"
      ],
      "metadata": {
        "colab": {
          "base_uri": "https://localhost:8080/"
        },
        "id": "32CRk1MzWhw4",
        "outputId": "e561a08a-d54f-453d-a1d8-2e49b1c4e9e7"
      },
      "execution_count": 11,
      "outputs": [
        {
          "output_type": "stream",
          "name": "stdout",
          "text": [
            "[111 120]\n"
          ]
        }
      ]
    },
    {
      "cell_type": "markdown",
      "source": [
        "12)Створіть дві матриці розміром 2x2, заповніть їх випадковими цілими числами в діапазоні від 1 до 10 та виконайте їхнє поелементне множення."
      ],
      "metadata": {
        "id": "ZzGqeodZWoi2"
      }
    },
    {
      "cell_type": "code",
      "source": [
        "a = np.random.randint(1, 10, (2,2), dtype=int)\n",
        "b = np.random.randint(1, 10, (2,2), dtype=int)\n",
        "\n",
        "print(a*b)"
      ],
      "metadata": {
        "colab": {
          "base_uri": "https://localhost:8080/"
        },
        "id": "5S9I4QtyWsfZ",
        "outputId": "da546845-443e-4a3a-868a-68feb8ec5430"
      },
      "execution_count": 12,
      "outputs": [
        {
          "output_type": "stream",
          "name": "stdout",
          "text": [
            "[[36 54]\n",
            " [ 2 49]]\n"
          ]
        }
      ]
    },
    {
      "cell_type": "markdown",
      "source": [
        "13)Створіть дві матриці розміром 2x2, заповніть їх випадковими цілими числами в діапазоні від 1 до 10 та знайдіть їх добуток."
      ],
      "metadata": {
        "id": "WE8IIcnOWyEJ"
      }
    },
    {
      "cell_type": "code",
      "source": [
        "a = np.random.randint(1, 10, (2,2), dtype=int)\n",
        "b = np.random.randint(1, 10, (2,2), dtype=int)\n",
        "\n",
        "print(a@b)"
      ],
      "metadata": {
        "colab": {
          "base_uri": "https://localhost:8080/"
        },
        "id": "ppJEq3hsW5xS",
        "outputId": "781bbd96-778e-40c2-aee2-7f3b1b020ca3"
      },
      "execution_count": 13,
      "outputs": [
        {
          "output_type": "stream",
          "name": "stdout",
          "text": [
            "[[33 91]\n",
            " [44 63]]\n"
          ]
        }
      ]
    },
    {
      "cell_type": "markdown",
      "source": [
        "14)Створіть матрицю розміром 5x5, заповніть її випадковими цілими числами в діапазоні від 1 до 100 та знайдіть суму елементів матриці."
      ],
      "metadata": {
        "id": "CX3bpimIXCGo"
      }
    },
    {
      "cell_type": "code",
      "source": [
        "a = np.random.randint(1, 100, (5,5), dtype=int)\n",
        "print(np.sum(a))"
      ],
      "metadata": {
        "colab": {
          "base_uri": "https://localhost:8080/"
        },
        "id": "KLPjQ6gRXDXn",
        "outputId": "cb9ffbc6-5463-4499-ee59-aaceff4b196d"
      },
      "execution_count": 14,
      "outputs": [
        {
          "output_type": "stream",
          "name": "stdout",
          "text": [
            "1176\n"
          ]
        }
      ]
    },
    {
      "cell_type": "markdown",
      "source": [
        "15)Створіть дві матриці розміром 4x4, заповніть їх випадковими цілими числами в діапазоні від 1 до 10 та знайдіть їхню різницю."
      ],
      "metadata": {
        "id": "qSNYLSdCXJ0f"
      }
    },
    {
      "cell_type": "code",
      "source": [
        "a = np.random.randint(1, 10, (4,4), dtype=int)\n",
        "b = np.random.randint(1, 10, (4,4), dtype=int)\n",
        "print(np.subtract(a,b))"
      ],
      "metadata": {
        "colab": {
          "base_uri": "https://localhost:8080/"
        },
        "id": "VLQekTLeXMIT",
        "outputId": "589bd8f3-566d-46fa-d8b5-4e7ca134bd63"
      },
      "execution_count": 15,
      "outputs": [
        {
          "output_type": "stream",
          "name": "stdout",
          "text": [
            "[[ 0  0  0  2]\n",
            " [-4 -3  7  8]\n",
            " [-7 -3  3 -5]\n",
            " [-5  5 -4  6]]\n"
          ]
        }
      ]
    },
    {
      "cell_type": "markdown",
      "source": [
        "16)Створіть матрицю розміром 3x3, заповніть її випадковими дійсними числами в діапазоні від 0 до 1 та знайдіть вектор-стовпчик, що містить суму елементів кожного рядка матриці."
      ],
      "metadata": {
        "id": "RoHKfeG3XVDy"
      }
    },
    {
      "cell_type": "code",
      "source": [
        "a = np.random.random((3,3))\n",
        "b = np.array([np.sum(a[:1]), np.sum(a[1:2]), np.sum(a[2:])])\n",
        "c = np.sum(a, axis=1)\n",
        "print(b)\n",
        "print(c)"
      ],
      "metadata": {
        "id": "Yzm4K3qLXssY"
      },
      "execution_count": null,
      "outputs": []
    },
    {
      "cell_type": "markdown",
      "source": [
        "17)Створіть матрицю розміром 3x4 з довільними цілими числами і створінь матрицю з квадратами цих чисел."
      ],
      "metadata": {
        "id": "TfYmslqVXu3P"
      }
    },
    {
      "cell_type": "code",
      "source": [
        "a = np.random.randint(1, 10, (3,4), dtype=int)\n",
        "print(np.square(a))\n",
        "print(np.power(a, 2))"
      ],
      "metadata": {
        "colab": {
          "base_uri": "https://localhost:8080/"
        },
        "id": "eR8Lbb8GYKc2",
        "outputId": "b5a4eff9-968f-4b44-caa5-24afc41424ee"
      },
      "execution_count": 16,
      "outputs": [
        {
          "output_type": "stream",
          "name": "stdout",
          "text": [
            "[[ 1 81 49 49]\n",
            " [ 9 81  1  9]\n",
            " [ 1 49 25 81]]\n",
            "[[ 1 81 49 49]\n",
            " [ 9 81  1  9]\n",
            " [ 1 49 25 81]]\n"
          ]
        }
      ]
    },
    {
      "cell_type": "markdown",
      "source": [
        "18)Створіть вектор розміром 4, заповніть його випадковими цілими числами в діапазоні від 1 до 50 та знайдіть вектор з квадратними коренями цих чисел."
      ],
      "metadata": {
        "id": "uhZWqCrnYObR"
      }
    },
    {
      "cell_type": "code",
      "source": [
        "a = np.random.randint(1, 50, (4), dtype=int)\n",
        "print(np.sqrt(a))\n",
        "print(np.power(a, 1/2))"
      ],
      "metadata": {
        "colab": {
          "base_uri": "https://localhost:8080/"
        },
        "id": "_0rUL71xZQ-z",
        "outputId": "4fb65511-68dd-4253-d66c-626f1c825181"
      },
      "execution_count": 18,
      "outputs": [
        {
          "output_type": "stream",
          "name": "stdout",
          "text": [
            "[6.08276253 5.74456265 2.44948974 2.64575131]\n",
            "[6.08276253 5.74456265 2.44948974 2.64575131]\n"
          ]
        }
      ]
    }
  ]
}